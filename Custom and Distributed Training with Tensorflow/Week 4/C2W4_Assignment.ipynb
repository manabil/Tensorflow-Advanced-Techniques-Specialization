{
  "cells": [
    {
      "cell_type": "markdown",
      "metadata": {
        "id": "view-in-github",
        "colab_type": "text"
      },
      "source": [
        "<a href=\"https://colab.research.google.com/github/manabil/Tensorflow-Advanced-Techniques-Specialization/blob/main/Custom%20and%20Distributed%20Training%20with%20Tensorflow/Week%204/C2W4_Assignment.ipynb\" target=\"_parent\"><img src=\"https://colab.research.google.com/assets/colab-badge.svg\" alt=\"Open In Colab\"/></a>"
      ]
    },
    {
      "cell_type": "markdown",
      "metadata": {
        "id": "jYysdyb-CaWM"
      },
      "source": [
        "# Week 4 Assignment: Custom training with tf.distribute.Strategy\n",
        "\n",
        "Welcome to the final assignment of this course! For this week, you will implement a distribution strategy to train on the [Oxford Flowers 102](https://www.tensorflow.org/datasets/catalog/oxford_flowers102) dataset. As the name suggests, distribution strategies allow you to setup training across multiple devices. We are just using a single device in this lab but the syntax you'll apply should also work when you have a multi-device setup. Let's begin!"
      ]
    },
    {
      "cell_type": "markdown",
      "metadata": {
        "id": "bJhAR6xfFTOo"
      },
      "source": [
        "## Imports"
      ]
    },
    {
      "cell_type": "code",
      "execution_count": 2,
      "metadata": {
        "colab": {
          "base_uri": "https://localhost:8080/"
        },
        "collapsed": true,
        "id": "Oybraax-FTOr",
        "outputId": "139ee175-f0a6-4fe8-8dce-516fd82fd772"
      },
      "outputs": [
        {
          "output_type": "stream",
          "name": "stdout",
          "text": [
            "\u001b[2K     \u001b[90m━━━━━━━━━━━━━━━━━━━━━━━━━━━━━━━━━━━━━━━\u001b[0m \u001b[32m497.6/497.6 MB\u001b[0m \u001b[31m1.4 MB/s\u001b[0m eta \u001b[36m0:00:00\u001b[0m\n",
            "\u001b[2K     \u001b[90m━━━━━━━━━━━━━━━━━━━━━━━━━━━━━━━━━━━━━━━━\u001b[0m \u001b[32m42.6/42.6 kB\u001b[0m \u001b[31m5.2 MB/s\u001b[0m eta \u001b[36m0:00:00\u001b[0m\n",
            "\u001b[2K     \u001b[90m━━━━━━━━━━━━━━━━━━━━━━━━━━━━━━━━━━━━━━━━\u001b[0m \u001b[32m5.8/5.8 MB\u001b[0m \u001b[31m104.6 MB/s\u001b[0m eta \u001b[36m0:00:00\u001b[0m\n",
            "\u001b[2K     \u001b[90m━━━━━━━━━━━━━━━━━━━━━━━━━━━━━━━━━━━━━━\u001b[0m \u001b[32m462.5/462.5 kB\u001b[0m \u001b[31m45.7 MB/s\u001b[0m eta \u001b[36m0:00:00\u001b[0m\n",
            "\u001b[2K     \u001b[90m━━━━━━━━━━━━━━━━━━━━━━━━━━━━━━━━━━━━━━━━\u001b[0m \u001b[32m1.4/1.4 MB\u001b[0m \u001b[31m84.3 MB/s\u001b[0m eta \u001b[36m0:00:00\u001b[0m\n",
            "\u001b[2K     \u001b[90m━━━━━━━━━━━━━━━━━━━━━━━━━━━━━━━━━━━━━━━━\u001b[0m \u001b[32m4.9/4.9 MB\u001b[0m \u001b[31m111.6 MB/s\u001b[0m eta \u001b[36m0:00:00\u001b[0m\n",
            "\u001b[2K     \u001b[90m━━━━━━━━━━━━━━━━━━━━━━━━━━━━━━━━━━━━━━\u001b[0m \u001b[32m781.3/781.3 kB\u001b[0m \u001b[31m59.3 MB/s\u001b[0m eta \u001b[36m0:00:00\u001b[0m\n",
            "\u001b[?25h"
          ]
        }
      ],
      "source": [
        "# Uncomment the following lines if you're running this notebook on Colab. This\n",
        "# is for compatibility with the autograder. No need to run these on Coursera.\n",
        "\n",
        "# !pip install -q tensorflow==2.8.0\n",
        "# !pip install -q keras==2.8.0"
      ]
    },
    {
      "cell_type": "code",
      "execution_count": 3,
      "metadata": {
        "id": "dzLKpmZICaWN"
      },
      "outputs": [],
      "source": [
        "from __future__ import absolute_import, division, print_function\n",
        "from __future__ import unicode_literals\n",
        "\n",
        "import tensorflow as tf\n",
        "import tensorflow_datasets as tfds\n",
        "import tensorflow_hub as hub\n",
        "\n",
        "# Helper libraries\n",
        "import os\n",
        "import zipfile\n",
        "from tqdm import tqdm\n",
        "from typing import Callable, Iterable"
      ]
    },
    {
      "cell_type": "markdown",
      "metadata": {
        "id": "MM6W__qraV55"
      },
      "source": [
        "## Download the dataset"
      ]
    },
    {
      "cell_type": "code",
      "execution_count": 4,
      "metadata": {
        "id": "7NsM-Bma5wNw"
      },
      "outputs": [],
      "source": [
        "tfds.disable_progress_bar()"
      ]
    },
    {
      "cell_type": "code",
      "execution_count": 5,
      "metadata": {
        "id": "7MqDQO0KCaWS",
        "colab": {
          "base_uri": "https://localhost:8080/"
        },
        "outputId": "ead75a84-3f88-4cc4-f860-edb2d0246607"
      },
      "outputs": [
        {
          "output_type": "stream",
          "name": "stdout",
          "text": [
            "Downloading and preparing dataset 328.90 MiB (download: 328.90 MiB, generated: 331.34 MiB, total: 660.25 MiB) to data/oxford_flowers102/2.1.1...\n",
            "Dataset oxford_flowers102 downloaded and prepared to data/oxford_flowers102/2.1.1. Subsequent calls will reuse this data.\n"
          ]
        }
      ],
      "source": [
        "splits: list[str] = ['train[:80%]', 'train[80%:90%]', 'train[90%:]']\n",
        "\n",
        "train_examples: tf.data.Dataset\n",
        "validation_examples: tf.data.Dataset\n",
        "test_examples: tf.data.Dataset\n",
        "info: object\n",
        "(train_examples, validation_examples, test_examples), info = tfds.load(\n",
        "    'oxford_flowers102',\n",
        "    with_info=True,\n",
        "    as_supervised=True,\n",
        "    split = splits,\n",
        "    data_dir='data/'\n",
        ")\n",
        "\n",
        "num_examples: int = info.splits['train'].num_examples\n",
        "num_classes: int = info.features['label'].num_classes"
      ]
    },
    {
      "cell_type": "markdown",
      "metadata": {
        "id": "4AXoHhrsbdF3"
      },
      "source": [
        "## Create a strategy to distribute the variables and the graph"
      ]
    },
    {
      "cell_type": "markdown",
      "metadata": {
        "id": "5mVuLZhbem8d"
      },
      "source": [
        "How does `tf.distribute.MirroredStrategy` strategy work?\n",
        "\n",
        "*   All the variables and the model graph are replicated on the replicas.\n",
        "*   Input is evenly distributed across the replicas.\n",
        "*   Each replica calculates the loss and gradients for the input it received.\n",
        "*   The gradients are synced across all the replicas by summing them.\n",
        "*   After the sync, the same update is made to the copies of the variables on each replica."
      ]
    },
    {
      "cell_type": "code",
      "execution_count": 6,
      "metadata": {
        "id": "F2VeZUWUj5S4"
      },
      "outputs": [],
      "source": [
        "# If the list of devices is not specified in the\n",
        "# `tf.distribute.MirroredStrategy` constructor, it will be auto-detected.\n",
        "strategy: tf.distribute.Strategy = tf.distribute.MirroredStrategy()"
      ]
    },
    {
      "cell_type": "code",
      "execution_count": 7,
      "metadata": {
        "colab": {
          "base_uri": "https://localhost:8080/"
        },
        "id": "ZngeM_2o0_JO",
        "outputId": "1217e29f-fd86-4b85-b67f-b8dca4064b76"
      },
      "outputs": [
        {
          "output_type": "stream",
          "name": "stdout",
          "text": [
            "Number of devices: 1\n"
          ]
        }
      ],
      "source": [
        "print(f'Number of devices: {strategy.num_replicas_in_sync}')"
      ]
    },
    {
      "cell_type": "markdown",
      "metadata": {
        "id": "k53F5I_IiGyI"
      },
      "source": [
        "## Setup input pipeline"
      ]
    },
    {
      "cell_type": "markdown",
      "metadata": {
        "id": "0Qb6nDgxiN_n"
      },
      "source": [
        "Set some constants, including the buffer size, number of epochs, and the image size."
      ]
    },
    {
      "cell_type": "code",
      "execution_count": 8,
      "metadata": {
        "colab": {
          "base_uri": "https://localhost:8080/"
        },
        "id": "jwJtsCQhHK-E",
        "outputId": "3bb9e317-4d03-468f-9629-b40eca31e5a8"
      },
      "outputs": [
        {
          "output_type": "stream",
          "name": "stdout",
          "text": [
            "Using data/resnet_50_feature_vector with input size (224, 224)\n"
          ]
        }
      ],
      "source": [
        "BUFFER_SIZE: int = num_examples\n",
        "EPOCHS: int = 10\n",
        "pixels: int = 224\n",
        "\n",
        "# Path to the model features. Only use this when running the notebook on\n",
        "# Coursera\n",
        "MODULE_HANDLE: str = 'data/resnet_50_feature_vector'\n",
        "\n",
        "# Note: Uncomment the line below if you are running the notebook on Colab\n",
        "# MODULE_HANDLE='https://tfhub.dev/tensorflow/resnet_50/feature_vector/1'\n",
        "\n",
        "IMAGE_SIZE: tuple[int, int] = (pixels, pixels)\n",
        "print(f\"Using {MODULE_HANDLE} with input size {IMAGE_SIZE}\")"
      ]
    },
    {
      "cell_type": "markdown",
      "metadata": {
        "id": "rWUl3kUk8D5d"
      },
      "source": [
        "Define a function to format the image (resizes the image and scales the pixel values to range from [0,1]."
      ]
    },
    {
      "cell_type": "code",
      "execution_count": 9,
      "metadata": {
        "id": "RHGFit478BWD"
      },
      "outputs": [],
      "source": [
        "def format_image(image: tf.Tensor, label: tf.Tensor) -> tuple[tf.Tensor, ...]:\n",
        "    image = tf.image.resize(image, IMAGE_SIZE) / 255.0\n",
        "    return  image, label"
      ]
    },
    {
      "cell_type": "markdown",
      "metadata": {
        "id": "fexkVySsFTPZ"
      },
      "source": [
        "## Set the global batch size (please complete this section)\n",
        "\n",
        "Given the batch size per replica and the strategy, set the global batch size.\n",
        "- The global batch size is the batch size per replica times the number of replicas in the strategy.\n",
        "\n",
        "Hint: You'll want to use the `num_replicas_in_sync` stored in the [strategy](https://www.tensorflow.org/api_docs/python/tf/distribute/Strategy)."
      ]
    },
    {
      "cell_type": "code",
      "execution_count": 10,
      "metadata": {
        "id": "WQ1TanRtFTPc"
      },
      "outputs": [],
      "source": [
        "# GRADED FUNCTION\n",
        "def set_global_batch_size(\n",
        "    batch_size_per_replica: int, strategy: tf.distribute.Strategy\n",
        ") -> int:\n",
        "    '''\n",
        "    Args:\n",
        "        batch_size_per_replica (int) - batch size per replica\n",
        "        strategy (tf.distribute.Strategy) - distribution strategy\n",
        "    '''\n",
        "\n",
        "    # set the global batch size\n",
        "    ### START CODE HERE ###\n",
        "    num_replica: int = strategy.num_replicas_in_sync\n",
        "    global_batch_size: int = batch_size_per_replica * num_replica\n",
        "    ### END CODD HERE ###\n",
        "\n",
        "    return global_batch_size"
      ]
    },
    {
      "cell_type": "markdown",
      "metadata": {
        "id": "G0Gk6ow7FTPe"
      },
      "source": [
        "Set the GLOBAL_BATCH_SIZE with the function that you just defined"
      ]
    },
    {
      "cell_type": "code",
      "execution_count": 11,
      "metadata": {
        "colab": {
          "base_uri": "https://localhost:8080/"
        },
        "id": "esRbsfIXFTPf",
        "outputId": "9ecf2b57-e22a-4d75-9a4a-0029f33278bd"
      },
      "outputs": [
        {
          "output_type": "stream",
          "name": "stdout",
          "text": [
            "64\n"
          ]
        }
      ],
      "source": [
        "BATCH_SIZE_PER_REPLICA: int = 64\n",
        "GLOBAL_BATCH_SIZE: int = set_global_batch_size(BATCH_SIZE_PER_REPLICA, strategy)\n",
        "\n",
        "print(GLOBAL_BATCH_SIZE)"
      ]
    },
    {
      "cell_type": "markdown",
      "metadata": {
        "id": "zkkUaT3OFTPh"
      },
      "source": [
        "**Expected Output:**\n",
        "```\n",
        "64\n",
        "```"
      ]
    },
    {
      "cell_type": "markdown",
      "metadata": {
        "id": "J7fj3GskHC8g"
      },
      "source": [
        "Create the datasets using the global batch size and distribute the batches for training, validation and test batches"
      ]
    },
    {
      "cell_type": "code",
      "execution_count": 12,
      "metadata": {
        "id": "WYrMNNDhAvVl"
      },
      "outputs": [],
      "source": [
        "train_batches: tf.data.Dataset = train_examples.shuffle(num_examples // 4)\n",
        "train_batches = train_batches.map(format_image).batch(BATCH_SIZE_PER_REPLICA)\n",
        "train_batches = train_batches.prefetch(1)\n",
        "\n",
        "validation_batches: tf.data.Dataset = validation_examples.map(format_image)\n",
        "validation_batches = validation_batches.batch(BATCH_SIZE_PER_REPLICA)\n",
        "validation_batches = validation_batches.prefetch(1)\n",
        "\n",
        "test_batches: tf.data.Dataset = test_examples.map(format_image).batch(1)"
      ]
    },
    {
      "cell_type": "markdown",
      "metadata": {
        "id": "p8DCU0LgFTPm"
      },
      "source": [
        "## Define the distributed datasets (please complete this section)\n",
        "\n",
        "Create the distributed datasets using `experimental_distribute_dataset()` of the [Strategy](https://www.tensorflow.org/api_docs/python/tf/distribute/Strategy) class and pass in the training batches.\n",
        "- Do the same for the validation batches and test batches."
      ]
    },
    {
      "cell_type": "code",
      "execution_count": 13,
      "metadata": {
        "id": "CcuX2ze3FTPo"
      },
      "outputs": [],
      "source": [
        "# GRADED FUNCTION\n",
        "def distribute_datasets(\n",
        "    strategy: tf.distribute.Strategy,\n",
        "    train_batches: tf.data.Dataset,\n",
        "    validation_batches: tf.data.Dataset,\n",
        "    test_batches: tf.data.Dataset\n",
        ") -> tuple[tf.distribute.DistributedDataset, ...]:\n",
        "\n",
        "    ### START CODE HERE ###\n",
        "    DistDataset = tf.distribute.DistributedDataset\n",
        "    train_dist_dataset: DistDataset = strategy.experimental_distribute_dataset(\n",
        "        train_batches\n",
        "    )\n",
        "    val_dist_dataset: DistDataset = strategy.experimental_distribute_dataset(\n",
        "        validation_batches\n",
        "    )\n",
        "    test_dist_dataset: DistDataset = strategy.experimental_distribute_dataset(\n",
        "        test_batches\n",
        "    )\n",
        "    ### END CODE HERE ###\n",
        "\n",
        "    return train_dist_dataset, val_dist_dataset, test_dist_dataset"
      ]
    },
    {
      "cell_type": "markdown",
      "metadata": {
        "id": "BvEl6WSiFTPp"
      },
      "source": [
        "Call the function that you just defined to get the distributed datasets."
      ]
    },
    {
      "cell_type": "code",
      "execution_count": 14,
      "metadata": {
        "id": "vTtRNtF7FTPq"
      },
      "outputs": [],
      "source": [
        "train_dist_dataset: tf.distribute.DistributedDataset\n",
        "val_dist_dataset: tf.distribute.DistributedDataset\n",
        "test_dist_dataset: tf.distribute.DistributedDataset\n",
        "train_dist_dataset, val_dist_dataset, test_dist_dataset = distribute_datasets(\n",
        "    strategy, train_batches, validation_batches, test_batches\n",
        ")"
      ]
    },
    {
      "cell_type": "markdown",
      "metadata": {
        "id": "aRgzAq8SFTPs"
      },
      "source": [
        "Take a look at the types of the distributed datasets:"
      ]
    },
    {
      "cell_type": "code",
      "execution_count": 15,
      "metadata": {
        "colab": {
          "base_uri": "https://localhost:8080/"
        },
        "id": "0FtVb0SYFTPu",
        "outputId": "c55ae5cd-6c4c-421d-d69a-1329981b072f"
      },
      "outputs": [
        {
          "output_type": "stream",
          "name": "stdout",
          "text": [
            "<class 'tensorflow.python.distribute.input_lib.DistributedDataset'>\n",
            "<class 'tensorflow.python.distribute.input_lib.DistributedDataset'>\n",
            "<class 'tensorflow.python.distribute.input_lib.DistributedDataset'>\n"
          ]
        }
      ],
      "source": [
        "print(type(train_dist_dataset))\n",
        "print(type(val_dist_dataset))\n",
        "print(type(test_dist_dataset))"
      ]
    },
    {
      "cell_type": "markdown",
      "metadata": {
        "id": "X9C_Ta04FTPv"
      },
      "source": [
        "**Expected Output:**\n",
        "```\n",
        "<class 'tensorflow.python.distribute.input_lib.DistributedDataset'>\n",
        "<class 'tensorflow.python.distribute.input_lib.DistributedDataset'>\n",
        "<class 'tensorflow.python.distribute.input_lib.DistributedDataset'>\n",
        "```"
      ]
    },
    {
      "cell_type": "markdown",
      "metadata": {
        "id": "M1qPCTpUFTPw"
      },
      "source": [
        "Also get familiar with a single batch from the train_dist_dataset:\n",
        "- Each batch has 64 features and labels"
      ]
    },
    {
      "cell_type": "code",
      "execution_count": 16,
      "metadata": {
        "colab": {
          "base_uri": "https://localhost:8080/"
        },
        "id": "5Hwmspe7FTPy",
        "outputId": "5b4212f2-3b56-4057-cc13-3f016609c629"
      },
      "outputs": [
        {
          "output_type": "stream",
          "name": "stdout",
          "text": [
            "x is a tuple that contains 2 values \n",
            "x[0] contains the features, and has shape (64, 224, 224, 3)\n",
            "  so it has 64 examples in the batch, each is an image that is (224, 224, 3)\n",
            "x[1] contains the labels, and has shape (64,)\n"
          ]
        }
      ],
      "source": [
        "# Take a look at a single batch from the train_dist_dataset\n",
        "x: tuple[tf.Tensor, ...] = iter(train_dist_dataset).get_next()\n",
        "\n",
        "print(f\"x is a tuple that contains {len(x)} values \")\n",
        "print(f\"x[0] contains the features, and has shape {x[0].shape}\")\n",
        "print(f\"  so it has {x[0].shape[0]} examples in the batch, each is an\", end=\"\")\n",
        "print(f\" image that is {x[0].shape[1:]}\")\n",
        "print(f\"x[1] contains the labels, and has shape {x[1].shape}\")"
      ]
    },
    {
      "cell_type": "markdown",
      "metadata": {
        "id": "bAXAo_wWbWSb"
      },
      "source": [
        "## Create the model\n",
        "\n",
        "Use the Model Subclassing API to create model `ResNetModel` as a subclass of `tf.keras.Model`."
      ]
    },
    {
      "cell_type": "code",
      "execution_count": 17,
      "metadata": {
        "id": "9ODch-OFCaW4"
      },
      "outputs": [],
      "source": [
        "class ResNetModel(tf.keras.Model):\n",
        "    def __init__(self, classes) -> None:\n",
        "        super(ResNetModel, self).__init__()\n",
        "        self._feature_extractor: hub.KerasLayer = hub.KerasLayer(\n",
        "            MODULE_HANDLE, trainable=False\n",
        "        )\n",
        "        self._classifier: tf.keras.layers.Layer = tf.keras.layers.Dense(\n",
        "            classes, activation='softmax'\n",
        "        )\n",
        "\n",
        "    def call(self, inputs: tf.Tensor) -> tf.Tensor:\n",
        "        x: tf.Tensor = self._feature_extractor(inputs)\n",
        "        x = self._classifier(x)\n",
        "        return x"
      ]
    },
    {
      "cell_type": "markdown",
      "metadata": {
        "id": "coniE-0NFTP4"
      },
      "source": [
        "Create a checkpoint directory to store the checkpoints (the model's weights during training)."
      ]
    },
    {
      "cell_type": "code",
      "execution_count": 18,
      "metadata": {
        "id": "9iagoTBfijUz"
      },
      "outputs": [],
      "source": [
        "# Create a checkpoint directory to store the checkpoints.\n",
        "checkpoint_dir: str = './training_checkpoints'\n",
        "checkpoint_prefix: str = os.path.join(checkpoint_dir, \"ckpt\")"
      ]
    },
    {
      "cell_type": "markdown",
      "metadata": {
        "id": "e-wlFFZbP33n"
      },
      "source": [
        "## Define the loss function\n",
        "\n",
        "You'll define the `loss_object` and `compute_loss` within the `strategy.scope()`.\n",
        "- `loss_object` will be used later to calculate the loss on the test set.\n",
        "- `compute_loss` will be used later to calculate the average loss on the training data.\n",
        "\n",
        "You will be using these two loss calculations later."
      ]
    },
    {
      "cell_type": "code",
      "execution_count": 19,
      "metadata": {
        "id": "R144Wci782ix"
      },
      "outputs": [],
      "source": [
        "with strategy.scope():\n",
        "    # Set reduction to `NONE` so we can do the reduction afterwards and divide\n",
        "    # by the global batch size.\n",
        "    Losses = tf.keras.losses.Loss\n",
        "    loss_object: Losses = tf.keras.losses.SparseCategoricalCrossentropy(\n",
        "        reduction=tf.keras.losses.Reduction.NONE\n",
        "    )\n",
        "    # or loss_fn = tf.keras.losses.sparse_categorical_crossentropy\n",
        "    def compute_loss(labels: tf.Tensor, predictions: tf.Tensor) -> tf.Tensor:\n",
        "        per_example_loss: tf.Tensor = loss_object(labels, predictions)\n",
        "        return tf.nn.compute_average_loss(\n",
        "            per_example_loss, global_batch_size=GLOBAL_BATCH_SIZE\n",
        "        )\n",
        "\n",
        "    Metrics = tf.keras.metrics.Metric\n",
        "    test_loss: Metrics = tf.keras.metrics.Mean(name='test_loss')"
      ]
    },
    {
      "cell_type": "markdown",
      "metadata": {
        "id": "w8y54-o9T2Ni"
      },
      "source": [
        "## Define the metrics to track loss and accuracy\n",
        "\n",
        "These metrics track the test loss and training and test accuracy.\n",
        "- You can use `.result()` to get the accumulated statistics at any time, for example, `train_accuracy.result()`."
      ]
    },
    {
      "cell_type": "code",
      "execution_count": 20,
      "metadata": {
        "id": "zt3AHb46Tr3w"
      },
      "outputs": [],
      "source": [
        "with strategy.scope():\n",
        "    train_accuracy: Metrics = tf.keras.metrics.SparseCategoricalAccuracy(\n",
        "        name='train_accuracy'\n",
        "    )\n",
        "    test_accuracy: Metrics = tf.keras.metrics.SparseCategoricalAccuracy(\n",
        "        name='test_accuracy'\n",
        "    )"
      ]
    },
    {
      "cell_type": "markdown",
      "metadata": {
        "id": "iuKuNXPORfqJ"
      },
      "source": [
        "## Instantiate the model, optimizer, and checkpoints\n",
        "\n",
        "This code is given to you.  Just remember that they are created within the `strategy.scope()`.\n",
        "- Instantiate the ResNetModel, passing in the number of classes\n",
        "- Create an instance of the Adam optimizer.\n",
        "- Create a checkpoint for this model and its optimizer.\n",
        "\n",
        "*Note: If you are running this on Colab and get the error message: `OSError: data/resnet_50_feature_vector does not exist`, please scroll up to the `Setup Input Pipeline` section and uncomment the `MODULE_HANDLE` line for Colab. Then restart the runtime and run all cells.*"
      ]
    },
    {
      "cell_type": "code",
      "execution_count": 21,
      "metadata": {
        "id": "OrMmakq5EqeQ"
      },
      "outputs": [],
      "source": [
        "# model and optimizer must be created under `strategy.scope`.\n",
        "with strategy.scope():\n",
        "    model: ResNetModel = ResNetModel(classes=num_classes)\n",
        "    optimizer: tf.keras.optimizers.Optimizer = tf.keras.optimizers.Adam()\n",
        "    checkpoint: tf.train.Checkpoint = tf.train.Checkpoint(\n",
        "        optimizer=optimizer, model=model\n",
        "    )"
      ]
    },
    {
      "cell_type": "markdown",
      "metadata": {
        "id": "NqY8LVOUFTQI"
      },
      "source": [
        "## Training loop (please complete this section)\n",
        "\n",
        "You will define a regular training step and test step, which could work without a distributed strategy.  You can then use `strategy.run` to apply these functions in a distributed manner.\n",
        "- Notice that you'll define `train_step` and `test_step` inside another function `train_testp_step_fns`, which will then return these two functions.\n",
        "\n",
        "### Define train_step\n",
        "Within the strategy's scope, define `train_step(inputs)`\n",
        "- `inputs` will be a tuple containing `(images, labels)`.\n",
        "- Create a gradient tape block.\n",
        "- Within the gradient tape block:\n",
        "  - Call the model, passing in the images and setting training to be `True` (complete this part).\n",
        "  - Call the `compute_loss` function (defined earlier) to compute the training loss (complete this part).\n",
        "  - Use the gradient tape to calculate the gradients.\n",
        "  - Use the optimizer to update the weights using the gradients.\n",
        "  \n",
        "### Define test_step\n",
        "Also within the strategy's scope, define `test_step(inputs)`\n",
        "- `inputs` is a tuple containing `(images, labels)`.\n",
        "  - Call the model, passing in the images and set training to `False`, because the model is not going to train on the test data. (complete this part).\n",
        "  - Use the `loss_object`, which will compute the test loss.  Check `compute_loss`, defined earlier, to see what parameters to pass into `loss_object`. (complete this part).\n",
        "  - Next, update `test_loss` (the running test loss) with the `t_loss` (the loss for the current batch).\n",
        "  - Also update the `test_accuracy`."
      ]
    },
    {
      "cell_type": "code",
      "execution_count": 22,
      "metadata": {
        "id": "zUQ_nAP1MtA9"
      },
      "outputs": [],
      "source": [
        "# GRADED FUNCTION\n",
        "def train_test_step_fns(\n",
        "    strategy: tf.distribute.Strategy,\n",
        "    model: ResNetModel,\n",
        "    compute_loss: Callable[[tf.Tensor, tf.Tensor], tf.Tensor],\n",
        "    optimizer: tf.keras.optimizers.Optimizer,\n",
        "    train_accuracy: Metrics,\n",
        "    loss_object: Losses,\n",
        "    test_loss: Metrics,\n",
        "    test_accuracy: Metrics\n",
        ") -> tuple[\n",
        "    Callable[[tf.distribute.DistributedDataset], tf.Tensor],\n",
        "    Callable[[tf.distribute.DistributedDataset], None],\n",
        "]:\n",
        "    with strategy.scope():\n",
        "        def train_step(inputs: tf.distribute.DistributedDataset) -> tf.Tensor:\n",
        "            images: tf.Tensor\n",
        "            labels: tf.Tensor\n",
        "            images, labels = inputs\n",
        "\n",
        "            with tf.GradientTape() as tape:\n",
        "                ### START CODE HERE ###\n",
        "                predictions: tf.Tensor = model(images, training=True)\n",
        "                loss: tf.Tensor = compute_loss(labels, predictions)\n",
        "                ### END CODE HERE ###\n",
        "\n",
        "            gradients: list = tape.gradient(loss, model.trainable_variables)\n",
        "            optimizer.apply_gradients(zip(\n",
        "                gradients, model.trainable_variables\n",
        "            ))\n",
        "\n",
        "            train_accuracy.update_state(labels, predictions)\n",
        "            return loss\n",
        "\n",
        "        def test_step(inputs: tf.distribute.DistributedDataset) -> None:\n",
        "            images: tf.Tensor\n",
        "            labels: tf.Tensor\n",
        "            images, labels = inputs\n",
        "\n",
        "            ### START CODE HERE ###\n",
        "            predictions: tf.Tensor = model(images, training=False)\n",
        "            t_loss: tf.Tensor = loss_object(labels, predictions)\n",
        "            ### END CODE HERE ###\n",
        "\n",
        "            test_loss.update_state(t_loss)\n",
        "            test_accuracy.update_state(labels, predictions)\n",
        "\n",
        "        return train_step, test_step"
      ]
    },
    {
      "cell_type": "markdown",
      "metadata": {
        "id": "zwTSL1p2FTQL"
      },
      "source": [
        "Use the `train_test_step_fns` function to produce the `train_step` and `test_step` functions."
      ]
    },
    {
      "cell_type": "code",
      "execution_count": 23,
      "metadata": {
        "id": "skMjjTKiFTQO"
      },
      "outputs": [],
      "source": [
        "train_step, test_step = train_test_step_fns(\n",
        "    strategy,\n",
        "    model,\n",
        "    compute_loss,\n",
        "    optimizer,\n",
        "    train_accuracy,\n",
        "    loss_object,\n",
        "    test_loss,\n",
        "    test_accuracy\n",
        ")"
      ]
    },
    {
      "cell_type": "markdown",
      "metadata": {
        "id": "nn_pQDM-FTQP"
      },
      "source": [
        "## Distributed training and testing (please complete this section)\n",
        "\n",
        "The `train_step` and `test_step` could be used in a non-distributed, regular model training.  To apply them in a distributed way, you'll use [strategy.run](https://www.tensorflow.org/api_docs/python/tf/distribute/Strategy#run).\n",
        "\n",
        "`distributed_train_step`\n",
        "- Call the `run` function of the `strategy`, passing in the train step function (which you defined earlier), as well as the arguments that go in the train step function.\n",
        "- The run function is defined like this `run(fn, args=() )`.  \n",
        "  - `args` will take in the dataset inputs\n",
        "\n",
        "`distributed_test_step`\n",
        "- Similar to training, the distributed test step will use the `run` function of your strategy, taking in the test step function as well as the dataset inputs that go into the test step function."
      ]
    },
    {
      "cell_type": "markdown",
      "metadata": {
        "id": "H7dpUz8bFTQR"
      },
      "source": [
        "#### Hint:\n",
        "- You saw earlier that each batch in `train_dist_dataset` is tuple with two values:\n",
        "  - a batch of features\n",
        "  - a batch of labels.\n",
        "\n",
        "Let's think about how you'll want to pass in the dataset inputs into `args` by running this next cell of code:"
      ]
    },
    {
      "cell_type": "code",
      "execution_count": 24,
      "metadata": {
        "colab": {
          "base_uri": "https://localhost:8080/"
        },
        "id": "Xx81Ik3EFTQT",
        "outputId": "ce664b51-baa3-4289-db7a-ab510c2ed88c"
      },
      "outputs": [
        {
          "output_type": "stream",
          "name": "stdout",
          "text": [
            "When passing in args=list_of_inputs:\n",
            "number of arguments passed is 2\n",
            "\n",
            "When passing in args=(list_of_inputs)\n",
            "number of arguments passed is 2\n",
            "\n",
            "When passing in args=(list_of_inputs,)\n",
            "number of arguments passed is 1\n"
          ]
        }
      ],
      "source": [
        "#See various ways of passing in the inputs\n",
        "\n",
        "def fun1(args: Iterable=()) -> None:\n",
        "    print(f\"number of arguments passed is {len(args)}\")\n",
        "\n",
        "\n",
        "list_of_inputs: list = [1,2]\n",
        "print(\"When passing in args=list_of_inputs:\")\n",
        "fun1(args=list_of_inputs)\n",
        "print()\n",
        "print(\"When passing in args=(list_of_inputs)\")\n",
        "fun1(args=(list_of_inputs))\n",
        "print()\n",
        "print(\"When passing in args=(list_of_inputs,)\")\n",
        "fun1(args=(list_of_inputs,))"
      ]
    },
    {
      "cell_type": "markdown",
      "metadata": {
        "id": "We1fimPdFTQY"
      },
      "source": [
        "Notice that depending on how `list_of_inputs` is passed to `args` affects whether `fun1` sees one or two positional arguments.  \n",
        "- If you see an error message about positional arguments when running the training code later, please come back to check how you're passing in the inputs to `run`.\n",
        "\n",
        "Please complete the following function."
      ]
    },
    {
      "cell_type": "code",
      "execution_count": 31,
      "metadata": {
        "id": "SfSywkJdFTQZ"
      },
      "outputs": [],
      "source": [
        "def distributed_train_test_step_fns(\n",
        "    strategy: tf.distribute.Strategy,\n",
        "    train_step: Callable[[tf.distribute.DistributedDataset], tf.Tensor],\n",
        "    test_step: Callable[[tf.distribute.DistributedDataset], None],\n",
        "    model: ResNetModel,\n",
        "    compute_loss: Callable[[tf.Tensor, tf.Tensor], tf.Tensor],\n",
        "    optimizer: tf.keras.optimizers.Optimizer,\n",
        "    train_accuracy: Metrics,\n",
        "    loss_object: Losses,\n",
        "    test_loss: Metrics,\n",
        "    test_accuracy: Metrics\n",
        ") -> tuple[Callable[[tf.distribute.DistributedDataset], tf.Tensor], ...]:\n",
        "    with strategy.scope():\n",
        "        @tf.function\n",
        "        def distributed_train_step(\n",
        "            dataset_inputs: tf.distribute.DistributedDataset\n",
        "        ) -> tf.Tensor:\n",
        "            ### START CODE HERE ###\n",
        "            per_replica_losses: tf.Tensor = strategy.run(\n",
        "                train_step, args=(dataset_inputs,)\n",
        "            )\n",
        "            ### END CODE HERE ###\n",
        "            return strategy.reduce(\n",
        "                tf.distribute.ReduceOp.SUM, per_replica_losses, axis=None\n",
        "            )\n",
        "\n",
        "        @tf.function\n",
        "        def distributed_test_step(\n",
        "            dataset_inputs: tf.distribute.DistributedDataset\n",
        "        ) -> tf.Tensor:\n",
        "            ### START CODE HERE ###\n",
        "            return strategy.run(test_step, args=(dataset_inputs,))\n",
        "            ### END CODE HERE ###\n",
        "\n",
        "        return distributed_train_step, distributed_test_step"
      ]
    },
    {
      "cell_type": "markdown",
      "metadata": {
        "id": "UzUFJTljFTQb"
      },
      "source": [
        "Call the function that you just defined to get the distributed train step function and distributed test step function."
      ]
    },
    {
      "cell_type": "code",
      "execution_count": 26,
      "metadata": {
        "id": "o4TmKbX4FTQd"
      },
      "outputs": [],
      "source": [
        "distributed_train_step, distributed_test_step = distributed_train_test_step_fns(\n",
        "    strategy,\n",
        "    train_step,\n",
        "    test_step,\n",
        "    model,\n",
        "    compute_loss,\n",
        "    optimizer,\n",
        "    train_accuracy,\n",
        "    loss_object,\n",
        "    test_loss,\n",
        "    test_accuracy\n",
        ")"
      ]
    },
    {
      "cell_type": "markdown",
      "metadata": {
        "id": "ep1lrkDKFTQf"
      },
      "source": [
        "**An important note before you continue:**\n",
        "\n",
        "The following sections will guide you through how to train your model and save it to a .zip file. These sections are **not** required for you to pass this assignment but you are encouraged to continue anyway. If you consider no more work is needed in previous sections, please submit now and carry on.\n",
        "\n",
        "After training your model, you can download it as a .zip file and upload it back to the platform to know how well it performed.  However, training your model takes around 20 minutes within the Coursera environment. Because of this, there are two methods to train your model:\n",
        "\n",
        "**Method 1**\n",
        "\n",
        "If 20 mins is too long for you, we recommend to download this notebook (after submitting it for grading) and upload it to [Colab](https://colab.research.google.com/) to finish the training in a GPU-enabled runtime. If you decide to do this, these are the steps to follow:\n",
        "\n",
        "- Save this notebok.\n",
        "- Click the `jupyter` logo on the upper left corner of the window. This will take you to the Jupyter workspace.\n",
        "- Select this notebook (C2W4_Assignment.ipynb) and click `Shutdown`.\n",
        "- Once the notebook is shutdown, you can go ahead and download it.\n",
        "- Head over to [Colab](https://colab.research.google.com/) and select the `upload` tab and upload your notebook.\n",
        "- Before running any cell go into `Runtime` --> `Change Runtime Type` and make sure that `GPU` is enabled.\n",
        "- Uncomment the first line in this notebook that installs autograder-compatible package versions.\n",
        "- Uncomment the `MODULE_HANDLE` in the `Setup input pipeline` section that contains the URL to the feature vector.\n",
        "- Run all of the cells in the notebook. After training, follow the rest of the instructions of the notebook to download your model.\n",
        "\n",
        "**Method 2**\n",
        "\n",
        "If you prefer to wait the 20 minutes and not leave Coursera, keep going through this notebook. Once you are done, follow these steps:\n",
        "- Click the `jupyter` logo on the upper left corner of the window. This will take you to the jupyter filesystem.\n",
        "- In the filesystem you should see a file named `mymodel.zip`. Go ahead and download it.\n",
        "\n",
        "Independent of the method you choose, you should end up with a `mymodel.zip` file which can be uploaded for evaluation after this assignment. Once again, this is optional but we strongly encourage you to do it as it is a lot of fun.\n",
        "\n",
        "With this out of the way, let's continue.\n",
        "\n",
        "\n",
        "\n",
        "## Run the distributed training in a loop\n",
        "\n",
        "You'll now use a for-loop to go through the desired number of epochs and train the model in a distributed manner.\n",
        "In each epoch:\n",
        "- Loop through each distributed training set\n",
        "  - For each training batch, call `distributed_train_step` and get the loss.\n",
        "- After going through all training batches, calculate the training loss as the average of the batch losses.\n",
        "- Loop through each batch of the distributed test set.\n",
        "  - For each test batch, run the distributed test step. The test loss and test accuracy are updated within the test step function.\n",
        "- Print the epoch number, training loss, training accuracy, test loss and test accuracy.\n",
        "- Reset the losses and accuracies before continuing to another epoch."
      ]
    },
    {
      "cell_type": "code",
      "execution_count": 27,
      "metadata": {
        "colab": {
          "base_uri": "https://localhost:8080/"
        },
        "id": "gX975dMSNw0e",
        "outputId": "2ff58fc3-5f18-456d-eecd-cc0b6808b67f"
      },
      "outputs": [
        {
          "output_type": "stream",
          "name": "stderr",
          "text": [
            "\r0it [00:00, ?it/s]WARNING:tensorflow:AutoGraph could not transform <function train_test_step_fns.<locals>.train_step at 0x7e8506a28ee0> and will run it as-is.\n",
            "Please report this to the TensorFlow team. When filing the bug, set the verbosity to 10 (on Linux, `export AUTOGRAPH_VERBOSITY=10`) and attach the full output.\n",
            "Cause: invalid value for \"node\": expected \"ast.AST\", got \"<class 'NoneType'>\"; to visit lists of nodes, use \"visit_block\" instead\n",
            "To silence this warning, decorate the function with @tf.autograph.experimental.do_not_convert\n"
          ]
        },
        {
          "output_type": "stream",
          "name": "stdout",
          "text": [
            "WARNING: AutoGraph could not transform <function train_test_step_fns.<locals>.train_step at 0x7e8506a28ee0> and will run it as-is.\n",
            "Please report this to the TensorFlow team. When filing the bug, set the verbosity to 10 (on Linux, `export AUTOGRAPH_VERBOSITY=10`) and attach the full output.\n",
            "Cause: invalid value for \"node\": expected \"ast.AST\", got \"<class 'NoneType'>\"; to visit lists of nodes, use \"visit_block\" instead\n",
            "To silence this warning, decorate the function with @tf.autograph.experimental.do_not_convert\n"
          ]
        },
        {
          "output_type": "stream",
          "name": "stderr",
          "text": [
            "13it [00:29,  2.27s/it]\n",
            "WARNING:tensorflow:AutoGraph could not transform <function train_test_step_fns.<locals>.test_step at 0x7e8506a28e50> and will run it as-is.\n",
            "Please report this to the TensorFlow team. When filing the bug, set the verbosity to 10 (on Linux, `export AUTOGRAPH_VERBOSITY=10`) and attach the full output.\n",
            "Cause: invalid value for \"node\": expected \"ast.AST\", got \"<class 'NoneType'>\"; to visit lists of nodes, use \"visit_block\" instead\n",
            "To silence this warning, decorate the function with @tf.autograph.experimental.do_not_convert\n"
          ]
        },
        {
          "output_type": "stream",
          "name": "stdout",
          "text": [
            "WARNING: AutoGraph could not transform <function train_test_step_fns.<locals>.test_step at 0x7e8506a28e50> and will run it as-is.\n",
            "Please report this to the TensorFlow team. When filing the bug, set the verbosity to 10 (on Linux, `export AUTOGRAPH_VERBOSITY=10`) and attach the full output.\n",
            "Cause: invalid value for \"node\": expected \"ast.AST\", got \"<class 'NoneType'>\"; to visit lists of nodes, use \"visit_block\" instead\n",
            "To silence this warning, decorate the function with @tf.autograph.experimental.do_not_convert\n",
            "Epoch 1, Loss: 4.648879528045654, Accuracy: 4.289216041564941, Test Loss: 3.887516498565674, Test Accuracy: 11.764705657958984\n"
          ]
        },
        {
          "output_type": "stream",
          "name": "stderr",
          "text": [
            "13it [00:05,  2.51it/s]\n"
          ]
        },
        {
          "output_type": "stream",
          "name": "stdout",
          "text": [
            "Epoch 2, Loss: 2.578608274459839, Accuracy: 48.52941131591797, Test Loss: 2.760967254638672, Test Accuracy: 42.156864166259766\n"
          ]
        },
        {
          "output_type": "stream",
          "name": "stderr",
          "text": [
            "13it [00:02,  4.64it/s]\n"
          ]
        },
        {
          "output_type": "stream",
          "name": "stdout",
          "text": [
            "Epoch 3, Loss: 1.4276982545852661, Accuracy: 82.59803771972656, Test Loss: 2.2005815505981445, Test Accuracy: 52.94117736816406\n"
          ]
        },
        {
          "output_type": "stream",
          "name": "stderr",
          "text": [
            "13it [00:02,  4.69it/s]\n"
          ]
        },
        {
          "output_type": "stream",
          "name": "stdout",
          "text": [
            "Epoch 4, Loss: 0.8435925841331482, Accuracy: 94.36274719238281, Test Loss: 1.8571081161499023, Test Accuracy: 62.74510192871094\n"
          ]
        },
        {
          "output_type": "stream",
          "name": "stderr",
          "text": [
            "13it [00:05,  2.51it/s]\n"
          ]
        },
        {
          "output_type": "stream",
          "name": "stdout",
          "text": [
            "Epoch 5, Loss: 0.5501012802124023, Accuracy: 97.05882263183594, Test Loss: 1.66487717628479, Test Accuracy: 60.78431701660156\n"
          ]
        },
        {
          "output_type": "stream",
          "name": "stderr",
          "text": [
            "13it [00:05,  2.40it/s]\n"
          ]
        },
        {
          "output_type": "stream",
          "name": "stdout",
          "text": [
            "Epoch 6, Loss: 0.38454991579055786, Accuracy: 98.52941131591797, Test Loss: 1.5392638444900513, Test Accuracy: 66.66667175292969\n"
          ]
        },
        {
          "output_type": "stream",
          "name": "stderr",
          "text": [
            "13it [00:02,  4.38it/s]\n"
          ]
        },
        {
          "output_type": "stream",
          "name": "stdout",
          "text": [
            "Epoch 7, Loss: 0.28526145219802856, Accuracy: 99.14215850830078, Test Loss: 1.4733747243881226, Test Accuracy: 66.66667175292969\n"
          ]
        },
        {
          "output_type": "stream",
          "name": "stderr",
          "text": [
            "13it [00:05,  2.50it/s]\n"
          ]
        },
        {
          "output_type": "stream",
          "name": "stdout",
          "text": [
            "Epoch 8, Loss: 0.22366470098495483, Accuracy: 99.26470184326172, Test Loss: 1.4187721014022827, Test Accuracy: 64.70588684082031\n"
          ]
        },
        {
          "output_type": "stream",
          "name": "stderr",
          "text": [
            "13it [00:02,  4.66it/s]\n"
          ]
        },
        {
          "output_type": "stream",
          "name": "stdout",
          "text": [
            "Epoch 9, Loss: 0.1779027283191681, Accuracy: 99.50980377197266, Test Loss: 1.3832956552505493, Test Accuracy: 65.68627166748047\n"
          ]
        },
        {
          "output_type": "stream",
          "name": "stderr",
          "text": [
            "13it [00:05,  2.51it/s]\n"
          ]
        },
        {
          "output_type": "stream",
          "name": "stdout",
          "text": [
            "Epoch 10, Loss: 0.147242933511734, Accuracy: 99.87745666503906, Test Loss: 1.3596138954162598, Test Accuracy: 64.70588684082031\n"
          ]
        }
      ],
      "source": [
        "# Running this cell in Coursera takes around 20 mins\n",
        "with strategy.scope():\n",
        "    for epoch in range(EPOCHS):\n",
        "        # TRAIN LOOP\n",
        "        total_loss: float = 0.0\n",
        "        num_batches: int = 0\n",
        "        for x in tqdm(train_dist_dataset):\n",
        "            total_loss += distributed_train_step(x)\n",
        "            num_batches += 1\n",
        "        train_loss: float = total_loss / num_batches\n",
        "\n",
        "        # TEST LOOP\n",
        "        for x in test_dist_dataset:\n",
        "            distributed_test_step(x)\n",
        "\n",
        "        print(f\"Epoch {epoch+1}, Loss: {train_loss}, \", end=\"\")\n",
        "        print(f\"Accuracy: {train_accuracy.result()*100}, \", end=\"\")\n",
        "        print(f\"Test Loss: {test_loss.result()}, \", end=\"\")\n",
        "        print(f\"Test Accuracy: {test_accuracy.result()*100}\")\n",
        "\n",
        "        test_loss.reset_states()\n",
        "        train_accuracy.reset_states()\n",
        "        test_accuracy.reset_states()"
      ]
    },
    {
      "cell_type": "markdown",
      "metadata": {
        "id": "Z1YvXqOpwy08"
      },
      "source": [
        "Things to note in the example above:\n",
        "\n",
        "* We are iterating over the `train_dist_dataset` and `test_dist_dataset` using  a `for x in ...` construct.\n",
        "* The scaled loss is the return value of the `distributed_train_step`. This value is aggregated across replicas using the `tf.distribute.Strategy.reduce` call and then across batches by summing the return value of the `tf.distribute.Strategy.reduce` calls.\n",
        "* `tf.keras.Metrics` should be updated inside `train_step` and `test_step` that gets executed by `tf.distribute.Strategy.experimental_run_v2`.\n",
        "*`tf.distribute.Strategy.experimental_run_v2` returns results from each local replica in the strategy, and there are multiple ways to consume this result. You can do `tf.distribute.Strategy.reduce` to get an aggregated value. You can also do `tf.distribute.Strategy.experimental_local_results` to get the list of values contained in the result, one per local replica.\n"
      ]
    },
    {
      "cell_type": "markdown",
      "metadata": {
        "id": "WEaNCzYQvFqo"
      },
      "source": [
        "# Save the Model for submission (Optional)\n",
        "\n",
        "You'll get a saved model of this trained model. You'll then need to zip that to upload it to the testing infrastructure. We provide the code to help you with that here:\n",
        "\n",
        "## Step 1: Save the model as a SavedModel\n",
        "This code will save your model as a SavedModel"
      ]
    },
    {
      "cell_type": "code",
      "execution_count": 28,
      "metadata": {
        "id": "1zAlTlRxrqFu"
      },
      "outputs": [],
      "source": [
        "model_save_path: str = \"./tmp/mymodel/1/\"\n",
        "tf.saved_model.save(model, model_save_path)"
      ]
    },
    {
      "cell_type": "markdown",
      "metadata": {
        "id": "e0Zfmx6LvTJA"
      },
      "source": [
        "## Step 2: Zip the SavedModel Directory into /mymodel.zip\n",
        "\n",
        "This code will zip your saved model directory contents into a single file.\n",
        "\n",
        "If you are on colab, you can use the file browser pane to the left of colab to find `mymodel.zip`. Right click on it and select 'Download'.\n",
        "\n",
        "If the download fails because you aren't allowed to download multiple files from colab, check out the guidance here: https://ccm.net/faq/32938-google-chrome-allow-websites-to-perform-simultaneous-downloads\n",
        "\n",
        "If you are in Coursera, follow the instructions previously provided.\n",
        "\n",
        "It's a large file, so it might take some time to download."
      ]
    },
    {
      "cell_type": "code",
      "execution_count": 29,
      "metadata": {
        "id": "gMuo2wQls41l"
      },
      "outputs": [],
      "source": [
        "def zipdir(path: str, ziph: zipfile.ZipFile) -> None:\n",
        "    # ziph is zipfile handle\n",
        "    for root, dirs, files in os.walk(path):\n",
        "        for file in files:\n",
        "            ziph.write(os.path.join(root, file))\n",
        "\n",
        "with zipfile.ZipFile('./mymodel.zip', 'w', zipfile.ZIP_DEFLATED) as zip:\n",
        "    zipdir('./tmp/mymodel/1/', zip)"
      ]
    }
  ],
  "metadata": {
    "colab": {
      "provenance": [],
      "include_colab_link": true
    },
    "coursera": {
      "schema_names": [
        "TF3C2W4-1",
        "TF3C2W4-2",
        "TF3C2W4-3",
        "TF3C2W4-4"
      ]
    },
    "kernelspec": {
      "display_name": "Python 3",
      "name": "python3"
    },
    "language_info": {
      "codemirror_mode": {
        "name": "ipython",
        "version": 3
      },
      "file_extension": ".py",
      "mimetype": "text/x-python",
      "name": "python",
      "nbconvert_exporter": "python",
      "pygments_lexer": "ipython3",
      "version": "3.7.6"
    }
  },
  "nbformat": 4,
  "nbformat_minor": 0
}