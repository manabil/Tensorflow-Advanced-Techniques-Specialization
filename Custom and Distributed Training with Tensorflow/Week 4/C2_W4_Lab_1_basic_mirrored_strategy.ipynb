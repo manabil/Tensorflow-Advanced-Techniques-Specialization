{
  "cells": [
    {
      "cell_type": "markdown",
      "metadata": {
        "id": "view-in-github",
        "colab_type": "text"
      },
      "source": [
        "<a href=\"https://colab.research.google.com/github/manabil/Tensorflow-Advanced-Techniques-Specialization/blob/main/Custom%20and%20Distributed%20Training%20with%20Tensorflow/Week%204/C2_W4_Lab_1_basic_mirrored_strategy.ipynb\" target=\"_parent\"><img src=\"https://colab.research.google.com/assets/colab-badge.svg\" alt=\"Open In Colab\"/></a>"
      ]
    },
    {
      "cell_type": "markdown",
      "metadata": {
        "id": "l4DXID4sxOQx"
      },
      "source": [
        "# Mirrored Strategy: Basic\n",
        "\n",
        "In this ungraded lab, you'll go through some of the basics of applying [Mirrored Strategy](https://www.tensorflow.org/api_docs/python/tf/distribute/MirroredStrategy)."
      ]
    },
    {
      "cell_type": "markdown",
      "metadata": {
        "id": "_ZwqckYKxOQ1"
      },
      "source": [
        "## Imports"
      ]
    },
    {
      "cell_type": "code",
      "execution_count": 1,
      "metadata": {
        "id": "TkUjfmKkflCd"
      },
      "outputs": [],
      "source": [
        "# Import TensorFlow and TensorFlow Datasets\n",
        "\n",
        "import tensorflow_datasets as tfds\n",
        "import tensorflow as tf\n",
        "tfds.disable_progress_bar()"
      ]
    },
    {
      "cell_type": "markdown",
      "metadata": {
        "id": "1DpYAlzixOQ9"
      },
      "source": [
        "Load the MNIST dataset and split it into training and test chunks."
      ]
    },
    {
      "cell_type": "code",
      "execution_count": 2,
      "metadata": {
        "colab": {
          "base_uri": "https://localhost:8080/"
        },
        "id": "eQN-PtIGgFtH",
        "outputId": "4ecf1db5-95ec-4a1d-e878-24b9c887ff00"
      },
      "outputs": [
        {
          "output_type": "stream",
          "name": "stdout",
          "text": [
            "Downloading and preparing dataset 11.06 MiB (download: 11.06 MiB, generated: 21.00 MiB, total: 32.06 MiB) to ./data/mnist/3.0.1...\n",
            "Dataset mnist downloaded and prepared to ./data/mnist/3.0.1. Subsequent calls will reuse this data.\n"
          ]
        }
      ],
      "source": [
        "# Load the dataset we'll use for this lab\n",
        "dataasets: tf.data.Dataset\n",
        "info: object\n",
        "datasets, info = tfds.load(\n",
        "    name='mnist', with_info=True, as_supervised=True, data_dir='./data'\n",
        ")\n",
        "\n",
        "mnist_train: tf.data.Dataset = datasets['train']\n",
        "mnist_test: tf.data.Dataset = datasets['test']"
      ]
    },
    {
      "cell_type": "markdown",
      "metadata": {
        "id": "Kps6DpgtxORE"
      },
      "source": [
        "Next, you define `strategy` using the `MirroredStrategy()` class. Print to see the number of devices available.\n",
        "\n",
        "**Note:**\n",
        "- If you are running this on Coursera, you'll see it gives a warning about no presence of GPU devices.\n",
        "- If you are running this in Colab, make sure you have selected your `Runtime` to be `GPU` for it to detect it.\n",
        "- In both these cases, you'll see there's only 1 device that is available.  \n",
        "- One device is sufficient for helping you understand these distribution strategies."
      ]
    },
    {
      "cell_type": "code",
      "execution_count": 5,
      "metadata": {
        "colab": {
          "base_uri": "https://localhost:8080/"
        },
        "id": "eCsDqWnDgNHr",
        "outputId": "174360ad-94b8-4a4f-9649-220ba9796be5"
      },
      "outputs": [
        {
          "output_type": "stream",
          "name": "stdout",
          "text": [
            "Number of devices: 1\n"
          ]
        }
      ],
      "source": [
        "# Define the strategy to use and print the number of devices found\n",
        "strategy: tf.distribute.MirroredStrategy = tf.distribute.MirroredStrategy()\n",
        "print('Number of devices: {}'.format(strategy.num_replicas_in_sync))"
      ]
    },
    {
      "cell_type": "markdown",
      "metadata": {
        "id": "SgmxGTG6xORM"
      },
      "source": [
        "Next, you create your training and test examples, define your batch size and also define `BATCH_SIZE_PER_REPLICA` which is the distribution you are making for each available device."
      ]
    },
    {
      "cell_type": "code",
      "execution_count": 15,
      "metadata": {
        "id": "p1xWxKcnhar9"
      },
      "outputs": [],
      "source": [
        "# Get the number of examples in the train and test sets\n",
        "num_train_examples: int = info.splits['train'].num_examples\n",
        "num_test_examples: int = info.splits['test'].num_examples\n",
        "\n",
        "BUFFER_SIZE: int = 10000\n",
        "\n",
        "BATCH_SIZE_PER_REPLICA: int = 64\n",
        "# Use for Mirrored Strategy\n",
        "BATCH_SIZE: int = BATCH_SIZE_PER_REPLICA * strategy.num_replicas_in_sync\n",
        "# Use for No Strategy\n",
        "# BATCH_SIZE: int = BATCH_SIZE_PER_REPLICA * 1"
      ]
    },
    {
      "cell_type": "markdown",
      "metadata": {
        "id": "3NDob3HhxORV"
      },
      "source": [
        "A mapping function which normalizes your images:"
      ]
    },
    {
      "cell_type": "code",
      "execution_count": 16,
      "metadata": {
        "id": "aPIU8E7BhyYq"
      },
      "outputs": [],
      "source": [
        "# Function for normalizing the image\n",
        "def scale(image: tf.Tensor, label: tf.Tensor) -> tuple[tf.Tensor, ...]:\n",
        "    image = tf.cast(image, tf.float32)\n",
        "    image = tf.divide(image, 255)\n",
        "\n",
        "    return image, label"
      ]
    },
    {
      "cell_type": "markdown",
      "metadata": {
        "id": "ZH4-jDasxORa"
      },
      "source": [
        "Next, you create your training and evaluation datesets in the batch size you want by shuffling through your buffer size."
      ]
    },
    {
      "cell_type": "code",
      "execution_count": 17,
      "metadata": {
        "id": "ByTZB2AYh0nA"
      },
      "outputs": [],
      "source": [
        "# Set up the train and eval data set\n",
        "train_dataset: tf.data.Dataset = mnist_train.map(scale).cache()\n",
        "train_dataset = mnist_train.shuffle(BUFFER_SIZE).batch(BATCH_SIZE)\n",
        "eval_dataset: tf.data.Dataset = mnist_test.map(scale).batch(BATCH_SIZE)"
      ]
    },
    {
      "cell_type": "markdown",
      "metadata": {
        "id": "DlvscN4GxORe"
      },
      "source": [
        "For your model to follow the strategy, define your model within the strategy's scope.\n",
        "- Run all the cells below and notice the results.\n",
        "- Afterwards comment out `with strategy.scope():` and run everything again, without the strategy.\n",
        "Then you can compare the results.\n",
        "The important thing to notice and compare is the time taken for each epoch to complete. As mentioned in the lecture, doing a mirrored strategy on a single device (which our lab environment has) might take longer to train because of the overhead in implementing the strategy. With that, the advantages of using this strategy is more evident if you will use it on multiple devices."
      ]
    },
    {
      "cell_type": "code",
      "execution_count": 18,
      "metadata": {
        "id": "7rRzY5ojh51B"
      },
      "outputs": [],
      "source": [
        "# Use for Mirrored Strategy -- comment out `with strategy.scope():` and\n",
        "# deindent for no strategy\n",
        "with strategy.scope():\n",
        "    model = tf.keras.Sequential([\n",
        "      tf.keras.layers.InputLayer(input_shape=(28, 28, 1)),\n",
        "      tf.keras.layers.Conv2D(32, 3, activation='relu'),\n",
        "      tf.keras.layers.MaxPooling2D(),\n",
        "      tf.keras.layers.Flatten(),\n",
        "      tf.keras.layers.Dense(64, activation='relu'),\n",
        "      tf.keras.layers.Dense(10)\n",
        "    ])\n",
        "# model = tf.keras.Sequential([\n",
        "#     tf.keras.layers.InputLayer(input_shape=(28, 28, 1)),\n",
        "#     tf.keras.layers.Conv2D(32, 3, activation='relu'),\n",
        "#     tf.keras.layers.MaxPooling2D(),\n",
        "#     tf.keras.layers.Flatten(),\n",
        "#     tf.keras.layers.Dense(64, activation='relu'),\n",
        "#     tf.keras.layers.Dense(10)\n",
        "# ])"
      ]
    },
    {
      "cell_type": "code",
      "execution_count": 19,
      "metadata": {
        "id": "NWOJWLENphod"
      },
      "outputs": [],
      "source": [
        "model.compile(\n",
        "    loss=tf.keras.losses.SparseCategoricalCrossentropy(from_logits=True),\n",
        "    optimizer=tf.keras.optimizers.Adam(),\n",
        "    metrics=['accuracy']\n",
        ")"
      ]
    },
    {
      "cell_type": "code",
      "execution_count": 20,
      "metadata": {
        "colab": {
          "base_uri": "https://localhost:8080/"
        },
        "id": "-8voqkush_Bx",
        "outputId": "81fedc4c-7e7a-41f1-90ff-8cd34cc656c2"
      },
      "outputs": [
        {
          "output_type": "stream",
          "name": "stdout",
          "text": [
            "Epoch 1/12\n",
            "938/938 [==============================] - 5s 4ms/step - loss: 0.4426 - accuracy: 0.9181\n",
            "Epoch 2/12\n",
            "938/938 [==============================] - 3s 4ms/step - loss: 0.0849 - accuracy: 0.9749\n",
            "Epoch 3/12\n",
            "938/938 [==============================] - 3s 3ms/step - loss: 0.0543 - accuracy: 0.9831\n",
            "Epoch 4/12\n",
            "938/938 [==============================] - 3s 3ms/step - loss: 0.0390 - accuracy: 0.9877\n",
            "Epoch 5/12\n",
            "938/938 [==============================] - 3s 4ms/step - loss: 0.0354 - accuracy: 0.9886\n",
            "Epoch 6/12\n",
            "938/938 [==============================] - 3s 3ms/step - loss: 0.0305 - accuracy: 0.9907\n",
            "Epoch 7/12\n",
            "938/938 [==============================] - 3s 3ms/step - loss: 0.0251 - accuracy: 0.9923\n",
            "Epoch 8/12\n",
            "938/938 [==============================] - 3s 3ms/step - loss: 0.0232 - accuracy: 0.9922\n",
            "Epoch 9/12\n",
            "938/938 [==============================] - 4s 4ms/step - loss: 0.0189 - accuracy: 0.9939\n",
            "Epoch 10/12\n",
            "938/938 [==============================] - 3s 3ms/step - loss: 0.0200 - accuracy: 0.9934\n",
            "Epoch 11/12\n",
            "938/938 [==============================] - 3s 3ms/step - loss: 0.0133 - accuracy: 0.9959\n",
            "Epoch 12/12\n",
            "938/938 [==============================] - 4s 4ms/step - loss: 0.0149 - accuracy: 0.9954\n"
          ]
        },
        {
          "output_type": "execute_result",
          "data": {
            "text/plain": [
              "<keras.callbacks.History at 0x79808d033f10>"
            ]
          },
          "metadata": {},
          "execution_count": 20
        }
      ],
      "source": [
        "model.fit(train_dataset, epochs=12)"
      ]
    }
  ],
  "metadata": {
    "colab": {
      "provenance": [],
      "include_colab_link": true
    },
    "kernelspec": {
      "display_name": "Python 3",
      "name": "python3"
    },
    "language_info": {
      "codemirror_mode": {
        "name": "ipython",
        "version": 3
      },
      "file_extension": ".py",
      "mimetype": "text/x-python",
      "name": "python",
      "nbconvert_exporter": "python",
      "pygments_lexer": "ipython3",
      "version": "3.7.6"
    }
  },
  "nbformat": 4,
  "nbformat_minor": 0
}