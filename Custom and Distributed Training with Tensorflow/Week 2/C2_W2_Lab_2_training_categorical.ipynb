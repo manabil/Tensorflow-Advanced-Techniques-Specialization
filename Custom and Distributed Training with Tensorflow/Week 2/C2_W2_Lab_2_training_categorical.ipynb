{
  "cells": [
    {
      "cell_type": "markdown",
      "metadata": {
        "id": "view-in-github",
        "colab_type": "text"
      },
      "source": [
        "<a href=\"https://colab.research.google.com/github/manabil/Tensorflow-Advanced-Techniques-Specialization/blob/main/Custom%20and%20Distributed%20Training%20with%20Tensorflow/Week%202/C2_W2_Lab_2_training_categorical.ipynb\" target=\"_parent\"><img src=\"https://colab.research.google.com/assets/colab-badge.svg\" alt=\"Open In Colab\"/></a>"
      ]
    },
    {
      "cell_type": "markdown",
      "metadata": {
        "id": "XNFVMtUhMt7l"
      },
      "source": [
        "# Fashion MNIST using Custom Training Loop\n",
        "In this ungraded lab, you will build a custom training loop including a validation loop so as to train a model on the [Fashion MNIST](https://research.zalando.com/welcome/mission/research-projects/fashion-mnist/) dataset."
      ]
    },
    {
      "cell_type": "markdown",
      "metadata": {
        "id": "NenrAcsiM7Zl"
      },
      "source": [
        "## Imports"
      ]
    },
    {
      "cell_type": "code",
      "execution_count": 1,
      "metadata": {
        "colab": {
          "base_uri": "https://localhost:8080/"
        },
        "id": "JkMXve8XuN5X",
        "outputId": "ffd28b28-b107-458b-fffa-032533bbb315"
      },
      "outputs": [
        {
          "output_type": "stream",
          "name": "stdout",
          "text": [
            "Colab only includes TensorFlow 2.x; %tensorflow_version has no effect.\n"
          ]
        }
      ],
      "source": [
        "try:\n",
        "  # %tensorflow_version only exists in Colab.\n",
        "  %tensorflow_version 2.x\n",
        "except Exception:\n",
        "  pass\n",
        "\n",
        "import tensorflow as tf\n",
        "import numpy as np\n",
        "import matplotlib.pyplot as plt\n",
        "from tqdm import tqdm\n",
        "import tensorflow_datasets as tfds\n",
        "import matplotlib.ticker as mticker"
      ]
    },
    {
      "cell_type": "markdown",
      "metadata": {
        "id": "wtcG5Of7M-IV"
      },
      "source": [
        "## Load and Preprocess Data\n",
        "You will load the [Fashion MNIST](https://research.zalando.com/welcome/mission/research-projects/fashion-mnist/) dataset using Tensorflow Datasets. This dataset has 28 x 28 grayscale images of articles of clothing belonging to 10 clases.\n",
        "\n",
        "Here you are going to use the training and testing splits of the data. Testing split will be used for validation."
      ]
    },
    {
      "cell_type": "code",
      "execution_count": 2,
      "metadata": {
        "id": "K1qm4y2FmvWJ"
      },
      "outputs": [],
      "source": [
        "train_data: tf.data.Dataset\n",
        "info: object\n",
        "train_data, info = tfds.load(\n",
        "    \"fashion_mnist\",\n",
        "    split=\"train\",\n",
        "    with_info=True,\n",
        "    data_dir='./data/',\n",
        "    download=True\n",
        ")\n",
        "test_data: tf.data.Dataset = tfds.load(\n",
        "    \"fashion_mnist\",\n",
        "    split=\"test\",\n",
        "    data_dir='./data/',\n",
        "    download=True\n",
        ")"
      ]
    },
    {
      "cell_type": "code",
      "execution_count": 3,
      "metadata": {
        "id": "DbliOEMHNiug"
      },
      "outputs": [],
      "source": [
        "class_names: list = [\n",
        "    \"T-shirt/top\",\n",
        "    \"Trouser/pants\",\n",
        "    \"Pullover shirt\",\n",
        "    \"Dress\",\n",
        "    \"Coat\",\n",
        "    \"Sandal\",\n",
        "    \"Shirt\",\n",
        "    \"Sneaker\",\n",
        "    \"Bag\",\n",
        "    \"Ankle boot\"\n",
        "]"
      ]
    },
    {
      "cell_type": "markdown",
      "metadata": {
        "id": "sn718Y0LOIaY"
      },
      "source": [
        "Next, you normalize the images by dividing them by 255.0 so as to make the pixels fall in the range (0, 1). You also reshape the data so as to flatten the 28 x 28 pixel array into a flattened 784 pixel array."
      ]
    },
    {
      "cell_type": "code",
      "execution_count": 4,
      "metadata": {
        "id": "oxwzgw3BmkoD"
      },
      "outputs": [],
      "source": [
        "def format_image(data: np.ndarray) -> tuple[np.ndarray, ...]:\n",
        "    image: np.ndarray = data[\"image\"]\n",
        "    image = tf.reshape(image, [-1])\n",
        "    image = tf.cast(image, 'float32')\n",
        "    image = image / 255.0\n",
        "    return image, data[\"label\"]"
      ]
    },
    {
      "cell_type": "code",
      "execution_count": 5,
      "metadata": {
        "id": "c26dmIL5nmNU"
      },
      "outputs": [],
      "source": [
        "train_data = train_data.map(format_image)\n",
        "test_data = test_data.map(format_image)"
      ]
    },
    {
      "cell_type": "markdown",
      "metadata": {
        "id": "ws3N-uOgOnMf"
      },
      "source": [
        "Now you shuffle and batch your training and test datasets before feeding them to the model."
      ]
    },
    {
      "cell_type": "code",
      "execution_count": 6,
      "metadata": {
        "id": "h9qdsNPen5-F"
      },
      "outputs": [],
      "source": [
        "batch_size: int = 64\n",
        "train: tf.Tensor = train_data.shuffle(buffer_size=1024).batch(batch_size)\n",
        "\n",
        "test: tf.Tensor =  test_data.batch(batch_size=batch_size)"
      ]
    },
    {
      "cell_type": "markdown",
      "metadata": {
        "id": "fuCf0s7eOxKQ"
      },
      "source": [
        "## Define the Model\n",
        "You are using a simple model in this example. You use Keras Functional API to connect two dense layers. The final layer is a softmax that outputs one of the 10 classes since this is a multi class classification problem."
      ]
    },
    {
      "cell_type": "code",
      "execution_count": 7,
      "metadata": {
        "id": "HU3qcM9WBcMh"
      },
      "outputs": [],
      "source": [
        "def base_model() -> tf.keras.Model:\n",
        "  inputs: tf.keras.layers.Layer = tf.keras.Input(shape=(784,), name='digits')\n",
        "  x: tf.keras.layers.Layer = tf.keras.layers.Dense(\n",
        "      64, activation='relu', name='dense_1'\n",
        "  )(inputs)\n",
        "  x: tf.keras.layers.Layer = tf.keras.layers.Dense(\n",
        "      64, activation='relu', name='dense_2'\n",
        "  )(x)\n",
        "  outputs: tf.keras.layers.Layer = tf.keras.layers.Dense(\n",
        "      10, activation='softmax', name='predictions'\n",
        "  )(x)\n",
        "  model: tf.keras.Model = tf.keras.Model(inputs=inputs, outputs=outputs)\n",
        "  return model"
      ]
    },
    {
      "cell_type": "markdown",
      "metadata": {
        "id": "mxaHy1NYPGSb"
      },
      "source": [
        "## Define Optimizer and Loss Function\n",
        "\n",
        "You have chosen `adam` optimizer and sparse categorical crossentropy loss for this example."
      ]
    },
    {
      "cell_type": "code",
      "execution_count": 8,
      "metadata": {
        "id": "v5B3vh6fs84i"
      },
      "outputs": [],
      "source": [
        "Loss = tf.keras.losses.Loss\n",
        "optimizer: tf.keras.optimizers.Optimizer = tf.keras.optimizers.Adam()\n",
        "loss_object: Loss = tf.keras.losses.SparseCategoricalCrossentropy()"
      ]
    },
    {
      "cell_type": "markdown",
      "metadata": {
        "id": "w1fJsdYIPTb8"
      },
      "source": [
        "## Define Metrics\n",
        "\n",
        "You will also define metrics so that your training loop can update and display them. Here you are using `SparseCategoricalAccuracy`defined in `tf.keras.metrics` since the problem at hand is a multi class classification problem."
      ]
    },
    {
      "cell_type": "code",
      "execution_count": 9,
      "metadata": {
        "id": "7Pa_x-5-CH_V"
      },
      "outputs": [],
      "source": [
        "Metric = tf.keras.metrics.Metric\n",
        "train_acc_metric: Metric = tf.keras.metrics.SparseCategoricalAccuracy()\n",
        "val_acc_metric: Metric = tf.keras.metrics.SparseCategoricalAccuracy()"
      ]
    },
    {
      "cell_type": "markdown",
      "metadata": {
        "id": "HVFI54MpQUDp"
      },
      "source": [
        "## Building Training Loop\n",
        "In this section you build your training loop consisting of training and validation sequences."
      ]
    },
    {
      "cell_type": "markdown",
      "metadata": {
        "id": "9n90NqQmQfJv"
      },
      "source": [
        "The core of training is using the model to calculate the logits on specific set of inputs and compute loss (in this case **sparse categorical crossentropy**) by comparing the predicted outputs to the true outputs. You then update the trainable weights using the optimizer algorithm chosen. Optimizer algorithm requires your computed loss and partial derivatives of loss with respect to each of the trainable weights to make updates to the same.\n",
        "\n",
        "You use gradient tape to calculate the gradients and then update the model trainable weights using the optimizer."
      ]
    },
    {
      "cell_type": "code",
      "execution_count": 10,
      "metadata": {
        "id": "MMPe25Dstn0v"
      },
      "outputs": [],
      "source": [
        "def apply_gradient(\n",
        "    optimizer: tf.keras.metrics.Metric,\n",
        "    model: tf.keras.Model,\n",
        "    x: tf.data.Dataset,\n",
        "    y: tf.data.Dataset\n",
        ") -> tuple[tf.Tensor, ...]:\n",
        "  with tf.GradientTape() as tape:\n",
        "    logits: tf.Tensor = model(x)\n",
        "    loss_value: tf.Tensor = loss_object(y_true=y, y_pred=logits)\n",
        "\n",
        "  gradients: list = tape.gradient(loss_value, model.trainable_weights)\n",
        "  optimizer.apply_gradients(zip(gradients, model.trainable_weights))\n",
        "\n",
        "  return logits, loss_value"
      ]
    },
    {
      "cell_type": "markdown",
      "metadata": {
        "id": "KZnuYWn8QrU9"
      },
      "source": [
        "This function performs training during one epoch. You run through all batches of training data in each epoch to make updates to trainable weights using your previous function. You can see that we also call update_state on your metrics to accumulate the value of your metrics.\n",
        "You are displaying a progress bar to indicate completion of training in each epoch. Here you use tqdm for displaying the progress bar."
      ]
    },
    {
      "cell_type": "code",
      "execution_count": 11,
      "metadata": {
        "id": "3fHoh_hgz2PC"
      },
      "outputs": [],
      "source": [
        "def train_data_for_one_epoch() -> list[tf.Tensor]:\n",
        "  losses: list = []\n",
        "  pbar: tqdm = tqdm(\n",
        "      total=len(list(enumerate(train))),\n",
        "      position=0,\n",
        "      leave=True,\n",
        "      bar_format='{l_bar}{bar}| {n_fmt}/{total_fmt} '\n",
        "  )\n",
        "  for step, (x_batch_train, y_batch_train) in enumerate(train):\n",
        "      logits: tf.Tensor\n",
        "      loss_value: tf.Tensor\n",
        "      logits, loss_value = apply_gradient(\n",
        "          optimizer, model, x_batch_train, y_batch_train\n",
        "      )\n",
        "\n",
        "      losses.append(loss_value)\n",
        "\n",
        "      train_acc_metric(y_batch_train, logits)\n",
        "      pbar.set_description(f\"Training loss for step {step}: {loss_value:.4f}\")\n",
        "      pbar.update()\n",
        "  return losses"
      ]
    },
    {
      "cell_type": "markdown",
      "metadata": {
        "id": "kBZyXnuUQxVn"
      },
      "source": [
        "At the end of each epoch you have to validate the model on the test dataset. The following function calculates the loss on test dataset and updates the states of the validation metrics."
      ]
    },
    {
      "cell_type": "code",
      "execution_count": 12,
      "metadata": {
        "id": "5gLJyAJE0YRc"
      },
      "outputs": [],
      "source": [
        "def perform_validation() -> list[tf.Tensor]:\n",
        "  losses: list = []\n",
        "  for x_val, y_val in test:\n",
        "      val_logits: tf.Tensor = model(x_val)\n",
        "      val_loss: tf.Tensor = loss_object(y_true=y_val, y_pred=val_logits)\n",
        "      losses.append(val_loss)\n",
        "      val_acc_metric(y_val, val_logits)\n",
        "  return losses"
      ]
    },
    {
      "cell_type": "markdown",
      "metadata": {
        "id": "rh74YX2nQ2i1"
      },
      "source": [
        "Next you define the training loop that runs through the training samples repeatedly over a fixed number of epochs. Here you combine the functions you built earlier to establish the following flow:\n",
        "1. Perform training over all batches of training data.\n",
        "2. Get values of metrics.\n",
        "3. Perform validation to calculate loss and update validation metrics on test data.\n",
        "4. Reset the metrics at the end of epoch.\n",
        "5. Display statistics at the end of each epoch.\n",
        "\n",
        "**Note** : You also calculate the training and validation losses for the whole epoch at the end of the epoch."
      ]
    },
    {
      "cell_type": "code",
      "execution_count": 13,
      "metadata": {
        "colab": {
          "base_uri": "https://localhost:8080/"
        },
        "id": "OOO1x3VyuPUV",
        "outputId": "8b419ff6-9c8a-4a46-8562-4d252598c0fa"
      },
      "outputs": [
        {
          "output_type": "stream",
          "name": "stdout",
          "text": [
            "Start of epoch 0\n"
          ]
        },
        {
          "output_type": "stream",
          "name": "stderr",
          "text": [
            "Training loss for step 937: 0.5230: 100%|██████████| 938/938 \n"
          ]
        },
        {
          "output_type": "stream",
          "name": "stdout",
          "text": [
            "Epoch 0: Train loss: 0.5433  Validation Loss: 0.4842, Train Accuracy: 0.8094, Validation Accuracy 0.8277\n",
            "\n",
            "Start of epoch 1\n"
          ]
        },
        {
          "output_type": "stream",
          "name": "stderr",
          "text": [
            "Training loss for step 937: 0.2169: 100%|██████████| 938/938 \n"
          ]
        },
        {
          "output_type": "stream",
          "name": "stdout",
          "text": [
            "Epoch 1: Train loss: 0.3900  Validation Loss: 0.4269, Train Accuracy: 0.8587, Validation Accuracy 0.8462\n",
            "\n",
            "Start of epoch 2\n"
          ]
        },
        {
          "output_type": "stream",
          "name": "stderr",
          "text": [
            "Training loss for step 937: 0.3261: 100%|██████████| 938/938 \n"
          ]
        },
        {
          "output_type": "stream",
          "name": "stdout",
          "text": [
            "Epoch 2: Train loss: 0.3534  Validation Loss: 0.3846, Train Accuracy: 0.8705, Validation Accuracy 0.8643\n",
            "\n",
            "Start of epoch 3\n"
          ]
        },
        {
          "output_type": "stream",
          "name": "stderr",
          "text": [
            "Training loss for step 937: 0.3062: 100%|██████████| 938/938 \n"
          ]
        },
        {
          "output_type": "stream",
          "name": "stdout",
          "text": [
            "Epoch 3: Train loss: 0.3289  Validation Loss: 0.3738, Train Accuracy: 0.8795, Validation Accuracy 0.8651\n",
            "\n",
            "Start of epoch 4\n"
          ]
        },
        {
          "output_type": "stream",
          "name": "stderr",
          "text": [
            "Training loss for step 937: 0.2376: 100%|██████████| 938/938 \n"
          ]
        },
        {
          "output_type": "stream",
          "name": "stdout",
          "text": [
            "Epoch 4: Train loss: 0.3128  Validation Loss: 0.3708, Train Accuracy: 0.8851, Validation Accuracy 0.8705\n",
            "\n",
            "Start of epoch 5\n"
          ]
        },
        {
          "output_type": "stream",
          "name": "stderr",
          "text": [
            "Training loss for step 937: 0.2290: 100%|██████████| 938/938 \n"
          ]
        },
        {
          "output_type": "stream",
          "name": "stdout",
          "text": [
            "Epoch 5: Train loss: 0.2974  Validation Loss: 0.3454, Train Accuracy: 0.8907, Validation Accuracy 0.8769\n",
            "\n",
            "Start of epoch 6\n"
          ]
        },
        {
          "output_type": "stream",
          "name": "stderr",
          "text": [
            "Training loss for step 937: 0.1352: 100%|██████████| 938/938 \n"
          ]
        },
        {
          "output_type": "stream",
          "name": "stdout",
          "text": [
            "Epoch 6: Train loss: 0.2871  Validation Loss: 0.3508, Train Accuracy: 0.8931, Validation Accuracy 0.8769\n",
            "\n",
            "Start of epoch 7\n"
          ]
        },
        {
          "output_type": "stream",
          "name": "stderr",
          "text": [
            "Training loss for step 937: 0.3449: 100%|██████████| 938/938 \n"
          ]
        },
        {
          "output_type": "stream",
          "name": "stdout",
          "text": [
            "Epoch 7: Train loss: 0.2750  Validation Loss: 0.3739, Train Accuracy: 0.8980, Validation Accuracy 0.8699\n",
            "\n",
            "Start of epoch 8\n"
          ]
        },
        {
          "output_type": "stream",
          "name": "stderr",
          "text": [
            "Training loss for step 937: 0.1773: 100%|██████████| 938/938 \n"
          ]
        },
        {
          "output_type": "stream",
          "name": "stdout",
          "text": [
            "Epoch 8: Train loss: 0.2676  Validation Loss: 0.3519, Train Accuracy: 0.9005, Validation Accuracy 0.8785\n",
            "\n",
            "Start of epoch 9\n"
          ]
        },
        {
          "output_type": "stream",
          "name": "stderr",
          "text": [
            "Training loss for step 937: 0.1951: 100%|██████████| 938/938 \n"
          ]
        },
        {
          "output_type": "stream",
          "name": "stdout",
          "text": [
            "Epoch 9: Train loss: 0.2580  Validation Loss: 0.3517, Train Accuracy: 0.9038, Validation Accuracy 0.8800\n",
            "\n"
          ]
        }
      ],
      "source": [
        "\n",
        "model: tf.keras.Model = base_model()\n",
        "\n",
        "# Iterate over epochs.\n",
        "epochs: int = 10\n",
        "epochs_val_losses: list = []\n",
        "epochs_train_losses: list = []\n",
        "\n",
        "for epoch in range(epochs):\n",
        "  print(f'Start of epoch {epoch}')\n",
        "\n",
        "  losses_train: list[tf.Tensor] = train_data_for_one_epoch()\n",
        "  train_acc: tf.Tensor = train_acc_metric.result()\n",
        "\n",
        "  losses_val: list[tf.Tensor] = perform_validation()\n",
        "  val_acc: tf.Tensor = val_acc_metric.result()\n",
        "\n",
        "  losses_train_mean: np.float32 = np.mean(losses_train)\n",
        "  losses_val_mean: np.float32 = np.mean(losses_val)\n",
        "  epochs_val_losses.append(losses_val_mean)\n",
        "  epochs_train_losses.append(losses_train_mean)\n",
        "\n",
        "  print(f'Epoch {epoch}: Train loss: {losses_train_mean:.4f} \\\n",
        "  Validation Loss: {losses_val_mean:.4f}, \\\n",
        "  Train Accuracy: {train_acc:.4f}, Validation Accuracy {val_acc:.4f}\\n')\n",
        "\n",
        "  train_acc_metric.reset_states()\n",
        "  val_acc_metric.reset_states()\n"
      ]
    },
    {
      "cell_type": "markdown",
      "metadata": {
        "id": "ltKpkpzKK_Up"
      },
      "source": [
        "## Evaluate Model"
      ]
    },
    {
      "cell_type": "markdown",
      "metadata": {
        "id": "tfGc-gMPLCDn"
      },
      "source": [
        "### Plots for Evaluation\n",
        "You plot the progress of loss as training proceeds over number of epochs."
      ]
    },
    {
      "cell_type": "code",
      "execution_count": 14,
      "metadata": {
        "id": "NjzIlGipJwC_",
        "colab": {
          "base_uri": "https://localhost:8080/",
          "height": 452
        },
        "outputId": "9fce1025-c24c-4581-e5dc-d014f5737478"
      },
      "outputs": [
        {
          "output_type": "display_data",
          "data": {
            "text/plain": [
              "<Figure size 640x480 with 1 Axes>"
            ],
            "image/png": "[encoded data removed]"
          },
          "metadata": {}
        }
      ],
      "source": [
        "def plot_metrics(\n",
        "    train_metric: list[np.float32],\n",
        "    val_metric: list[np.float32],\n",
        "    metric_name: str,\n",
        "    title: str,\n",
        "    ylim: float=5\n",
        ") -> None:\n",
        "  plt.title(title)\n",
        "  plt.ylim(0,ylim)\n",
        "  plt.gca().xaxis.set_major_locator(mticker.MultipleLocator(1))\n",
        "  plt.plot(train_metric,color='blue',label=metric_name)\n",
        "  plt.plot(val_metric,color='green',label='val_' + metric_name)\n",
        "\n",
        "plot_metrics(epochs_train_losses, epochs_val_losses, \"Loss\", \"Loss\", ylim=1.0)"
      ]
    },
    {
      "cell_type": "markdown",
      "metadata": {
        "id": "adpLKxFfZzTD"
      },
      "source": [
        "This function displays a row of images with their predictions and true labels."
      ]
    },
    {
      "cell_type": "code",
      "execution_count": 15,
      "metadata": {
        "id": "_3PJnCRIO8bM"
      },
      "outputs": [],
      "source": [
        "# utility to display a row of images with their predictions and true labels\n",
        "def display_images(\n",
        "    image: np.ndarray,\n",
        "    predictions: list[str],\n",
        "    labels: list[str],\n",
        "    title: str,\n",
        "    n: int\n",
        ") -> None:\n",
        "\n",
        "  display_strings = [f\"{i}\\n\\n{j}\" for i, j in zip(predictions, labels)]\n",
        "\n",
        "  plt.figure(figsize=(17,3))\n",
        "  plt.title(title)\n",
        "  plt.yticks([])\n",
        "  plt.xticks([(28*x) + 14 for x in range(n)], display_strings)\n",
        "  plt.grid(None)\n",
        "  image = np.reshape(image, [n, 28, 28])\n",
        "  image = np.swapaxes(image, 0, 1)\n",
        "  image = np.reshape(image, [28, 28*n])\n",
        "  plt.imshow(image)"
      ]
    },
    {
      "cell_type": "markdown",
      "metadata": {
        "id": "505DveJuaCNO"
      },
      "source": [
        "You make predictions on the test dataset and plot the images with their true and predicted values."
      ]
    },
    {
      "cell_type": "code",
      "execution_count": 16,
      "metadata": {
        "id": "5ybveIIcPgVr",
        "colab": {
          "base_uri": "https://localhost:8080/",
          "height": 233
        },
        "outputId": "33a56ab2-7460-41a1-d7af-245f6b9171a8"
      },
      "outputs": [
        {
          "output_type": "display_data",
          "data": {
            "text/plain": [
              "<Figure size 1700x300 with 1 Axes>"
            ],
            "image/png": "[encoded data removed]"
          },
          "metadata": {}
        }
      ],
      "source": [
        "test_inputs: tf.data.Dataset = test_data.batch(batch_size=1000001)\n",
        "x_batches: np.ndarray = np.array([])\n",
        "y_pred_batches: np.ndarray = np.array([])\n",
        "y_true_batches: np.ndarray = np.array([])\n",
        "\n",
        "for x, y in test_inputs:\n",
        "  y_pred: tf.Tensor = model(x)\n",
        "  y_pred_batches = y_pred.numpy()\n",
        "  y_true_batches = y.numpy()\n",
        "  x_batches = x.numpy()\n",
        "\n",
        "indexes: np.ndarray = np.random.choice(len(y_pred_batches), size=10)\n",
        "images_to_plot: np.ndarray = x_batches[indexes]\n",
        "y_pred_to_plot: np.ndarray = y_pred_batches[indexes]\n",
        "y_true_to_plot: np.ndarray = y_true_batches[indexes]\n",
        "\n",
        "y_pred_labels: list[str] = [class_names[np.argmax(y)] for y in y_pred_to_plot]\n",
        "y_true_labels: list[str] = [class_names[y_true] for y_true in y_true_to_plot]\n",
        "display_images(\n",
        "    images_to_plot,\n",
        "    y_pred_labels,\n",
        "    y_true_labels,\n",
        "    \"Predicted and True Values\",\n",
        "    10\n",
        ")"
      ]
    }
  ],
  "metadata": {
    "colab": {
      "provenance": [],
      "include_colab_link": true
    },
    "kernelspec": {
      "display_name": "Python 3",
      "name": "python3"
    },
    "language_info": {
      "codemirror_mode": {
        "name": "ipython",
        "version": 3
      },
      "file_extension": ".py",
      "mimetype": "text/x-python",
      "name": "python",
      "nbconvert_exporter": "python",
      "pygments_lexer": "ipython3",
      "version": "3.7.6"
    }
  },
  "nbformat": 4,
  "nbformat_minor": 0
}