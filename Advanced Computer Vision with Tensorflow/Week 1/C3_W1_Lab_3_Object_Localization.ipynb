{
  "nbformat": 4,
  "nbformat_minor": 0,
  "metadata": {
    "accelerator": "TPU",
    "colab": {
      "provenance": [],
      "include_colab_link": true
    },
    "kernelspec": {
      "display_name": "Python 3",
      "name": "python3"
    },
    "language_info": {
      "codemirror_mode": {
        "name": "ipython",
        "version": 3
      },
      "file_extension": ".py",
      "mimetype": "text/x-python",
      "name": "python",
      "nbconvert_exporter": "python",
      "pygments_lexer": "ipython3",
      "version": "3.7.4"
    }
  },
  "cells": [
    {
      "cell_type": "markdown",
      "metadata": {
        "id": "view-in-github",
        "colab_type": "text"
      },
      "source": [
        "<a href=\"https://colab.research.google.com/github/manabil/Tensorflow-Advanced-Techniques-Specialization/blob/main/Advanced%20Computer%20Vision%20with%20Tensorflow/Week%201/C3_W1_Lab_3_Object_Localization.ipynb\" target=\"_parent\"><img src=\"https://colab.research.google.com/assets/colab-badge.svg\" alt=\"Open In Colab\"/></a>"
      ]
    },
    {
      "cell_type": "markdown",
      "metadata": {
        "id": "KsjDCIat6_UK"
      },
      "source": [
        "# Image Classification and Object Localization\n",
        "\n",
        "In this lab, you'll build a CNN from scratch to:\n",
        "- classify the main subject in an image\n",
        "- localize it by drawing bounding boxes around it.\n",
        "\n",
        "You'll use the [MNIST](http://yann.lecun.com/exdb/mnist/) dataset to synthesize a custom dataset for the task:\n",
        "- Place each \"digit\" image on a black canvas of width 75 x 75 at random locations.\n",
        "- Calculate the corresponding bounding boxes for those \"digits\".\n",
        "\n",
        "The bounding box prediction can be modelled as a \"regression\" task, which means that the model will predict a numeric value (as opposed to a category)."
      ]
    },
    {
      "cell_type": "markdown",
      "metadata": {
        "id": "qpiJj8ym0v0-"
      },
      "source": [
        "## Imports"
      ]
    },
    {
      "cell_type": "code",
      "metadata": {
        "id": "AoilhmYe1b5t",
        "colab": {
          "base_uri": "https://localhost:8080/"
        },
        "outputId": "1e3f549a-7912-467b-f919-1807d49bd15a"
      },
      "source": [
        "import numpy as np\n",
        "import os\n",
        "import PIL.Image\n",
        "import PIL.ImageFont\n",
        "import PIL.ImageDraw\n",
        "import tensorflow as tf\n",
        "import tensorflow_datasets as tfds\n",
        "try:\n",
        "  # %tensorflow_version only exists in Colab.\n",
        "  %tensorflow_version 2.x\n",
        "except Exception:\n",
        "  pass\n",
        "from matplotlib import pyplot as plt\n",
        "from typing import Optional\n",
        "\n",
        "print(\"Tensorflow version \" + tf.__version__)"
      ],
      "execution_count": 1,
      "outputs": [
        {
          "output_type": "stream",
          "name": "stdout",
          "text": [
            "Colab only includes TensorFlow 2.x; %tensorflow_version has no effect.\n",
            "Tensorflow version 2.12.0\n"
          ]
        }
      ]
    },
    {
      "cell_type": "markdown",
      "metadata": {
        "id": "xmoFKEd98MP3"
      },
      "source": [
        "# Visualization Utilities\n",
        "\n",
        "These functions are used to draw bounding boxes around the digits."
      ]
    },
    {
      "cell_type": "code",
      "metadata": {
        "id": "tBjj1Fg-i_lc"
      },
      "source": [
        "#@title Plot Utilities for Bounding Boxes [RUN ME]\n",
        "\n",
        "im_width: int = 75\n",
        "im_height: int = 75\n",
        "use_normalized_coordinates: bool = True\n",
        "\n",
        "def draw_bounding_boxes_on_image_array(\n",
        "    image: np.ndarray,\n",
        "    boxes: np.ndarray,\n",
        "    color: list=[],\n",
        "    thickness: int=1,\n",
        "    display_str_list: list=[]\n",
        ") -> np.ndarray:\n",
        "    \"\"\"Draws bounding boxes on image (numpy array).\n",
        "    Args:\n",
        "    image: a numpy array object.\n",
        "    boxes: a 2 dimensional numpy array of [N, 4]: (ymin, xmin, ymax, xmax).\n",
        "            The coordinates are in normalized format between [0, 1].\n",
        "    color: color to draw bounding box. Default is red.\n",
        "    thickness: line thickness. Default value is 4.\n",
        "    display_str_list_list: a list of strings for each bounding box.\n",
        "    Raises:\n",
        "        ValueError: if boxes is not a [N, 4] array\n",
        "    \"\"\"\n",
        "    image_pil: PIL.Image.Image = PIL.Image.fromarray(image)\n",
        "    rgbimg: PIL.Image.Image = PIL.Image.new(\"RGBA\", image_pil.size)\n",
        "    rgbimg.paste(image_pil)\n",
        "    draw_bounding_boxes_on_image(\n",
        "        rgbimg, boxes, color, thickness, display_str_list\n",
        "    )\n",
        "    return np.array(rgbimg)\n",
        "\n",
        "\n",
        "def draw_bounding_boxes_on_image(\n",
        "    image: PIL.Image.Image,\n",
        "    boxes: np.ndarray,\n",
        "    color: list=[],\n",
        "    thickness: int=1,\n",
        "    display_str_list: list=[]\n",
        ") -> None:\n",
        "    \"\"\"Draws bounding boxes on image.\n",
        "    Args:\n",
        "        image: a PIL.Image object.\n",
        "        boxes: a 2 dimensional numpy array of [N, 4]: (ymin, xmin, ymax, xmax).\n",
        "                The coordinates are in normalized format between [0, 1].\n",
        "        color: color to draw bounding box. Default is red.\n",
        "        thickness: line thickness. Default value is 4.\n",
        "        display_str_list: a list of strings for each bounding box.\n",
        "\n",
        "    Raises:\n",
        "        ValueError: if boxes is not a [N, 4] array\n",
        "    \"\"\"\n",
        "    boxes_shape: tuple[int] = boxes.shape\n",
        "    if not boxes_shape:\n",
        "        return\n",
        "    if len(boxes_shape) != 2 or boxes_shape[1] != 4:\n",
        "        raise ValueError('Input must be of size [N, 4]')\n",
        "    for i in range(boxes_shape[0]):\n",
        "        draw_bounding_box_on_image(\n",
        "            image,\n",
        "            boxes[i, 1],\n",
        "            boxes[i, 0],\n",
        "            boxes[i, 3],\n",
        "            boxes[i, 2],\n",
        "            color[i],\n",
        "            thickness,\n",
        "            display_str_list[i]\n",
        "        )\n",
        "\n",
        "def draw_bounding_box_on_image(\n",
        "    image: PIL.Image.Image,\n",
        "    ymin: np.float32,\n",
        "    xmin: np.float32,\n",
        "    ymax: np.float32,\n",
        "    xmax: np.float32,\n",
        "    color: str='red',\n",
        "    thickness: int=1,\n",
        "    display_str: Optional[str]=None,\n",
        "    use_normalized_coordinates: bool=True\n",
        ") -> None:\n",
        "    \"\"\"Adds a bounding box to an image.\n",
        "    Bounding box coordinates can be specified in either absolute (pixel) or\n",
        "    normalized coordinates by setting the use_normalized_coordinates argument.\n",
        "    Args:\n",
        "        image: a PIL.Image object.\n",
        "        ymin: ymin of bounding box.\n",
        "        xmin: xmin of bounding box.\n",
        "        ymax: ymax of bounding box.\n",
        "        xmax: xmax of bounding box.\n",
        "        color: color to draw bounding box. Default is red.\n",
        "        thickness: line thickness. Default value is 4.\n",
        "        display_str_list: string to display in box\n",
        "        use_normalized_coordinates: If True (default), treat coordinates\n",
        "            ymin, xmin, ymax, xmax as relative to the image.  Otherwise treat\n",
        "            coordinates as absolute.\n",
        "    \"\"\"\n",
        "    draw: PIL.ImageDraw.ImageDraw = PIL.ImageDraw.Draw(image)\n",
        "    im_width: int\n",
        "    im_height: int\n",
        "    im_width, im_height = image.size\n",
        "    if use_normalized_coordinates:\n",
        "        (left, right, top, bottom) = (\n",
        "            xmin * im_width,\n",
        "            xmax * im_width,\n",
        "            ymin * im_height,\n",
        "            ymax * im_height\n",
        "        )\n",
        "    else:\n",
        "        (left, right, top, bottom) = (xmin, xmax, ymin, ymax)\n",
        "    draw.line(\n",
        "        [\n",
        "            (left, top),\n",
        "            (left, bottom),\n",
        "            (right, bottom),\n",
        "            (right, top),\n",
        "            (left, top)\n",
        "        ],\n",
        "        width=thickness, fill=color\n",
        "    )\n",
        "\n"
      ],
      "execution_count": 2,
      "outputs": []
    },
    {
      "cell_type": "markdown",
      "metadata": {
        "id": "USx9tRBF8hWy"
      },
      "source": [
        "These utilities are used to visualize the data and predictions."
      ]
    },
    {
      "cell_type": "code",
      "metadata": {
        "id": "qhdz68Xm3Z4Z"
      },
      "source": [
        "#@title Visualization Utilities [RUN ME]\n",
        "\"\"\"\n",
        "This cell contains helper functions used for visualization\n",
        "and downloads only.\n",
        "\n",
        "You can skip reading it, as there is very\n",
        "little Keras or Tensorflow related code here.\n",
        "\"\"\"\n",
        "\n",
        "# Matplotlib config\n",
        "plt.rc('image', cmap='gray')\n",
        "plt.rc('grid', linewidth=0)\n",
        "plt.rc('xtick', top=False, bottom=False, labelsize='large')\n",
        "plt.rc('ytick', left=False, right=False, labelsize='large')\n",
        "plt.rc('axes', facecolor='F8F8F8', titlesize=\"large\", edgecolor='white')\n",
        "plt.rc('text', color='a8151a')\n",
        "plt.rc('figure', facecolor='F0F0F0')# Matplotlib fonts\n",
        "MATPLOTLIB_FONT_DIR: str = os.path.join(\n",
        "    os.path.dirname(plt.__file__), \"mpl-data/fonts/ttf\"\n",
        ")\n",
        "\n",
        "# pull a batch from the datasets. This code is not very nice, it gets much\n",
        "# better in eager mode (TODO)\n",
        "def dataset_to_numpy_util(\n",
        "    training_dataset: tf.data.Dataset,\n",
        "    validation_dataset: tf.data.Dataset,\n",
        "    N: int\n",
        ") -> tuple[np.ndarray, ...]:\n",
        "    # get one batch from each: 10000 validation digits, N training digits\n",
        "    batch_train_ds: tf.data.Dataset = training_dataset.unbatch().batch(N)\n",
        "\n",
        "    # eager execution: loop through datasets normally\n",
        "    if tf.executing_eagerly():\n",
        "        for validation_digits, (\n",
        "            validation_labels, validation_bboxes\n",
        "        ) in validation_dataset:\n",
        "            validation_digits: np.ndarray = validation_digits.numpy()\n",
        "            validation_labels = validation_labels.numpy()\n",
        "            validation_bboxes: np.ndarray = validation_bboxes.numpy()\n",
        "            break\n",
        "        for training_digits, (\n",
        "            training_labels, training_bboxes\n",
        "        ) in batch_train_ds:\n",
        "            training_digits: np.ndarray = training_digits.numpy()\n",
        "            training_labels = training_labels.numpy()\n",
        "            training_bboxes: np.ndarray = training_bboxes.numpy()\n",
        "            break\n",
        "\n",
        "    # these were one-hot encoded in the dataset\n",
        "    validation_labels: np.ndarray = np.argmax(validation_labels, axis=1)\n",
        "    training_labels: np.ndarray = np.argmax(training_labels, axis=1)\n",
        "\n",
        "    return (training_digits,\n",
        "            training_labels,\n",
        "            training_bboxes,\n",
        "            validation_digits,\n",
        "            validation_labels,\n",
        "            validation_bboxes)\n",
        "\n",
        "\n",
        "# utility to display a row of digits with their predictions\n",
        "def display_digits_with_boxes(\n",
        "    digits: np.ndarray,\n",
        "    predictions: np.ndarray,\n",
        "    labels: np.ndarray,\n",
        "    pred_bboxes: np.ndarray,\n",
        "    bboxes: np.ndarray,\n",
        "    iou: np.ndarray,\n",
        "    title: str\n",
        ") -> None:\n",
        "    n: int = 10\n",
        "\n",
        "    indexes: np.ndarray = np.random.choice(len(predictions), size=n)\n",
        "    n_digits: np.ndarray = digits[indexes]\n",
        "    n_predictions: np.ndarray = predictions[indexes]\n",
        "    n_labels: np.ndarray = labels[indexes]\n",
        "\n",
        "    if len(iou) > 0:\n",
        "        n_iou: np.ndarray = iou[indexes]\n",
        "\n",
        "    if (len(pred_bboxes) > 0):\n",
        "        n_pred_bboxes: np.ndarray = pred_bboxes[indexes,:]\n",
        "\n",
        "    if (len(bboxes) > 0):\n",
        "        n_bboxes: np.ndarray = bboxes[indexes,:]\n",
        "\n",
        "\n",
        "    n_digits: np.ndarray = n_digits * 255.0\n",
        "    n_digits = n_digits.reshape(n, 75, 75)\n",
        "    fig: plt.Figure = plt.figure(figsize=(20, 4))\n",
        "    plt.title(title)\n",
        "    plt.yticks([])\n",
        "    plt.xticks([])\n",
        "\n",
        "    for i in range(10):\n",
        "        ax: plt.Axes = fig.add_subplot(1, 10, i+1)\n",
        "        bboxes_to_plot: list = []\n",
        "        if (len(pred_bboxes) > i):\n",
        "            bboxes_to_plot.append(n_pred_bboxes[i])\n",
        "\n",
        "        if (len(bboxes) > i):\n",
        "            bboxes_to_plot.append(n_bboxes[i])\n",
        "\n",
        "        img_to_draw = draw_bounding_boxes_on_image_array(\n",
        "            image=n_digits[i],\n",
        "            boxes=np.asarray(bboxes_to_plot),\n",
        "            color=['red', 'green'],\n",
        "            display_str_list=[\"true\", \"pred\"]\n",
        "        )\n",
        "        plt.xlabel(n_predictions[i])\n",
        "        plt.xticks([])\n",
        "        plt.yticks([])\n",
        "\n",
        "        if n_predictions[i] != n_labels[i]:\n",
        "            ax.xaxis.label.set_color('red')\n",
        "\n",
        "\n",
        "\n",
        "        plt.imshow(img_to_draw)\n",
        "\n",
        "        if len(iou) > i :\n",
        "            color = \"black\"\n",
        "            if (n_iou[i][0] < iou_threshold):\n",
        "                color = \"red\"\n",
        "            ax.text(\n",
        "                0.2,\n",
        "                -0.3,\n",
        "                \"iou: %s\" %(n_iou[i][0]),\n",
        "                color=color,\n",
        "                transform=ax.transAxes\n",
        "            )\n",
        "\n",
        "\n",
        "# utility to display training and validation curves\n",
        "def plot_metrics(metric_name: str, title: str, ylim: int=5):\n",
        "    plt.title(title)\n",
        "    plt.ylim(0,ylim)\n",
        "    plt.plot(history.history[metric_name], color='blue', label=metric_name)\n",
        "    plt.plot(\n",
        "        history.history[f'val_{metric_name}'],\n",
        "        color='green',\n",
        "        label=f'val_{metric_name}'\n",
        "    )"
      ],
      "execution_count": 3,
      "outputs": []
    },
    {
      "cell_type": "markdown",
      "metadata": {
        "id": "_Ok__0RB-M8S"
      },
      "source": [
        "## Selecting Between Strategies"
      ]
    },
    {
      "cell_type": "markdown",
      "metadata": {
        "id": "R4jujVYWY9-6"
      },
      "source": [
        "### TPU or GPU detection\n",
        "\n",
        "Depending on the hardware available, you'll use different distribution strategies.  For a review on distribution strategies, please check out the second course in this specialization [\"Custom and Distributed Training with TensorFlow\"](https://www.coursera.org/learn/custom-distributed-training-with-tensorflow), week 4, \"Distributed Training\".\n",
        "\n",
        "- If the TPU is available, then you'll be using the TPU Strategy.\n",
        "Otherwise:\n",
        "- If more than one GPU is available, then you'll use the Mirrored Strategy\n",
        "- If one GPU is available or if just the CPU is available, you'll use the default strategy."
      ]
    },
    {
      "cell_type": "code",
      "metadata": {
        "id": "Hd5zB1G7Y9-7",
        "colab": {
          "base_uri": "https://localhost:8080/"
        },
        "outputId": "09d18007-58d4-4841-d75e-0218bceb75d0"
      },
      "source": [
        "# Detect hardware\n",
        "try:\n",
        "    Rslvr = tf.distribute.cluster_resolver.ClusterResolver\n",
        "    # TPU detection\n",
        "    tpu: Optional[Rslvr] = tf.distribute.cluster_resolver.TPUClusterResolver()\n",
        "except ValueError:\n",
        "    tpu = None\n",
        "    gpus: list = tf.config.experimental.list_logical_devices(\"GPU\")\n",
        "\n",
        "# Select appropriate distribution strategy\n",
        "if tpu:\n",
        "    tf.config.experimental_connect_to_cluster(tpu)\n",
        "    tf.tpu.experimental.initialize_tpu_system(tpu)\n",
        "    # Going back and forth between TPU and host is expensive. Better to run 128\n",
        "    # batches on the TPU before reporting back.\n",
        "    strategy: tf.distribute.Strategy = tf.distribute.TPUStrategy(tpu)\n",
        "    print('Running on TPU ', tpu.cluster_spec().as_dict()['worker'])\n",
        "elif len(gpus) > 1:\n",
        "    strategy: tf.distribute.Strategy = tf.distribute.MirroredStrategy(\n",
        "        [gpu.name for gpu in gpus]\n",
        "    )\n",
        "    print('Running on multiple GPUs ', [gpu.name for gpu in gpus])\n",
        "elif len(gpus) == 1:\n",
        "    # default strategy that works on CPU and single GPU\n",
        "    strategy = tf.distribute.get_strategy()\n",
        "    print('Running on single GPU ', gpus[0].name)\n",
        "else:\n",
        "    # default strategy that works on CPU and single GPU\n",
        "    strategy: tf.distribute.Strategy = tf.distribute.get_strategy()\n",
        "    print('Running on CPU')\n",
        "print(\"Number of accelerators: \", strategy.num_replicas_in_sync)"
      ],
      "execution_count": 4,
      "outputs": [
        {
          "output_type": "stream",
          "name": "stdout",
          "text": [
            "Running on TPU  ['10.75.81.210:8470']\n",
            "Number of accelerators:  8\n"
          ]
        }
      ]
    },
    {
      "cell_type": "markdown",
      "metadata": {
        "id": "Lvo0t7XVIkWZ"
      },
      "source": [
        "### Parameters\n",
        "\n",
        "The global batch size is the batch size per replica (64 in this case) times the number of replicas in the distribution strategy."
      ]
    },
    {
      "cell_type": "code",
      "metadata": {
        "id": "cCpkS9C_H7Tl"
      },
      "source": [
        "BATCH_SIZE: int = 64 * strategy.num_replicas_in_sync # Gobal batch size.\n",
        "# The global batch size will be automatically sharded across all\n",
        "# replicas by the tf.data.Dataset API. A single TPU has 8 cores.\n",
        "# The best practice is to scale the batch size by the number of\n",
        "# replicas (cores). The learning rate should be increased as well.\n"
      ],
      "execution_count": 5,
      "outputs": []
    },
    {
      "cell_type": "markdown",
      "metadata": {
        "id": "JVkc7nzg-WUy"
      },
      "source": [
        "## Loading and Preprocessing the Dataset\n",
        "\n",
        "Define some helper functions that will pre-process your data:\n",
        "- `read_image_tfds`: randomly overlays the \"digit\" image on top of a larger canvas.\n",
        "- `get_training_dataset`: loads data and splits it to get the training set.\n",
        "- `get_validation_dataset`: loads and splits the data to get the validation set."
      ]
    },
    {
      "cell_type": "code",
      "metadata": {
        "id": "ZE8dgyPC1_6m"
      },
      "source": [
        "def read_image_tfds(image: tf.Tensor, label: tf.Tensor) -> tuple[\n",
        "    tf.Tensor, tuple[tf.Tensor, list]\n",
        "]:\n",
        "    '''\n",
        "    Transforms each image in dataset by pasting it on a 75x75 canvas at random\n",
        "    locations.\n",
        "    '''\n",
        "    xmin: tf.Tensor = tf.random.uniform((), 0 , 48, dtype=tf.int32)\n",
        "    ymin: tf.Tensor = tf.random.uniform((), 0 , 48, dtype=tf.int32)\n",
        "    image = tf.reshape(image, (28,28,1,))\n",
        "    image = tf.image.pad_to_bounding_box(image, ymin, xmin, 75, 75)\n",
        "    image = tf.cast(image, tf.float32)/255.0\n",
        "    xmin = tf.cast(xmin, tf.float32)\n",
        "    ymin = tf.cast(ymin, tf.float32)\n",
        "\n",
        "    xmax: tf.Tensor = tf.add(xmin, 28) / 75\n",
        "    ymax: tf.Tensor = tf.add(ymin, 28) / 75\n",
        "    xmin = tf.divide(xmin, 75)\n",
        "    ymin = tf.divide(ymin, 75)\n",
        "    return image, (tf.one_hot(label, 10), [xmin, ymin, xmax, ymax])\n",
        "\n",
        "def get_training_dataset() -> tf.data.Dataset:\n",
        "    '''\n",
        "    Loads and maps the training split of the dataset using the map function.\n",
        "    Note that we try to load the gcs version since TPU can only work with\n",
        "    datasets on Google Cloud Storage.\n",
        "    '''\n",
        "    with  strategy.scope():\n",
        "        dataset: tf.data.Dataset = tfds.load(\n",
        "            \"mnist\", split=\"train\", as_supervised=True, try_gcs=True\n",
        "        )\n",
        "        dataset = dataset.map(read_image_tfds, num_parallel_calls=16)\n",
        "        dataset = dataset.shuffle(5000, reshuffle_each_iteration=True)\n",
        "        dataset = dataset.repeat() # Mandatory for Keras for now\n",
        "        # drop_remainder is important on TPU, batch size must be fixed\n",
        "        dataset = dataset.batch(BATCH_SIZE, drop_remainder=True)\n",
        "        # fetch next batches while training on the current one (-1: autotune\n",
        "        # prefetch buffer size)\n",
        "        dataset = dataset.prefetch(-1)\n",
        "    return dataset\n",
        "\n",
        "def get_validation_dataset() -> tf.data.Dataset:\n",
        "    '''\n",
        "    Loads and maps the validation split of the dataset using the map function.\n",
        "    Note that we try to load the gcs version since TPU can only work with\n",
        "    datasets on Google Cloud Storage.\n",
        "    '''\n",
        "    dataset: tf.data.Dataset = tfds.load(\n",
        "        \"mnist\", split=\"test\", as_supervised=True, try_gcs=True\n",
        "    )\n",
        "    dataset = dataset.map(read_image_tfds, num_parallel_calls=16)\n",
        "\n",
        "    # this small dataset can be entirely cached in RAM\n",
        "    dataset = dataset.cache()\n",
        "    # 10000 items in eval dataset, all in one batch\n",
        "    dataset = dataset.batch(10000, drop_remainder=True)\n",
        "    dataset = dataset.repeat() # Mandatory for Keras for now\n",
        "    return dataset\n",
        "\n",
        "# instantiate the datasets\n",
        "with strategy.scope():\n",
        "    training_dataset = get_training_dataset()\n",
        "    validation_dataset = get_validation_dataset()"
      ],
      "execution_count": 6,
      "outputs": []
    },
    {
      "cell_type": "markdown",
      "metadata": {
        "id": "_fXo6GuvL3EB"
      },
      "source": [
        "### Visualize Data"
      ]
    },
    {
      "cell_type": "code",
      "metadata": {
        "id": "yZ4tjPKvL2eh",
        "colab": {
          "base_uri": "https://localhost:8080/",
          "height": 577
        },
        "outputId": "75484654-ef0a-4a55-c917-760c25d2825e"
      },
      "source": [
        "(training_digits,\n",
        " training_labels,\n",
        " training_bboxes,\n",
        " validation_digits,\n",
        " validation_labels,\n",
        " validation_bboxes) = dataset_to_numpy_util(\n",
        "      training_dataset, validation_dataset, 10\n",
        " )\n",
        "\n",
        "display_digits_with_boxes(\n",
        "    training_digits,\n",
        "    training_labels,\n",
        "    training_labels,\n",
        "    np.array([]),\n",
        "    training_bboxes,\n",
        "    np.array([]),\n",
        "    \"training digits and their labels\"\n",
        ")\n",
        "display_digits_with_boxes(\n",
        "    validation_digits,\n",
        "    validation_labels,\n",
        "    validation_labels,\n",
        "    np.array([]),\n",
        "    validation_bboxes,\n",
        "    np.array([]),\n",
        "    \"validation digits and their labels\"\n",
        ")\n"
      ],
      "execution_count": 7,
      "outputs": [
        {
          "output_type": "display_data",
          "data": {
            "text/plain": [
              "<Figure size 2000x400 with 11 Axes>"
            ],
            "image/png": "[encoded data removed]"
          },
          "metadata": {}
        },
        {
          "output_type": "display_data",
          "data": {
            "text/plain": [
              "<Figure size 2000x400 with 11 Axes>"
            ],
            "image/png": "[encoded data removed]"
          },
          "metadata": {}
        }
      ]
    },
    {
      "cell_type": "markdown",
      "metadata": {
        "id": "f8nHWWkS_eeZ"
      },
      "source": [
        "## Define the Network\n",
        "\n",
        "Here, you'll define your custom CNN.\n",
        "- `feature_extractor`: these convolutional layers extract the features of the image.\n",
        "- `classifier`:  This define the output layer that predicts among 10 categories (digits 0 through 9)\n",
        "- `bounding_box_regression`: This defines the output layer that predicts 4 numeric values, which define the coordinates of the bounding box (xmin, ymin, xmax, ymax)\n",
        "- `final_model`: This combines the layers for feature extraction, classification and bounding box prediction.  \n",
        "  - Notice that this is another example of a branching model, because the model splits to produce two kinds of output (a category and set of numbers).  \n",
        "  - Since you've learned to use the Functional API earlier in the specialization (course 1), you have the flexibility to define this kind of branching model!\n",
        "- `define_and_compile_model`: choose the optimizer and metrics, then compile the model."
      ]
    },
    {
      "cell_type": "code",
      "metadata": {
        "id": "56y8UNFQIVwj",
        "colab": {
          "base_uri": "https://localhost:8080/"
        },
        "outputId": "4a2f4da1-4354-4ec0-b546-c1cb61469bb3"
      },
      "source": [
        "def feature_extractor(inputs: tf.Tensor) -> tf.Tensor:\n",
        "    '''\n",
        "    Feature extractor is the CNN that is made up of convolution and pooling\n",
        "    layers.\n",
        "    '''\n",
        "    x: tf.Tensor = tf.keras.layers.Conv2D(\n",
        "        16, activation='relu', kernel_size=3, input_shape=(75, 75, 1)\n",
        "    )(inputs)\n",
        "    x = tf.keras.layers.AveragePooling2D((2, 2))(x)\n",
        "\n",
        "    x = tf.keras.layers.Conv2D(32,kernel_size=3,activation='relu')(x)\n",
        "    x = tf.keras.layers.AveragePooling2D((2, 2))(x)\n",
        "\n",
        "    x = tf.keras.layers.Conv2D(64,kernel_size=3,activation='relu')(x)\n",
        "    x = tf.keras.layers.AveragePooling2D((2, 2))(x)\n",
        "\n",
        "    return x\n",
        "\n",
        "def dense_layers(inputs: tf.Tensor) -> tf.Tensor:\n",
        "    '''\n",
        "    dense_layers adds a flatten and dense layer. This will follow the feature\n",
        "    extraction layers\n",
        "    '''\n",
        "    x: tf.Tensor = tf.keras.layers.Flatten()(inputs)\n",
        "    x = tf.keras.layers.Dense(128, activation='relu')(x)\n",
        "    return x\n",
        "\n",
        "\n",
        "def classifier(inputs: tf.Tensor) -> tf.Tensor:\n",
        "    '''\n",
        "    Classifier defines the classification output. This has a set of fully\n",
        "    connected layers and a softmax layer.\n",
        "    '''\n",
        "    classification_output: tf.Tensor = tf.keras.layers.Dense(\n",
        "        10, activation='softmax', name='classification'\n",
        "    )(inputs)\n",
        "    return classification_output\n",
        "\n",
        "\n",
        "def bounding_box_regression(inputs: tf.Tensor) -> tf.Tensor:\n",
        "    '''\n",
        "    This function defines the regression output for bounding box prediction.\n",
        "    Note that we have four outputs corresponding to (xmin, ymin, xmax, ymax)\n",
        "    '''\n",
        "    bounding_box_regression_output: tf.Tensor = tf.keras.layers.Dense(\n",
        "        units='4', name='bounding_box'\n",
        "    )(inputs)\n",
        "    return bounding_box_regression_output\n",
        "\n",
        "\n",
        "def final_model(inputs: tf.Tensor) -> tf.keras.Model:\n",
        "    feature_cnn: tf.Tensor = feature_extractor(inputs)\n",
        "    dense_output: tf.Tensor = dense_layers(feature_cnn)\n",
        "\n",
        "    '''\n",
        "    The model branches here.\n",
        "    The dense layer's output gets fed into two branches:\n",
        "    classification_output and bounding_box_output\n",
        "    '''\n",
        "    classification_output: tf.Tensor = classifier(dense_output)\n",
        "    bounding_box_output: tf.Tensor = bounding_box_regression(dense_output)\n",
        "\n",
        "    model: tf.keras.Model = tf.keras.Model(\n",
        "        inputs=inputs, outputs=[classification_output, bounding_box_output]\n",
        "    )\n",
        "\n",
        "    return model\n",
        "\n",
        "\n",
        "def define_and_compile_model(inputs: tf.Tensor) -> tf.keras.Model:\n",
        "    model: tf.keras.Model = final_model(inputs)\n",
        "\n",
        "    model.compile(\n",
        "        optimizer='adam',\n",
        "        loss = {\n",
        "            'classification' : 'categorical_crossentropy',\n",
        "            'bounding_box' : 'mse'\n",
        "        },\n",
        "        metrics = {\n",
        "            'classification' : 'accuracy',\n",
        "            'bounding_box' : 'mse'\n",
        "        }\n",
        "    )\n",
        "    return model\n",
        "\n",
        "\n",
        "with strategy.scope():\n",
        "    inputs: tf.keras.layers.Layer = tf.keras.layers.Input(shape=(75, 75, 1,))\n",
        "    model: tf.keras.Model = define_and_compile_model(inputs)\n",
        "\n",
        "# print model layers\n",
        "model.summary()"
      ],
      "execution_count": 8,
      "outputs": [
        {
          "output_type": "stream",
          "name": "stdout",
          "text": [
            "Model: \"model\"\n",
            "__________________________________________________________________________________________________\n",
            " Layer (type)                   Output Shape         Param #     Connected to                     \n",
            "==================================================================================================\n",
            " input_1 (InputLayer)           [(None, 75, 75, 1)]  0           []                               \n",
            "                                                                                                  \n",
            " conv2d (Conv2D)                (None, 73, 73, 16)   160         ['input_1[0][0]']                \n",
            "                                                                                                  \n",
            " average_pooling2d (AveragePool  (None, 36, 36, 16)  0           ['conv2d[0][0]']                 \n",
            " ing2D)                                                                                           \n",
            "                                                                                                  \n",
            " conv2d_1 (Conv2D)              (None, 34, 34, 32)   4640        ['average_pooling2d[0][0]']      \n",
            "                                                                                                  \n",
            " average_pooling2d_1 (AveragePo  (None, 17, 17, 32)  0           ['conv2d_1[0][0]']               \n",
            " oling2D)                                                                                         \n",
            "                                                                                                  \n",
            " conv2d_2 (Conv2D)              (None, 15, 15, 64)   18496       ['average_pooling2d_1[0][0]']    \n",
            "                                                                                                  \n",
            " average_pooling2d_2 (AveragePo  (None, 7, 7, 64)    0           ['conv2d_2[0][0]']               \n",
            " oling2D)                                                                                         \n",
            "                                                                                                  \n",
            " flatten (Flatten)              (None, 3136)         0           ['average_pooling2d_2[0][0]']    \n",
            "                                                                                                  \n",
            " dense (Dense)                  (None, 128)          401536      ['flatten[0][0]']                \n",
            "                                                                                                  \n",
            " classification (Dense)         (None, 10)           1290        ['dense[0][0]']                  \n",
            "                                                                                                  \n",
            " bounding_box (Dense)           (None, 4)            516         ['dense[0][0]']                  \n",
            "                                                                                                  \n",
            "==================================================================================================\n",
            "Total params: 426,638\n",
            "Trainable params: 426,638\n",
            "Non-trainable params: 0\n",
            "__________________________________________________________________________________________________\n"
          ]
        }
      ]
    },
    {
      "cell_type": "markdown",
      "metadata": {
        "id": "CuhDh8ao8VyB"
      },
      "source": [
        "### Train and validate the model"
      ]
    },
    {
      "cell_type": "markdown",
      "metadata": {
        "id": "kv0BQTPsKrkt"
      },
      "source": [
        "Train the model.  \n",
        "- You can choose the number of epochs depending on the level of performance that you want and the time that you have.\n",
        "- Each epoch will take just a few seconds if you're using the TPU."
      ]
    },
    {
      "cell_type": "code",
      "metadata": {
        "id": "TTwH_P-ZJ_xx",
        "colab": {
          "base_uri": "https://localhost:8080/"
        },
        "outputId": "315fe657-2a04-4288-fd57-c388a9fc125c"
      },
      "source": [
        "EPOCHS: int = 10 # 45\n",
        "steps_per_epoch: int = 60000//BATCH_SIZE  # 60,000 items in this dataset\n",
        "validation_steps: int = 1\n",
        "\n",
        "history: tf.keras.callbacks.History = model.fit(\n",
        "    training_dataset,\n",
        "    steps_per_epoch=steps_per_epoch,\n",
        "    validation_data=validation_dataset,\n",
        "    validation_steps=validation_steps,\n",
        "    epochs=EPOCHS\n",
        ")\n",
        "\n",
        "(loss,\n",
        " classification_loss,\n",
        " bounding_box_loss,\n",
        " classification_accuracy,\n",
        " bounding_box_mse) = model.evaluate(validation_dataset, steps=1)\n",
        "print(\"Validation accuracy: \", classification_accuracy)"
      ],
      "execution_count": 9,
      "outputs": [
        {
          "output_type": "stream",
          "name": "stdout",
          "text": [
            "Epoch 1/10\n",
            "117/117 [==============================] - 12s 60ms/step - loss: 2.1375 - classification_loss: 2.1180 - bounding_box_loss: 0.0195 - classification_accuracy: 0.2077 - bounding_box_mse: 0.0195 - val_loss: 1.7012 - val_classification_loss: 1.6947 - val_bounding_box_loss: 0.0066 - val_classification_accuracy: 0.3488 - val_bounding_box_mse: 0.0066\n",
            "Epoch 2/10\n",
            "117/117 [==============================] - 4s 35ms/step - loss: 1.2945 - classification_loss: 1.2799 - bounding_box_loss: 0.0146 - classification_accuracy: 0.5647 - bounding_box_mse: 0.0146 - val_loss: 0.7764 - val_classification_loss: 0.7502 - val_bounding_box_loss: 0.0261 - val_classification_accuracy: 0.7877 - val_bounding_box_mse: 0.0261\n",
            "Epoch 3/10\n",
            "117/117 [==============================] - 3s 26ms/step - loss: 0.5731 - classification_loss: 0.5544 - bounding_box_loss: 0.0187 - classification_accuracy: 0.8366 - bounding_box_mse: 0.0187 - val_loss: 0.4097 - val_classification_loss: 0.3968 - val_bounding_box_loss: 0.0130 - val_classification_accuracy: 0.8816 - val_bounding_box_mse: 0.0130\n",
            "Epoch 4/10\n",
            "117/117 [==============================] - 3s 26ms/step - loss: 0.3855 - classification_loss: 0.3727 - bounding_box_loss: 0.0128 - classification_accuracy: 0.8914 - bounding_box_mse: 0.0128 - val_loss: 0.3018 - val_classification_loss: 0.2911 - val_bounding_box_loss: 0.0106 - val_classification_accuracy: 0.9106 - val_bounding_box_mse: 0.0106\n",
            "Epoch 5/10\n",
            "117/117 [==============================] - 4s 31ms/step - loss: 0.3103 - classification_loss: 0.2999 - bounding_box_loss: 0.0104 - classification_accuracy: 0.9131 - bounding_box_mse: 0.0104 - val_loss: 0.2515 - val_classification_loss: 0.2425 - val_bounding_box_loss: 0.0090 - val_classification_accuracy: 0.9278 - val_bounding_box_mse: 0.0090\n",
            "Epoch 6/10\n",
            "117/117 [==============================] - 3s 28ms/step - loss: 0.2658 - classification_loss: 0.2571 - bounding_box_loss: 0.0087 - classification_accuracy: 0.9251 - bounding_box_mse: 0.0087 - val_loss: 0.2298 - val_classification_loss: 0.2217 - val_bounding_box_loss: 0.0081 - val_classification_accuracy: 0.9334 - val_bounding_box_mse: 0.0081\n",
            "Epoch 7/10\n",
            "117/117 [==============================] - 3s 28ms/step - loss: 0.2348 - classification_loss: 0.2273 - bounding_box_loss: 0.0075 - classification_accuracy: 0.9342 - bounding_box_mse: 0.0075 - val_loss: 0.2052 - val_classification_loss: 0.1970 - val_bounding_box_loss: 0.0082 - val_classification_accuracy: 0.9424 - val_bounding_box_mse: 0.0082\n",
            "Epoch 8/10\n",
            "117/117 [==============================] - 3s 28ms/step - loss: 0.2026 - classification_loss: 0.1962 - bounding_box_loss: 0.0063 - classification_accuracy: 0.9424 - bounding_box_mse: 0.0063 - val_loss: 0.1678 - val_classification_loss: 0.1622 - val_bounding_box_loss: 0.0057 - val_classification_accuracy: 0.9513 - val_bounding_box_mse: 0.0057\n",
            "Epoch 9/10\n",
            "117/117 [==============================] - 3s 29ms/step - loss: 0.1916 - classification_loss: 0.1857 - bounding_box_loss: 0.0059 - classification_accuracy: 0.9457 - bounding_box_mse: 0.0059 - val_loss: 0.1572 - val_classification_loss: 0.1518 - val_bounding_box_loss: 0.0053 - val_classification_accuracy: 0.9541 - val_bounding_box_mse: 0.0053\n",
            "Epoch 10/10\n",
            "117/117 [==============================] - 3s 28ms/step - loss: 0.1737 - classification_loss: 0.1684 - bounding_box_loss: 0.0054 - classification_accuracy: 0.9506 - bounding_box_mse: 0.0054 - val_loss: 0.1456 - val_classification_loss: 0.1411 - val_bounding_box_loss: 0.0045 - val_classification_accuracy: 0.9574 - val_bounding_box_mse: 0.0045\n",
            "1/1 [==============================] - 1s 898ms/step - loss: 0.1456 - classification_loss: 0.1411 - bounding_box_loss: 0.0045 - classification_accuracy: 0.9574 - bounding_box_mse: 0.0045\n",
            "Validation accuracy:  0.9574000239372253\n"
          ]
        }
      ]
    },
    {
      "cell_type": "code",
      "metadata": {
        "id": "Cz-b8TxU6EDj",
        "colab": {
          "base_uri": "https://localhost:8080/",
          "height": 456
        },
        "outputId": "7befd63f-bc09-43b9-fbf1-8157936ae472"
      },
      "source": [
        "plot_metrics(\"classification_loss\", \"Classification Loss\")\n",
        "plot_metrics(\"bounding_box_loss\", \"Bounding Box Loss\")"
      ],
      "execution_count": 10,
      "outputs": [
        {
          "output_type": "display_data",
          "data": {
            "text/plain": [
              "<Figure size 640x480 with 1 Axes>"
            ],
            "image/png": "[encoded data removed]"
          },
          "metadata": {}
        }
      ]
    },
    {
      "cell_type": "markdown",
      "metadata": {
        "id": "3FBn4V5-Krkt"
      },
      "source": [
        "## Intersection over union\n",
        "\n",
        "Calculate the I-O-U metric to evaluate the model's performance."
      ]
    },
    {
      "cell_type": "code",
      "metadata": {
        "id": "YFqJxt3_VrCm"
      },
      "source": [
        "def intersection_over_union(pred_box: np.ndarray, true_box: np.ndarray):\n",
        "    xmin_pred: np.ndarray\n",
        "    ymin_pred: np.ndarray\n",
        "    xmax_pred: np.ndarray\n",
        "    ymax_pred: np.ndarray\n",
        "    xmin_true: np.ndarray\n",
        "    ymin_true: np.ndarray\n",
        "    xmax_true: np.ndarray\n",
        "    ymax_true: np.ndarray\n",
        "    xmin_pred, ymin_pred, xmax_pred, ymax_pred =  np.split(pred_box, 4, axis=1)\n",
        "    xmin_true, ymin_true, xmax_true, ymax_true = np.split(true_box, 4, axis=1)\n",
        "\n",
        "    smoothing_factor: float = 1e-10\n",
        "\n",
        "    xmin_overlap: np.ndarray = np.maximum(xmin_pred, xmin_true)\n",
        "    xmax_overlap: np.ndarray = np.minimum(xmax_pred, xmax_true)\n",
        "    ymin_overlap: np.ndarray = np.maximum(ymin_pred, ymin_true)\n",
        "    ymax_overlap: np.ndarray = np.minimum(ymax_pred, ymax_true)\n",
        "\n",
        "    pred_box_area: np.ndarray = (xmax_pred-xmin_pred) * (ymax_pred-ymin_pred)\n",
        "    true_box_area: np.ndarray = (xmax_true-xmin_true) * (ymax_true-ymin_true)\n",
        "\n",
        "    overlap_area: np.ndarray = (np.maximum((xmax_overlap-xmin_overlap), 0)  *\n",
        "                                np.maximum((ymax_overlap-ymin_overlap), 0))\n",
        "    union_area: np.ndarray = (pred_box_area+true_box_area) - overlap_area\n",
        "\n",
        "    iou: np.ndarray = ((overlap_area+smoothing_factor) /\n",
        "                       (union_area+smoothing_factor))\n",
        "\n",
        "    return iou"
      ],
      "execution_count": 11,
      "outputs": []
    },
    {
      "cell_type": "markdown",
      "metadata": {
        "id": "9jFVovcUUVs1"
      },
      "source": [
        "### Visualize predictions\n",
        "The following code will make predictions and visualize both the classification and the predicted bounding boxes.\n",
        "- The true bounding box labels will be in green, and the model's predicted bounding boxes are in red.\n",
        "- The predicted number is shown below the image."
      ]
    },
    {
      "cell_type": "code",
      "metadata": {
        "id": "w12OId8Mz7dF",
        "colab": {
          "base_uri": "https://localhost:8080/",
          "height": 349
        },
        "outputId": "25d3b00b-2b99-44d3-f747-d288089240ce"
      },
      "source": [
        "# recognize validation digits\n",
        "predictions: list = model.predict(validation_digits, batch_size=64)\n",
        "predicted_labels: np.ndarray = np.argmax(predictions[0], axis=1)\n",
        "\n",
        "predicted_bboxes: np.ndarray = predictions[1]\n",
        "\n",
        "iou: np.ndarray = intersection_over_union(predicted_bboxes, validation_bboxes)\n",
        "\n",
        "iou_threshold: float = 0.6\n",
        "\n",
        "g_prd: int = (iou >= iou_threshold).sum()\n",
        "l_prd: int = (iou < iou_threshold).sum()\n",
        "print(f\"Number of predictions where iou > threshold({iou_threshold}): {g_prd}\")\n",
        "print(f\"Number of predictions where iou < threshold({iou_threshold}): {l_prd}\")\n",
        "\n",
        "\n",
        "display_digits_with_boxes(\n",
        "    validation_digits,\n",
        "    predicted_labels,\n",
        "    validation_labels,\n",
        "    predicted_bboxes,\n",
        "    validation_bboxes,\n",
        "    iou,\n",
        "    \"True and Predicted values\"\n",
        ")"
      ],
      "execution_count": 12,
      "outputs": [
        {
          "output_type": "stream",
          "name": "stdout",
          "text": [
            "157/157 [==============================] - 3s 11ms/step\n",
            "Number of predictions where iou > threshold(0.6): 5572\n",
            "Number of predictions where iou < threshold(0.6): 4428\n"
          ]
        },
        {
          "output_type": "display_data",
          "data": {
            "text/plain": [
              "<Figure size 2000x400 with 11 Axes>"
            ],
            "image/png": "[encoded data removed]"
          },
          "metadata": {}
        }
      ]
    }
  ]
}