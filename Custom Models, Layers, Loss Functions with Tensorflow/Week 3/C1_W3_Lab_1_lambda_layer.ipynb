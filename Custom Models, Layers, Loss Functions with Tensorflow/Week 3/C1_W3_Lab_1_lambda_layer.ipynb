{
  "cells": [
    {
      "cell_type": "markdown",
      "metadata": {
        "id": "view-in-github",
        "colab_type": "text"
      },
      "source": [
        "<a href=\"https://colab.research.google.com/github/manabil/Tensorflow-Advanced-Techniques-Specialization/blob/main/Custom%20Models%2C%20Layers%2C%20Loss%20Functions%20with%20Tensorflow/Week%203/C1_W3_Lab_1_lambda_layer.ipynb\" target=\"_parent\"><img src=\"https://colab.research.google.com/assets/colab-badge.svg\" alt=\"Open In Colab\"/></a>"
      ]
    },
    {
      "cell_type": "markdown",
      "metadata": {
        "id": "04hxVEjva7wS"
      },
      "source": [
        "## Ungraded Lab: Lambda Layer\n",
        "\n",
        "This lab will show how you can define custom layers with the [Lambda](https://keras.io/api/layers/core_layers/lambda/) layer. You can either use [lambda functions](https://www.w3schools.com/python/python_lambda.asp) within the Lambda layer or define a custom function that the Lambda layer will call. Let's get started!"
      ]
    },
    {
      "cell_type": "markdown",
      "metadata": {
        "id": "sBgMclnia7wd"
      },
      "source": [
        "## Imports"
      ]
    },
    {
      "cell_type": "code",
      "execution_count": 1,
      "metadata": {
        "colab": {
          "base_uri": "https://localhost:8080/"
        },
        "id": "CmI9MQA6Z72_",
        "outputId": "7cb65ec9-7ecd-4c12-a833-c45b50f08696"
      },
      "outputs": [
        {
          "output_type": "stream",
          "name": "stdout",
          "text": [
            "Colab only includes TensorFlow 2.x; %tensorflow_version has no effect.\n"
          ]
        }
      ],
      "source": [
        "try:\n",
        "  # %tensorflow_version only exists in Colab.\n",
        "  %tensorflow_version 2.x;\n",
        "except Exception:\n",
        "  pass;\n",
        "\n",
        "import numpy as np;\n",
        "import tensorflow as tf;\n",
        "from tensorflow.keras import backend as K;"
      ]
    },
    {
      "cell_type": "markdown",
      "metadata": {
        "id": "q5qaHGyGa7ws"
      },
      "source": [
        "## Prepare the Dataset"
      ]
    },
    {
      "cell_type": "code",
      "execution_count": 2,
      "metadata": {
        "id": "14tl1CluExjJ",
        "colab": {
          "base_uri": "https://localhost:8080/"
        },
        "outputId": "5968c72a-dbca-428d-abf3-4f0cda90c531"
      },
      "outputs": [
        {
          "output_type": "stream",
          "name": "stdout",
          "text": [
            "Downloading data from https://storage.googleapis.com/tensorflow/tf-keras-datasets/mnist.npz\n",
            "11490434/11490434 [==============================] - 1s 0us/step\n"
          ]
        }
      ],
      "source": [
        "mnist: object = tf.keras.datasets.mnist;\n",
        "\n",
        "x_train: np.ndarray\n",
        "y_train: np.ndarray\n",
        "x_test: np.ndarray\n",
        "y_test: np.ndarray\n",
        "(x_train, y_train),(x_test, y_test) = mnist.load_data();\n",
        "x_train, x_test = x_train / 255.0, x_test / 255.0;"
      ]
    },
    {
      "cell_type": "markdown",
      "metadata": {
        "id": "cox5IWKsa7w3"
      },
      "source": [
        "## Build the Model\n",
        "\n",
        "Here, we'll use a Lambda layer to define a custom layer in our network. We're using a lambda function to get the absolute value of the layer input."
      ]
    },
    {
      "cell_type": "code",
      "execution_count": 3,
      "metadata": {
        "id": "jFYtbFQ4a7w7"
      },
      "outputs": [],
      "source": [
        "model: tf.keras.Sequential = tf.keras.models.Sequential([\n",
        "  tf.keras.layers.Flatten(input_shape=(28, 28)),\n",
        "  tf.keras.layers.Dense(128),\n",
        "  tf.keras.layers.Lambda(lambda x: tf.abs(x)),\n",
        "  tf.keras.layers.Dense(10, activation='softmax'),\n",
        "]);"
      ]
    },
    {
      "cell_type": "code",
      "execution_count": 4,
      "metadata": {
        "colab": {
          "base_uri": "https://localhost:8080/"
        },
        "id": "xg60oyp6a7xA",
        "outputId": "dfc7395e-fb40-45cf-e996-242efc1e2039"
      },
      "outputs": [
        {
          "output_type": "stream",
          "name": "stdout",
          "text": [
            "Epoch 1/5\n",
            "1875/1875 [==============================] - 14s 7ms/step - loss: 0.2242 - accuracy: 0.9367\n",
            "Epoch 2/5\n",
            "1875/1875 [==============================] - 12s 6ms/step - loss: 0.0914 - accuracy: 0.9729\n",
            "Epoch 3/5\n",
            "1875/1875 [==============================] - 8s 4ms/step - loss: 0.0637 - accuracy: 0.9807\n",
            "Epoch 4/5\n",
            "1875/1875 [==============================] - 7s 4ms/step - loss: 0.0483 - accuracy: 0.9843\n",
            "Epoch 5/5\n",
            "1875/1875 [==============================] - 8s 4ms/step - loss: 0.0382 - accuracy: 0.9882\n",
            "313/313 [==============================] - 1s 2ms/step - loss: 0.0875 - accuracy: 0.9762\n"
          ]
        }
      ],
      "source": [
        "model.compile(\n",
        "    optimizer='adam',\n",
        "    loss='sparse_categorical_crossentropy',\n",
        "    metrics=['accuracy'],\n",
        ");\n",
        "\n",
        "model.fit(x_train, y_train, epochs=5);\n",
        "model.evaluate(x_test, y_test);"
      ]
    },
    {
      "cell_type": "markdown",
      "metadata": {
        "id": "PqA500Yza7xF"
      },
      "source": [
        "Another way to use the Lambda layer is to pass in a function defined outside the model. The code below shows how a custom ReLU function is used as a custom layer in the model."
      ]
    },
    {
      "cell_type": "code",
      "execution_count": 5,
      "metadata": {
        "colab": {
          "base_uri": "https://localhost:8080/"
        },
        "id": "jG53KYeq-3_X",
        "outputId": "7b849f28-1048-48ff-86b8-f0d47b5d7b07"
      },
      "outputs": [
        {
          "output_type": "stream",
          "name": "stdout",
          "text": [
            "Epoch 1/5\n",
            "1875/1875 [==============================] - 8s 4ms/step - loss: 0.2577 - accuracy: 0.9265\n",
            "Epoch 2/5\n",
            "1875/1875 [==============================] - 7s 4ms/step - loss: 0.1141 - accuracy: 0.9652\n",
            "Epoch 3/5\n",
            "1875/1875 [==============================] - 8s 4ms/step - loss: 0.0786 - accuracy: 0.9762\n",
            "Epoch 4/5\n",
            "1875/1875 [==============================] - 9s 5ms/step - loss: 0.0592 - accuracy: 0.9815\n",
            "Epoch 5/5\n",
            "1875/1875 [==============================] - 8s 4ms/step - loss: 0.0457 - accuracy: 0.9862\n",
            "313/313 [==============================] - 1s 2ms/step - loss: 0.0773 - accuracy: 0.9751\n"
          ]
        }
      ],
      "source": [
        "def my_relu(x: tf.Tensor) -> tf.Tensor:\n",
        "    \"\"\"Customized Relu Activation\"\"\"\n",
        "    return K.maximum(-0.1, x);\n",
        "\n",
        "model: tf.keras.Sequential = tf.keras.models.Sequential([\n",
        "    tf.keras.layers.Flatten(input_shape=(28, 28)),\n",
        "    tf.keras.layers.Dense(128),\n",
        "    tf.keras.layers.Lambda(my_relu),\n",
        "    tf.keras.layers.Dense(10, activation='softmax'),\n",
        "]);\n",
        "\n",
        "model.compile(\n",
        "    optimizer='adam',\n",
        "    loss='sparse_categorical_crossentropy',\n",
        "    metrics=['accuracy'],\n",
        ");\n",
        "\n",
        "model.fit(x_train, y_train, epochs=5);\n",
        "model.evaluate(x_test, y_test);"
      ]
    }
  ],
  "metadata": {
    "colab": {
      "provenance": [],
      "include_colab_link": true
    },
    "kernelspec": {
      "display_name": "Python 3",
      "language": "python",
      "name": "python3"
    },
    "language_info": {
      "codemirror_mode": {
        "name": "ipython",
        "version": 3
      },
      "file_extension": ".py",
      "mimetype": "text/x-python",
      "name": "python",
      "nbconvert_exporter": "python",
      "pygments_lexer": "ipython3",
      "version": "3.7.6"
    }
  },
  "nbformat": 4,
  "nbformat_minor": 0
}