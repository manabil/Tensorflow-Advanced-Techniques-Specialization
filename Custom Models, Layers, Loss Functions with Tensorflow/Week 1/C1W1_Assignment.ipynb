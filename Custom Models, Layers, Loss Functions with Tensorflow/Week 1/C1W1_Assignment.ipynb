{
 "cells": [
  {
   "cell_type": "markdown",
   "metadata": {
    "colab_type": "text",
    "id": "ZL_6GK8qX35J"
   },
   "source": [
    "\n",
    "\n",
    "# Week 1: Multiple Output Models using the Keras Functional API\n",
    "\n",
    "Welcome to the first programming assignment of the course! Your task will be to use the Keras functional API to train a model to predict two outputs. For this lab, you will use the **[Wine Quality Dataset](https://archive.ics.uci.edu/ml/datasets/Wine+Quality)** from the **UCI machine learning repository**. It has separate datasets for red wine and white wine.\n",
    "\n",
    "Normally, the wines are classified into one of the quality ratings specified in the attributes. In this exercise, you will combine the two datasets to predict the wine quality and whether the wine is red or white solely from the attributes. \n",
    "\n",
    "You will model wine quality estimations as a regression problem and wine type detection as a binary classification problem.\n",
    "\n",
    "#### Please complete sections that are marked **(TODO)**"
   ]
  },
  {
   "cell_type": "markdown",
   "metadata": {
    "colab_type": "text",
    "id": "obdcD6urYBY9"
   },
   "source": [
    "## Imports"
   ]
  },
  {
   "cell_type": "code",
   "execution_count": 47,
   "metadata": {
    "colab": {},
    "colab_type": "code",
    "id": "t8N3pcTQ5oQI"
   },
   "outputs": [],
   "source": [
    "import tensorflow as tf\n",
    "from tensorflow.keras.models import Model\n",
    "from tensorflow.keras.layers import Dense, Input\n",
    "\n",
    "import numpy as np\n",
    "import matplotlib.pyplot as plt\n",
    "import pandas as pd\n",
    "from sklearn.model_selection import train_test_split\n",
    "from sklearn.metrics import confusion_matrix, ConfusionMatrixDisplay\n",
    "import itertools\n",
    "\n",
    "import utils;"
   ]
  },
  {
   "cell_type": "markdown",
   "metadata": {
    "colab_type": "text",
    "id": "gQMERzWQYpgm"
   },
   "source": [
    "## Load Dataset\n",
    "\n",
    "\n",
    "You will now load the dataset from the [UCI Machine Learning Repository](https://archive.ics.uci.edu/ml/index.php) which are **already saved** in your workspace (*Note: For successful grading, please **do not** modify the default string set to the `URI` variable below*).\n",
    "\n",
    "### Pre-process the white wine dataset (TODO)\n",
    "You will add a new column named `is_red` in your dataframe to indicate if the wine is white or red. \n",
    "- In the white wine dataset, you will fill the column `is_red` with  zeros (0)."
   ]
  },
  {
   "cell_type": "code",
   "execution_count": 48,
   "metadata": {
    "colab": {},
    "colab_type": "code",
    "deletable": false,
    "id": "2qYAjKXCd4RH",
    "nbgrader": {
     "cell_type": "code",
     "checksum": "325ea195519b7035934c95bb529a062c",
     "grade": false,
     "grade_id": "cell-e5bfa0f152d9a21f",
     "locked": false,
     "schema_version": 3,
     "solution": true,
     "task": false
    }
   },
   "outputs": [],
   "source": [
    "# Please uncomment all lines in this cell and replace those marked with `# YOUR CODE HERE`.\n",
    "# You can select all lines in this code cell with Ctrl+A (Windows/Linux) or Cmd+A (Mac), then press Ctrl+/ (Windows/Linux) or Cmd+/ (Mac) to uncomment.\n",
    "\n",
    "\n",
    "# URL of the white wine dataset\n",
    "URI: str = \"./winequality-white.csv\"\n",
    "\n",
    "# load the dataset from the URL\n",
    "white_df = pd.read_csv(URI, sep=\";\")\n",
    "\n",
    "# fill the `is_red` column with zeros.\n",
    "white_df[\"is_red\"] = 0\n",
    "\n",
    "# keep only the first of duplicate items\n",
    "white_df = white_df.drop_duplicates(keep=\"first\");"
   ]
  },
  {
   "cell_type": "code",
   "execution_count": 49,
   "metadata": {
    "deletable": false,
    "editable": false,
    "nbgrader": {
     "cell_type": "code",
     "checksum": "defe38d6ec58fd31cd67b89e46c4373f",
     "grade": true,
     "grade_id": "cell-30575e713b55fc51",
     "locked": true,
     "points": 1,
     "schema_version": 3,
     "solution": false,
     "task": false
    }
   },
   "outputs": [
    {
     "name": "stdout",
     "output_type": "stream",
     "text": [
      "\u001b[92m All public tests passed\n"
     ]
    }
   ],
   "source": [
    "# You can click `File -> Open` in the menu above and open the `utils.py` file\n",
    "# in case you want to inspect the unit tests being used for each graded function.\n",
    "\n",
    "utils.test_white_df(white_df)"
   ]
  },
  {
   "cell_type": "code",
   "execution_count": 50,
   "metadata": {
    "colab": {},
    "colab_type": "code",
    "id": "OQHK0ohBQRCk"
   },
   "outputs": [
    {
     "name": "stdout",
     "output_type": "stream",
     "text": [
      "8.8\n",
      "9.1\n"
     ]
    }
   ],
   "source": [
    "print(white_df.alcohol[0])\n",
    "print(white_df.alcohol[100]);\n",
    "\n",
    "# EXPECTED OUTPUT\n",
    "# 8.8\n",
    "# 9.1"
   ]
  },
  {
   "cell_type": "markdown",
   "metadata": {},
   "source": [
    "### Pre-process the red wine dataset (TODO)\n",
    "- In the red wine dataset, you will fill in the column `is_red` with ones (1)."
   ]
  },
  {
   "cell_type": "code",
   "execution_count": 51,
   "metadata": {
    "colab": {},
    "colab_type": "code",
    "deletable": false,
    "id": "8y3QxKwBed8v",
    "nbgrader": {
     "cell_type": "code",
     "checksum": "12e0963d15be33b01b4e6ebc8945e51e",
     "grade": false,
     "grade_id": "cell-e47a40f306593274",
     "locked": false,
     "schema_version": 3,
     "solution": true,
     "task": false
    }
   },
   "outputs": [],
   "source": [
    "# Please uncomment all lines in this cell and replace those marked with `# YOUR CODE HERE`.\n",
    "# You can select all lines in this code cell with Ctrl+A (Windows/Linux) or Cmd+A (Mac), then press Ctrl+/ (Windows/Linux) or Cmd+/ (Mac) to uncomment.\n",
    "\n",
    "\n",
    "# URL of the red wine dataset\n",
    "URI: str = \"./winequality-red.csv\"\n",
    "\n",
    "# load the dataset from the URL\n",
    "red_df = pd.read_csv(URI, sep=\";\")\n",
    "\n",
    "# fill the `is_red` column with ones.\n",
    "red_df[\"is_red\"] = 1\n",
    "\n",
    "# keep only the first of duplicate items\n",
    "red_df = red_df.drop_duplicates(keep=\"first\");"
   ]
  },
  {
   "cell_type": "code",
   "execution_count": 52,
   "metadata": {
    "deletable": false,
    "editable": false,
    "nbgrader": {
     "cell_type": "code",
     "checksum": "d8e0c91b0fd668b63ba74a8f2f958b59",
     "grade": true,
     "grade_id": "cell-2a75937adcc0c25b",
     "locked": true,
     "points": 1,
     "schema_version": 3,
     "solution": false,
     "task": false
    }
   },
   "outputs": [
    {
     "name": "stdout",
     "output_type": "stream",
     "text": [
      "\u001b[92m All public tests passed\n"
     ]
    }
   ],
   "source": [
    "utils.test_red_df(red_df)"
   ]
  },
  {
   "cell_type": "code",
   "execution_count": 53,
   "metadata": {
    "colab": {},
    "colab_type": "code",
    "id": "zsB3LUzNQpo_"
   },
   "outputs": [
    {
     "name": "stdout",
     "output_type": "stream",
     "text": [
      "9.4\n",
      "10.2\n"
     ]
    }
   ],
   "source": [
    "print(red_df.alcohol[0])\n",
    "print(red_df.alcohol[100]);\n",
    "\n",
    "# EXPECTED OUTPUT\n",
    "# 9.4\n",
    "# 10.2"
   ]
  },
  {
   "cell_type": "markdown",
   "metadata": {
    "colab_type": "text",
    "id": "2G8B-NYuM6-f"
   },
   "source": [
    "### Concatenate the datasets\n",
    "\n",
    "Next, concatenate the red and white wine dataframes."
   ]
  },
  {
   "cell_type": "code",
   "execution_count": 54,
   "metadata": {
    "colab": {},
    "colab_type": "code",
    "id": "YpQrOjJbfN3m"
   },
   "outputs": [],
   "source": [
    "df: pd.DataFrame = pd.concat([red_df, white_df], ignore_index=True);"
   ]
  },
  {
   "cell_type": "code",
   "execution_count": 55,
   "metadata": {
    "colab": {},
    "colab_type": "code",
    "id": "Se2dTmThQyjb"
   },
   "outputs": [
    {
     "name": "stdout",
     "output_type": "stream",
     "text": [
      "9.4\n",
      "9.5\n"
     ]
    }
   ],
   "source": [
    "print(df.alcohol[0])\n",
    "print(df.alcohol[100]);\n",
    "\n",
    "# EXPECTED OUTPUT\n",
    "# 9.4\n",
    "# 9.5"
   ]
  },
  {
   "cell_type": "markdown",
   "metadata": {},
   "source": [
    "In a real-world scenario, you should shuffle the data. For this assignment however, **you are not** going to do that because the grader needs to test with deterministic data. If you want the code to do it **after** you've gotten your grade for this notebook, we left the commented line below for reference"
   ]
  },
  {
   "cell_type": "code",
   "execution_count": 56,
   "metadata": {
    "colab": {},
    "colab_type": "code",
    "id": "wx6y3rPpQv4k"
   },
   "outputs": [],
   "source": [
    "# df = df.iloc[np.random.permutation(len(df))];"
   ]
  },
  {
   "cell_type": "markdown",
   "metadata": {
    "colab_type": "text",
    "id": "-EqIcbg5M_n1"
   },
   "source": [
    "This will chart the quality of the wines."
   ]
  },
  {
   "cell_type": "code",
   "execution_count": 57,
   "metadata": {
    "colab": {},
    "colab_type": "code",
    "id": "IsvK0-Sgy17C"
   },
   "outputs": [
    {
     "data": {
      "image/png": "[encoded data removed]",
      "text/plain": [
       "<Figure size 432x288 with 1 Axes>"
      ]
     },
     "metadata": {
      "needs_background": "light"
     },
     "output_type": "display_data"
    }
   ],
   "source": [
    "df[\"quality\"].hist(bins=20);"
   ]
  },
  {
   "cell_type": "markdown",
   "metadata": {
    "colab_type": "text",
    "id": "Nut1rmYLzf-p"
   },
   "source": [
    "### Imbalanced data (TODO)\n",
    "You can see from the plot above that the wine quality dataset is imbalanced. \n",
    "- Since there are very few observations with quality equal to 3, 4, 8 and 9, you can drop these observations from your dataset. \n",
    "- You can do this by removing data belonging to all classes except those > 4 and < 8."
   ]
  },
  {
   "cell_type": "code",
   "execution_count": 58,
   "metadata": {
    "colab": {},
    "colab_type": "code",
    "deletable": false,
    "id": "doH9_-gnf3sz",
    "nbgrader": {
     "cell_type": "code",
     "checksum": "d9ba9fc3a3ca02ccc567be33652b80fe",
     "grade": false,
     "grade_id": "cell-6a3e9db696f6827b",
     "locked": false,
     "schema_version": 3,
     "solution": true,
     "task": false
    }
   },
   "outputs": [],
   "source": [
    "# Please uncomment all lines in this cell and replace those marked with `# YOUR CODE HERE`.\n",
    "# You can select all lines in this code cell with Ctrl+A (Windows/Linux) or Cmd+A (Mac), then press Ctrl+/ (Windows/Linux) or Cmd+/ (Mac) to uncomment.\n",
    "\n",
    "\n",
    "# get data with wine quality greater than 4 and less than 8\n",
    "df = df[(df[\"quality\"] > 4) & (df[\"quality\"] < 8)]\n",
    "\n",
    "# reset index and drop the old one\n",
    "df = df.reset_index(drop=True);"
   ]
  },
  {
   "cell_type": "code",
   "execution_count": 59,
   "metadata": {
    "deletable": false,
    "editable": false,
    "nbgrader": {
     "cell_type": "code",
     "checksum": "281e1d86a4803560ed5892cd7eda4c01",
     "grade": true,
     "grade_id": "cell-aed3da719d4682c7",
     "locked": true,
     "points": 1,
     "schema_version": 3,
     "solution": false,
     "task": false
    }
   },
   "outputs": [
    {
     "name": "stdout",
     "output_type": "stream",
     "text": [
      "\u001b[92m All public tests passed\n"
     ]
    }
   ],
   "source": [
    "utils.test_df_drop(df)"
   ]
  },
  {
   "cell_type": "code",
   "execution_count": 60,
   "metadata": {
    "colab": {},
    "colab_type": "code",
    "id": "xNR1iAlMRPXO"
   },
   "outputs": [
    {
     "name": "stdout",
     "output_type": "stream",
     "text": [
      "9.4\n",
      "10.9\n"
     ]
    }
   ],
   "source": [
    "print(df.alcohol[0])\n",
    "print(df.alcohol[100]);\n",
    "\n",
    "# EXPECTED OUTPUT\n",
    "# 9.4\n",
    "# 10.9"
   ]
  },
  {
   "cell_type": "markdown",
   "metadata": {
    "colab_type": "text",
    "id": "cwhuRpnVRTzG"
   },
   "source": [
    "You can plot again to see the new range of data and quality"
   ]
  },
  {
   "cell_type": "code",
   "execution_count": 61,
   "metadata": {
    "colab": {},
    "colab_type": "code",
    "id": "857ygzZiLgGg"
   },
   "outputs": [
    {
     "data": {
      "image/png": "[encoded data removed]",
      "text/plain": [
       "<Figure size 432x288 with 1 Axes>"
      ]
     },
     "metadata": {
      "needs_background": "light"
     },
     "output_type": "display_data"
    }
   ],
   "source": [
    "df[\"quality\"].hist(bins=20);"
   ]
  },
  {
   "cell_type": "markdown",
   "metadata": {
    "colab_type": "text",
    "id": "n3k0vqSsp84t"
   },
   "source": [
    "### Train Test Split (TODO)\n",
    "\n",
    "Next, you can split the datasets into training, test and validation datasets.\n",
    "- The data frame should be split 80:20 into `train` and `test` sets.\n",
    "- The resulting `train` should then be split 80:20 into `train` and `val` sets.\n",
    "- The `train_test_split` parameter `test_size` takes a float value that ranges between 0. and 1, and represents the proportion of the dataset that is allocated to the test set.  The rest of the data is allocated to the training set."
   ]
  },
  {
   "cell_type": "code",
   "execution_count": 62,
   "metadata": {
    "colab": {},
    "colab_type": "code",
    "deletable": false,
    "id": "PAVIf2-fgRVY",
    "nbgrader": {
     "cell_type": "code",
     "checksum": "7f5738f4fb51d65adc9a8acbdf2b9970",
     "grade": false,
     "grade_id": "cell-91946cadf745206b",
     "locked": false,
     "schema_version": 3,
     "solution": true,
     "task": false
    }
   },
   "outputs": [],
   "source": [
    "# Please uncomment all lines in this cell and replace those marked with `# YOUR CODE HERE`.\n",
    "# You can select all lines in this code cell with Ctrl+A (Windows/Linux) or Cmd+A (Mac), then press Ctrl+/ (Windows/Linux) or Cmd+/ (Mac) to uncomment.\n",
    "\n",
    "\n",
    "# Please do not change the random_state parameter. This is needed for grading.\n",
    "\n",
    "# split df into 80:20 train and test sets\n",
    "train: pd.DataFrame\n",
    "test: pd.DataFrame\n",
    "train, test = train_test_split(df, test_size=0.2, random_state=1)\n",
    "\n",
    "# split train into 80:20 train and val sets\n",
    "val: pd.DataFrame\n",
    "train, val = train_test_split(train, test_size=0.2, random_state=1);"
   ]
  },
  {
   "cell_type": "code",
   "execution_count": 63,
   "metadata": {
    "colab": {},
    "colab_type": "code",
    "deletable": false,
    "editable": false,
    "id": "57h9LcEzRWpk",
    "nbgrader": {
     "cell_type": "code",
     "checksum": "42adbe9e66efac7c7a5f8cd73ac92f22",
     "grade": true,
     "grade_id": "cell-64b8b38cd0b965f6",
     "locked": true,
     "points": 1,
     "schema_version": 3,
     "solution": false,
     "task": false
    }
   },
   "outputs": [
    {
     "name": "stdout",
     "output_type": "stream",
     "text": [
      "\u001b[92m All public tests passed\n"
     ]
    }
   ],
   "source": [
    "utils.test_data_sizes(train.size, test.size, val.size)"
   ]
  },
  {
   "cell_type": "markdown",
   "metadata": {
    "colab_type": "text",
    "id": "RwTNu4KFqG-K"
   },
   "source": [
    "Here's where you can explore the training stats. You can pop the labels 'is_red' and 'quality' from the data as these will be used as the labels\n"
   ]
  },
  {
   "cell_type": "code",
   "execution_count": 64,
   "metadata": {
    "colab": {},
    "colab_type": "code",
    "id": "Y_afyhhHM6WQ"
   },
   "outputs": [],
   "source": [
    "train_stats: pd.DataFrame = train.describe()\n",
    "train_stats.pop(\"is_red\")\n",
    "train_stats.pop(\"quality\")\n",
    "train_stats = train_stats.transpose();"
   ]
  },
  {
   "cell_type": "markdown",
   "metadata": {
    "colab_type": "text",
    "id": "ahvbYm4fNqSt"
   },
   "source": [
    "Explore the training stats!"
   ]
  },
  {
   "cell_type": "code",
   "execution_count": 72,
   "metadata": {
    "colab": {},
    "colab_type": "code",
    "id": "n_gAtPjZ0otF"
   },
   "outputs": [
    {
     "data": {
      "text/html": [
       "<div>\n",
       "<style scoped>\n",
       "    .dataframe tbody tr th:only-of-type {\n",
       "        vertical-align: middle;\n",
       "    }\n",
       "\n",
       "    .dataframe tbody tr th {\n",
       "        vertical-align: top;\n",
       "    }\n",
       "\n",
       "    .dataframe thead th {\n",
       "        text-align: right;\n",
       "    }\n",
       "</style>\n",
       "<table border=\"1\" class=\"dataframe\">\n",
       "  <thead>\n",
       "    <tr style=\"text-align: right;\">\n",
       "      <th></th>\n",
       "      <th>count</th>\n",
       "      <th>mean</th>\n",
       "      <th>std</th>\n",
       "      <th>min</th>\n",
       "      <th>25%</th>\n",
       "      <th>50%</th>\n",
       "      <th>75%</th>\n",
       "      <th>max</th>\n",
       "    </tr>\n",
       "  </thead>\n",
       "  <tbody>\n",
       "    <tr>\n",
       "      <th>fixed acidity</th>\n",
       "      <td>3155.0</td>\n",
       "      <td>7.221616</td>\n",
       "      <td>1.325297</td>\n",
       "      <td>3.80000</td>\n",
       "      <td>6.40000</td>\n",
       "      <td>7.00000</td>\n",
       "      <td>7.7000</td>\n",
       "      <td>15.60000</td>\n",
       "    </tr>\n",
       "    <tr>\n",
       "      <th>volatile acidity</th>\n",
       "      <td>3155.0</td>\n",
       "      <td>0.338929</td>\n",
       "      <td>0.162476</td>\n",
       "      <td>0.08000</td>\n",
       "      <td>0.23000</td>\n",
       "      <td>0.29000</td>\n",
       "      <td>0.4000</td>\n",
       "      <td>1.24000</td>\n",
       "    </tr>\n",
       "    <tr>\n",
       "      <th>citric acid</th>\n",
       "      <td>3155.0</td>\n",
       "      <td>0.321569</td>\n",
       "      <td>0.147970</td>\n",
       "      <td>0.00000</td>\n",
       "      <td>0.25000</td>\n",
       "      <td>0.31000</td>\n",
       "      <td>0.4000</td>\n",
       "      <td>1.66000</td>\n",
       "    </tr>\n",
       "    <tr>\n",
       "      <th>residual sugar</th>\n",
       "      <td>3155.0</td>\n",
       "      <td>5.155911</td>\n",
       "      <td>4.639632</td>\n",
       "      <td>0.60000</td>\n",
       "      <td>1.80000</td>\n",
       "      <td>2.80000</td>\n",
       "      <td>7.6500</td>\n",
       "      <td>65.80000</td>\n",
       "    </tr>\n",
       "    <tr>\n",
       "      <th>chlorides</th>\n",
       "      <td>3155.0</td>\n",
       "      <td>0.056976</td>\n",
       "      <td>0.036802</td>\n",
       "      <td>0.01200</td>\n",
       "      <td>0.03800</td>\n",
       "      <td>0.04700</td>\n",
       "      <td>0.0660</td>\n",
       "      <td>0.61100</td>\n",
       "    </tr>\n",
       "    <tr>\n",
       "      <th>free sulfur dioxide</th>\n",
       "      <td>3155.0</td>\n",
       "      <td>30.388590</td>\n",
       "      <td>17.236784</td>\n",
       "      <td>1.00000</td>\n",
       "      <td>17.00000</td>\n",
       "      <td>28.00000</td>\n",
       "      <td>41.0000</td>\n",
       "      <td>131.00000</td>\n",
       "    </tr>\n",
       "    <tr>\n",
       "      <th>total sulfur dioxide</th>\n",
       "      <td>3155.0</td>\n",
       "      <td>115.062282</td>\n",
       "      <td>56.706617</td>\n",
       "      <td>6.00000</td>\n",
       "      <td>75.00000</td>\n",
       "      <td>117.00000</td>\n",
       "      <td>156.0000</td>\n",
       "      <td>344.00000</td>\n",
       "    </tr>\n",
       "    <tr>\n",
       "      <th>density</th>\n",
       "      <td>3155.0</td>\n",
       "      <td>0.994633</td>\n",
       "      <td>0.003005</td>\n",
       "      <td>0.98711</td>\n",
       "      <td>0.99232</td>\n",
       "      <td>0.99481</td>\n",
       "      <td>0.9968</td>\n",
       "      <td>1.03898</td>\n",
       "    </tr>\n",
       "    <tr>\n",
       "      <th>pH</th>\n",
       "      <td>3155.0</td>\n",
       "      <td>3.223201</td>\n",
       "      <td>0.161272</td>\n",
       "      <td>2.72000</td>\n",
       "      <td>3.11000</td>\n",
       "      <td>3.21000</td>\n",
       "      <td>3.3300</td>\n",
       "      <td>4.01000</td>\n",
       "    </tr>\n",
       "    <tr>\n",
       "      <th>sulphates</th>\n",
       "      <td>3155.0</td>\n",
       "      <td>0.534051</td>\n",
       "      <td>0.149149</td>\n",
       "      <td>0.22000</td>\n",
       "      <td>0.43000</td>\n",
       "      <td>0.51000</td>\n",
       "      <td>0.6000</td>\n",
       "      <td>1.95000</td>\n",
       "    </tr>\n",
       "    <tr>\n",
       "      <th>alcohol</th>\n",
       "      <td>3155.0</td>\n",
       "      <td>10.504466</td>\n",
       "      <td>1.154654</td>\n",
       "      <td>8.50000</td>\n",
       "      <td>9.50000</td>\n",
       "      <td>10.30000</td>\n",
       "      <td>11.3000</td>\n",
       "      <td>14.00000</td>\n",
       "    </tr>\n",
       "  </tbody>\n",
       "</table>\n",
       "</div>"
      ],
      "text/plain": [
       "                       count        mean        std      min       25%  \\\n",
       "fixed acidity         3155.0    7.221616   1.325297  3.80000   6.40000   \n",
       "volatile acidity      3155.0    0.338929   0.162476  0.08000   0.23000   \n",
       "citric acid           3155.0    0.321569   0.147970  0.00000   0.25000   \n",
       "residual sugar        3155.0    5.155911   4.639632  0.60000   1.80000   \n",
       "chlorides             3155.0    0.056976   0.036802  0.01200   0.03800   \n",
       "free sulfur dioxide   3155.0   30.388590  17.236784  1.00000  17.00000   \n",
       "total sulfur dioxide  3155.0  115.062282  56.706617  6.00000  75.00000   \n",
       "density               3155.0    0.994633   0.003005  0.98711   0.99232   \n",
       "pH                    3155.0    3.223201   0.161272  2.72000   3.11000   \n",
       "sulphates             3155.0    0.534051   0.149149  0.22000   0.43000   \n",
       "alcohol               3155.0   10.504466   1.154654  8.50000   9.50000   \n",
       "\n",
       "                            50%       75%        max  \n",
       "fixed acidity           7.00000    7.7000   15.60000  \n",
       "volatile acidity        0.29000    0.4000    1.24000  \n",
       "citric acid             0.31000    0.4000    1.66000  \n",
       "residual sugar          2.80000    7.6500   65.80000  \n",
       "chlorides               0.04700    0.0660    0.61100  \n",
       "free sulfur dioxide    28.00000   41.0000  131.00000  \n",
       "total sulfur dioxide  117.00000  156.0000  344.00000  \n",
       "density                 0.99481    0.9968    1.03898  \n",
       "pH                      3.21000    3.3300    4.01000  \n",
       "sulphates               0.51000    0.6000    1.95000  \n",
       "alcohol                10.30000   11.3000   14.00000  "
      ]
     },
     "execution_count": 72,
     "metadata": {},
     "output_type": "execute_result"
    }
   ],
   "source": [
    "train_stats"
   ]
  },
  {
   "cell_type": "markdown",
   "metadata": {
    "colab_type": "text",
    "id": "bGPvt9jir_HC"
   },
   "source": [
    "### Get the labels (TODO)\n",
    "\n",
    "The features and labels are currently in the same dataframe.\n",
    "- You will want to store the label columns `is_red` and `quality` separately from the feature columns.  \n",
    "- The following function, `format_output`, gets these two columns from the dataframe (it's given to you).\n",
    "- `format_output` also formats the data into numpy arrays. \n",
    "- Please use the `format_output` and apply it to the `train`, `val` and `test` sets to get dataframes for the labels."
   ]
  },
  {
   "cell_type": "code",
   "execution_count": 66,
   "metadata": {
    "colab": {},
    "colab_type": "code",
    "id": "Z_fs14XQqZVP"
   },
   "outputs": [],
   "source": [
    "def format_output(data: pd.DataFrame) -> tuple:\n",
    "    is_red = data.pop(\"is_red\")\n",
    "    is_red = np.array(is_red)\n",
    "    quality = data.pop(\"quality\")\n",
    "    quality = np.array(quality)\n",
    "    return (quality, is_red);"
   ]
  },
  {
   "cell_type": "code",
   "execution_count": 67,
   "metadata": {
    "colab": {},
    "colab_type": "code",
    "deletable": false,
    "id": "8L3ZZe1fQicm",
    "nbgrader": {
     "cell_type": "code",
     "checksum": "7a86809e54895a816434c48dc903f55d",
     "grade": false,
     "grade_id": "cell-5c30fa2c2a354b0f",
     "locked": false,
     "schema_version": 3,
     "solution": true,
     "task": false
    }
   },
   "outputs": [],
   "source": [
    "# Please uncomment all lines in this cell and replace those marked with `# YOUR CODE HERE`.\n",
    "# You can select all lines in this code cell with Ctrl+A (Windows/Linux) or Cmd+A (Mac), then press Ctrl+/ (Windows/Linux) or Cmd+/ (Mac) to uncomment.\n",
    "\n",
    "\n",
    "# format the output of the train set\n",
    "train_Y: tuple = format_output(train)\n",
    "\n",
    "# format the output of the val set\n",
    "val_Y: tuple = format_output(val)\n",
    "\n",
    "# format the output of the test set\n",
    "test_Y: tuple = format_output(test)"
   ]
  },
  {
   "cell_type": "code",
   "execution_count": 68,
   "metadata": {
    "deletable": false,
    "editable": false,
    "nbgrader": {
     "cell_type": "code",
     "checksum": "359cabbafaed14ec9bbc1e57a7b6f32c",
     "grade": true,
     "grade_id": "cell-4977d8befb80f56b",
     "locked": true,
     "points": 1,
     "schema_version": 3,
     "solution": false,
     "task": false
    }
   },
   "outputs": [
    {
     "name": "stdout",
     "output_type": "stream",
     "text": [
      "\u001b[92m All public tests passed\n"
     ]
    }
   ],
   "source": [
    "utils.test_format_output(df, train_Y, val_Y, test_Y)"
   ]
  },
  {
   "cell_type": "markdown",
   "metadata": {},
   "source": [
    "Notice that after you get the labels, the `train`, `val` and `test` dataframes no longer contain the label columns, and contain just the feature columns.\n",
    "- This is because you used `.pop` in the `format_output` function."
   ]
  },
  {
   "cell_type": "code",
   "execution_count": 70,
   "metadata": {},
   "outputs": [
    {
     "data": {
      "text/html": [
       "<div>\n",
       "<style scoped>\n",
       "    .dataframe tbody tr th:only-of-type {\n",
       "        vertical-align: middle;\n",
       "    }\n",
       "\n",
       "    .dataframe tbody tr th {\n",
       "        vertical-align: top;\n",
       "    }\n",
       "\n",
       "    .dataframe thead th {\n",
       "        text-align: right;\n",
       "    }\n",
       "</style>\n",
       "<table border=\"1\" class=\"dataframe\">\n",
       "  <thead>\n",
       "    <tr style=\"text-align: right;\">\n",
       "      <th></th>\n",
       "      <th>fixed acidity</th>\n",
       "      <th>volatile acidity</th>\n",
       "      <th>citric acid</th>\n",
       "      <th>residual sugar</th>\n",
       "      <th>chlorides</th>\n",
       "      <th>free sulfur dioxide</th>\n",
       "      <th>total sulfur dioxide</th>\n",
       "      <th>density</th>\n",
       "      <th>pH</th>\n",
       "      <th>sulphates</th>\n",
       "      <th>alcohol</th>\n",
       "    </tr>\n",
       "  </thead>\n",
       "  <tbody>\n",
       "    <tr>\n",
       "      <th>225</th>\n",
       "      <td>7.5</td>\n",
       "      <td>0.65</td>\n",
       "      <td>0.18</td>\n",
       "      <td>7.0</td>\n",
       "      <td>0.088</td>\n",
       "      <td>27.0</td>\n",
       "      <td>94.0</td>\n",
       "      <td>0.99915</td>\n",
       "      <td>3.38</td>\n",
       "      <td>0.77</td>\n",
       "      <td>9.4</td>\n",
       "    </tr>\n",
       "    <tr>\n",
       "      <th>3557</th>\n",
       "      <td>6.3</td>\n",
       "      <td>0.27</td>\n",
       "      <td>0.29</td>\n",
       "      <td>12.2</td>\n",
       "      <td>0.044</td>\n",
       "      <td>59.0</td>\n",
       "      <td>196.0</td>\n",
       "      <td>0.99782</td>\n",
       "      <td>3.14</td>\n",
       "      <td>0.40</td>\n",
       "      <td>8.8</td>\n",
       "    </tr>\n",
       "    <tr>\n",
       "      <th>3825</th>\n",
       "      <td>8.8</td>\n",
       "      <td>0.27</td>\n",
       "      <td>0.25</td>\n",
       "      <td>5.0</td>\n",
       "      <td>0.024</td>\n",
       "      <td>52.0</td>\n",
       "      <td>99.0</td>\n",
       "      <td>0.99250</td>\n",
       "      <td>2.87</td>\n",
       "      <td>0.49</td>\n",
       "      <td>11.4</td>\n",
       "    </tr>\n",
       "    <tr>\n",
       "      <th>1740</th>\n",
       "      <td>6.4</td>\n",
       "      <td>0.45</td>\n",
       "      <td>0.07</td>\n",
       "      <td>1.1</td>\n",
       "      <td>0.030</td>\n",
       "      <td>10.0</td>\n",
       "      <td>131.0</td>\n",
       "      <td>0.99050</td>\n",
       "      <td>2.97</td>\n",
       "      <td>0.28</td>\n",
       "      <td>10.8</td>\n",
       "    </tr>\n",
       "    <tr>\n",
       "      <th>1221</th>\n",
       "      <td>7.2</td>\n",
       "      <td>0.53</td>\n",
       "      <td>0.13</td>\n",
       "      <td>2.0</td>\n",
       "      <td>0.058</td>\n",
       "      <td>18.0</td>\n",
       "      <td>22.0</td>\n",
       "      <td>0.99573</td>\n",
       "      <td>3.21</td>\n",
       "      <td>0.68</td>\n",
       "      <td>9.9</td>\n",
       "    </tr>\n",
       "  </tbody>\n",
       "</table>\n",
       "</div>"
      ],
      "text/plain": [
       "      fixed acidity  volatile acidity  citric acid  residual sugar  chlorides  \\\n",
       "225             7.5              0.65         0.18             7.0      0.088   \n",
       "3557            6.3              0.27         0.29            12.2      0.044   \n",
       "3825            8.8              0.27         0.25             5.0      0.024   \n",
       "1740            6.4              0.45         0.07             1.1      0.030   \n",
       "1221            7.2              0.53         0.13             2.0      0.058   \n",
       "\n",
       "      free sulfur dioxide  total sulfur dioxide  density    pH  sulphates  \\\n",
       "225                  27.0                  94.0  0.99915  3.38       0.77   \n",
       "3557                 59.0                 196.0  0.99782  3.14       0.40   \n",
       "3825                 52.0                  99.0  0.99250  2.87       0.49   \n",
       "1740                 10.0                 131.0  0.99050  2.97       0.28   \n",
       "1221                 18.0                  22.0  0.99573  3.21       0.68   \n",
       "\n",
       "      alcohol  \n",
       "225       9.4  \n",
       "3557      8.8  \n",
       "3825     11.4  \n",
       "1740     10.8  \n",
       "1221      9.9  "
      ]
     },
     "execution_count": 70,
     "metadata": {},
     "output_type": "execute_result"
    }
   ],
   "source": [
    "train.head()"
   ]
  },
  {
   "cell_type": "markdown",
   "metadata": {
    "colab_type": "text",
    "id": "hEdbrruAsN1D"
   },
   "source": [
    "### Normalize the data (TODO)\n",
    "\n",
    "Next, you can normalize the data, x, using the formula:\n",
    "$$x_{norm} = \\frac{x - \\mu}{\\sigma}$$\n",
    "- The `norm` function is defined for you.\n",
    "- Please apply the `norm` function to normalize the dataframes that contains the feature columns of `train`, `val` and `test` sets."
   ]
  },
  {
   "cell_type": "code",
   "execution_count": 73,
   "metadata": {
    "colab": {},
    "colab_type": "code",
    "id": "WWiZPAHCLjUs"
   },
   "outputs": [],
   "source": [
    "def norm(x: pd.DataFrame) -> pd.DataFrame:\n",
    "    return (x - train_stats[\"mean\"]) / train_stats[\"std\"];"
   ]
  },
  {
   "cell_type": "code",
   "execution_count": 74,
   "metadata": {
    "colab": {},
    "colab_type": "code",
    "deletable": false,
    "id": "JEaOi2I2Lk69",
    "nbgrader": {
     "cell_type": "code",
     "checksum": "6bc0cdcb563d192f271067aa3373ff32",
     "grade": false,
     "grade_id": "cell-d8416d975c371095",
     "locked": false,
     "schema_version": 3,
     "solution": true,
     "task": false
    }
   },
   "outputs": [],
   "source": [
    "# Please uncomment all lines in this cell and replace those marked with `# YOUR CODE HERE`.\n",
    "# You can select all lines in this code cell with Ctrl+A (Windows/Linux) or Cmd+A (Mac), then press Ctrl+/ (Windows/Linux) or Cmd+/ (Mac) to uncomment.\n",
    "\n",
    "\n",
    "# normalize the train set\n",
    "norm_train_X: pd.DataFrame = norm(train)\n",
    "\n",
    "# normalize the val set\n",
    "norm_val_X: pd.DataFrame = norm(val)\n",
    "\n",
    "# normalize the test set\n",
    "norm_test_X: pd.DataFrame = norm(test);"
   ]
  },
  {
   "cell_type": "code",
   "execution_count": 75,
   "metadata": {
    "deletable": false,
    "editable": false,
    "nbgrader": {
     "cell_type": "code",
     "checksum": "4f567db45bf40191601780379cc100b8",
     "grade": true,
     "grade_id": "cell-97fad979d157529b",
     "locked": true,
     "points": 1,
     "schema_version": 3,
     "solution": false,
     "task": false
    }
   },
   "outputs": [
    {
     "name": "stdout",
     "output_type": "stream",
     "text": [
      "\u001b[92m All public tests passed\n"
     ]
    }
   ],
   "source": [
    "utils.test_norm(norm_train_X, norm_val_X, norm_test_X, train, val, test)"
   ]
  },
  {
   "cell_type": "markdown",
   "metadata": {
    "colab_type": "text",
    "id": "hzykDwQhsaPO"
   },
   "source": [
    "## Define the Model (TODO)\n",
    "\n",
    "Define the model using the functional API. The base model will be 2 `Dense` layers of 128 neurons each, and have the `'relu'` activation.\n",
    "- Check out the documentation for [tf.keras.layers.Dense](https://www.tensorflow.org/api_docs/python/tf/keras/layers/Dense)"
   ]
  },
  {
   "cell_type": "code",
   "execution_count": 76,
   "metadata": {
    "colab": {},
    "colab_type": "code",
    "deletable": false,
    "id": "Rhcns3oTFkM6",
    "nbgrader": {
     "cell_type": "code",
     "checksum": "74b031247e569526552bf13a034a1c07",
     "grade": false,
     "grade_id": "cell-73fceedad1fe351c",
     "locked": false,
     "schema_version": 3,
     "solution": true,
     "task": false
    }
   },
   "outputs": [],
   "source": [
    "# Please uncomment all lines in this cell and replace those marked with `# YOUR CODE HERE`.\n",
    "# You can select all lines in this code cell with Ctrl+A (Windows/Linux) or Cmd+A (Mac), then press Ctrl+/ (Windows/Linux) or Cmd+/ (Mac) to uncomment.\n",
    "\n",
    "\n",
    "def base_model(inputs: tf.keras.layers.Layer) -> tf.keras.layers.Layer:\n",
    "    # connect a Dense layer with 128 neurons and a relu activation\n",
    "    x: tf.keras.layers.Layer = tf.keras.layers.Dense(\n",
    "        units=128, activation=\"relu\"\n",
    "    )(inputs)\n",
    "\n",
    "    # connect another Dense layer with 128 neurons and a relu activation\n",
    "    x: tf.keras.layers.Layer = tf.keras.layers.Dense(\n",
    "        units=128, activation=\"relu\"\n",
    "    )(x)\n",
    "    return x;"
   ]
  },
  {
   "cell_type": "code",
   "execution_count": 77,
   "metadata": {
    "deletable": false,
    "editable": false,
    "nbgrader": {
     "cell_type": "code",
     "checksum": "9255924b3def80f679616e4c851a43e1",
     "grade": true,
     "grade_id": "cell-54f742a133353d75",
     "locked": true,
     "points": 1,
     "schema_version": 3,
     "solution": false,
     "task": false
    }
   },
   "outputs": [
    {
     "name": "stdout",
     "output_type": "stream",
     "text": [
      "\u001b[92m All public tests passed\n"
     ]
    }
   ],
   "source": [
    "utils.test_base_model(base_model)"
   ]
  },
  {
   "cell_type": "markdown",
   "metadata": {
    "colab_type": "text",
    "id": "xem_fcVws6Kz"
   },
   "source": [
    "# Define output layers of the model (TODO)\n",
    "\n",
    "You will add output layers to the base model. \n",
    "- The model will need two outputs.\n",
    "\n",
    "One output layer will predict wine quality, which is a numeric value.\n",
    "- Define a `Dense` layer with 1 neuron.\n",
    "- Since this is a regression output, the activation can be left as its default value `None`.\n",
    "\n",
    "The other output layer will predict the wine type, which is either red `1` or not red `0` (white).\n",
    "- Define a `Dense` layer with 1 neuron.\n",
    "- Since there are two possible categories, you can use a sigmoid activation for binary classification.\n",
    "\n",
    "Define the `Model`\n",
    "- Define the `Model` object, and set the following parameters:\n",
    "  - `inputs`: pass in the inputs to the model as a list.\n",
    "  - `outputs`: pass in a list of the outputs that you just defined: wine quality, then wine type.\n",
    "  - **Note**: please list the wine quality before wine type in the outputs, as this will affect the calculated loss if you choose the other order."
   ]
  },
  {
   "cell_type": "code",
   "execution_count": 78,
   "metadata": {
    "colab": {},
    "colab_type": "code",
    "deletable": false,
    "id": "n5UGF8PMVLPt",
    "nbgrader": {
     "cell_type": "code",
     "checksum": "76d35b90d20cdcbb22986cd8211057de",
     "grade": false,
     "grade_id": "cell-19e285f482f021fb",
     "locked": false,
     "schema_version": 3,
     "solution": true,
     "task": false
    }
   },
   "outputs": [],
   "source": [
    "# Please uncomment all lines in this cell and replace those marked with `# YOUR CODE HERE`.\n",
    "# You can select all lines in this code cell with Ctrl+A (Windows/Linux) or Cmd+A (Mac), then press Ctrl+/ (Windows/Linux) or Cmd+/ (Mac) to uncomment.\n",
    "\n",
    "\n",
    "def final_model(inputs: tf.keras.layers.Layer) -> tf.keras.Model:\n",
    "    # get the base model\n",
    "    x: tf.keras.layers.Layer = base_model(inputs)\n",
    "\n",
    "    # connect the output Dense layer for regression\n",
    "    wine_quality: tf.keras.layers.Layer = Dense(\n",
    "        units=\"1\", name=\"wine_quality\"\n",
    "    )(x)\n",
    "\n",
    "    # connect the output Dense layer for classification. this will use a\n",
    "    # sigmoid activation.\n",
    "    wine_type: tf.keras.layers.Layer = Dense(\n",
    "        units=\"1\", activation=\"sigmoid\", name=\"wine_type\"\n",
    "    )(x)\n",
    "\n",
    "    # define the model using the input and output layers\n",
    "    model: tf.keras.Model = Model(\n",
    "        inputs=[inputs], outputs=[wine_quality, wine_type]\n",
    "    )\n",
    "\n",
    "    return model;"
   ]
  },
  {
   "cell_type": "code",
   "execution_count": 79,
   "metadata": {
    "deletable": false,
    "editable": false,
    "nbgrader": {
     "cell_type": "code",
     "checksum": "89cbf89d8ab5e2e59ecf7f63f517520a",
     "grade": true,
     "grade_id": "cell-40d050f855c817d1",
     "locked": true,
     "points": 1,
     "schema_version": 3,
     "solution": false,
     "task": false
    }
   },
   "outputs": [
    {
     "name": "stdout",
     "output_type": "stream",
     "text": [
      "\u001b[92m All public tests passed\n"
     ]
    }
   ],
   "source": [
    "utils.test_final_model(final_model)"
   ]
  },
  {
   "cell_type": "markdown",
   "metadata": {
    "colab_type": "text",
    "id": "5R0BMTsltZyu"
   },
   "source": [
    "## Compiling the Model\n",
    "\n",
    "Next, compile the model. When setting the loss parameter of `model.compile`, you're setting the loss for each of the two outputs (wine quality and wine type).\n",
    "\n",
    "To set more than one loss, use a dictionary of key-value pairs.\n",
    "- You can look at the docs for the losses [here](https://www.tensorflow.org/api_docs/python/tf/keras/losses#functions).\n",
    "    - **Note**: For the desired spelling, please look at the \"Functions\" section of the documentation and not the \"classes\" section on that same page.\n",
    "- wine_type: Since you will be performing binary classification on wine type, you should use the binary crossentropy loss function for it.  Please pass this in as a string.  \n",
    "  - **Hint**, this should be all lowercase.  In the documentation, you'll see this under the \"Functions\" section, not the \"Classes\" section.\n",
    "- wine_quality: since this is a regression output, use the mean squared error.  Please pass it in as a string, all lowercase.\n",
    "  - **Hint**: You may notice that there are two aliases for mean squared error.  Please use the shorter name.\n",
    "\n",
    "\n",
    "You will also set the metric for each of the two outputs.  Again, to set metrics for two or more outputs, use a dictionary with key value pairs.\n",
    "- The metrics documentation is linked [here](https://www.tensorflow.org/api_docs/python/tf/keras/metrics).\n",
    "- For the wine type, please set it to accuracy as a string, all lowercase.\n",
    "- For wine quality, please use the root mean squared error.  Instead of a string, you'll set it to an instance of the class [RootMeanSquaredError](https://www.tensorflow.org/api_docs/python/tf/keras/metrics/RootMeanSquaredError), which belongs to the tf.keras.metrics module.\n",
    "\n",
    "**Note**: If you see the error message \n",
    ">Exception: wine quality loss function is incorrect.\n",
    "\n",
    "- Please also check your other losses and metrics, as the error may be caused by the other three key-value pairs and not the wine quality loss."
   ]
  },
  {
   "cell_type": "code",
   "execution_count": 80,
   "metadata": {
    "colab": {},
    "colab_type": "code",
    "deletable": false,
    "id": "LK11duUbUjmh",
    "nbgrader": {
     "cell_type": "code",
     "checksum": "22f45067ca69eb2ccadb43874dbcc27b",
     "grade": false,
     "grade_id": "cell-81afdc4dcca51d5e",
     "locked": false,
     "schema_version": 3,
     "solution": true,
     "task": false
    }
   },
   "outputs": [],
   "source": [
    "# Please uncomment all lines in this cell and replace those marked with `# YOUR CODE HERE`.\n",
    "# You can select all lines in this code cell with Ctrl+A (Windows/Linux) or Cmd+A (Mac), then press Ctrl+/ (Windows/Linux) or Cmd+/ (Mac) to uncomment.\n",
    "\n",
    "\n",
    "inputs: tf.keras.layers.Layer = tf.keras.layers.Input(shape=(11,))\n",
    "rms: tf.keras.optimizers.Optimizer = tf.keras.optimizers.RMSprop(lr=0.0001)\n",
    "model: tf.keras.layers.Layer = final_model(inputs)\n",
    "\n",
    "model.compile(\n",
    "    optimizer=rms,\n",
    "    loss={\n",
    "        \"wine_type\": \"binary_crossentropy\",\n",
    "        \"wine_quality\": \"mse\",\n",
    "    },\n",
    "    metrics={\n",
    "        \"wine_type\": \"accuracy\",\n",
    "        \"wine_quality\": tf.keras.metrics.RootMeanSquaredError(),\n",
    "    },\n",
    ")"
   ]
  },
  {
   "cell_type": "code",
   "execution_count": 81,
   "metadata": {
    "deletable": false,
    "editable": false,
    "nbgrader": {
     "cell_type": "code",
     "checksum": "88e02238ea5e456ff65e835cc8158054",
     "grade": true,
     "grade_id": "cell-2eeeba02391c4632",
     "locked": true,
     "points": 1,
     "schema_version": 3,
     "solution": false,
     "task": false
    }
   },
   "outputs": [
    {
     "name": "stdout",
     "output_type": "stream",
     "text": [
      "\u001b[92m All public tests passed\n"
     ]
    }
   ],
   "source": [
    "utils.test_model_compile(model)"
   ]
  },
  {
   "cell_type": "markdown",
   "metadata": {
    "colab_type": "text",
    "id": "90MpAMpWuKm-"
   },
   "source": [
    "## Training the Model (TODO)\n",
    "\n",
    "Fit the model to the training inputs and outputs. \n",
    "- Check the documentation for [model.fit](https://www.tensorflow.org/api_docs/python/tf/keras/Model#fit).\n",
    "- Remember to use the normalized training set as inputs. \n",
    "- For the validation data, please use the normalized validation set.\n",
    "\n",
    "**Important: Please do not increase the number of epochs below. This is to avoid the grader from timing out. You can increase it once you have submitted your work.**"
   ]
  },
  {
   "cell_type": "code",
   "execution_count": 82,
   "metadata": {
    "colab": {},
    "colab_type": "code",
    "deletable": false,
    "id": "_eiZkle4XwiY",
    "nbgrader": {
     "cell_type": "code",
     "checksum": "d1a4565296017a0611c6f2de675f96cf",
     "grade": false,
     "grade_id": "cell-0bb56262896f6680",
     "locked": false,
     "schema_version": 3,
     "solution": true,
     "task": false
    }
   },
   "outputs": [
    {
     "name": "stdout",
     "output_type": "stream",
     "text": [
      "Train on 3155 samples, validate on 789 samples\n",
      "Epoch 1/40\n",
      "3155/3155 [==============================] - 1s 346us/sample - loss: 21.8911 - wine_quality_loss: 21.1021 - wine_type_loss: 0.7552 - wine_quality_root_mean_squared_error: 4.5974 - wine_type_accuracy: 0.3319 - val_loss: 14.1228 - val_wine_quality_loss: 13.3913 - val_wine_type_loss: 0.7511 - val_wine_quality_root_mean_squared_error: 3.6567 - val_wine_type_accuracy: 0.3473\n",
      "Epoch 2/40\n",
      "3155/3155 [==============================] - 0s 105us/sample - loss: 8.7517 - wine_quality_loss: 8.0136 - wine_type_loss: 0.7206 - wine_quality_root_mean_squared_error: 2.8339 - wine_type_accuracy: 0.4542 - val_loss: 4.8548 - val_wine_quality_loss: 4.2640 - val_wine_type_loss: 0.6617 - val_wine_quality_root_mean_squared_error: 2.0476 - val_wine_type_accuracy: 0.6236\n",
      "Epoch 3/40\n",
      "3155/3155 [==============================] - 0s 119us/sample - loss: 3.8471 - wine_quality_loss: 3.2609 - wine_type_loss: 0.5790 - wine_quality_root_mean_squared_error: 1.8077 - wine_type_accuracy: 0.8089 - val_loss: 3.0671 - val_wine_quality_loss: 2.6317 - val_wine_type_loss: 0.4927 - val_wine_quality_root_mean_squared_error: 1.6044 - val_wine_type_accuracy: 0.8745\n",
      "Epoch 4/40\n",
      "3155/3155 [==============================] - 0s 99us/sample - loss: 2.7877 - wine_quality_loss: 2.3647 - wine_type_loss: 0.4207 - wine_quality_root_mean_squared_error: 1.5384 - wine_type_accuracy: 0.8951 - val_loss: 2.4173 - val_wine_quality_loss: 2.0861 - val_wine_type_loss: 0.3663 - val_wine_quality_root_mean_squared_error: 1.4321 - val_wine_type_accuracy: 0.8986\n",
      "Epoch 5/40\n",
      "3155/3155 [==============================] - 0s 98us/sample - loss: 2.2184 - wine_quality_loss: 1.9058 - wine_type_loss: 0.3105 - wine_quality_root_mean_squared_error: 1.3811 - wine_type_accuracy: 0.9265 - val_loss: 1.9877 - val_wine_quality_loss: 1.7379 - val_wine_type_loss: 0.2694 - val_wine_quality_root_mean_squared_error: 1.3108 - val_wine_type_accuracy: 0.9607\n",
      "Epoch 6/40\n",
      "3155/3155 [==============================] - 0s 97us/sample - loss: 1.8688 - wine_quality_loss: 1.6354 - wine_type_loss: 0.2307 - wine_quality_root_mean_squared_error: 1.2798 - wine_type_accuracy: 0.9664 - val_loss: 1.7188 - val_wine_quality_loss: 1.5290 - val_wine_type_loss: 0.2016 - val_wine_quality_root_mean_squared_error: 1.2317 - val_wine_type_accuracy: 0.9810\n",
      "Epoch 7/40\n",
      "3155/3155 [==============================] - 0s 113us/sample - loss: 1.6473 - wine_quality_loss: 1.4726 - wine_type_loss: 0.1730 - wine_quality_root_mean_squared_error: 1.2142 - wine_type_accuracy: 0.9800 - val_loss: 1.5348 - val_wine_quality_loss: 1.3868 - val_wine_type_loss: 0.1547 - val_wine_quality_root_mean_squared_error: 1.1748 - val_wine_type_accuracy: 0.9861\n",
      "Epoch 8/40\n",
      "3155/3155 [==============================] - 0s 95us/sample - loss: 1.4886 - wine_quality_loss: 1.3520 - wine_type_loss: 0.1348 - wine_quality_root_mean_squared_error: 1.1635 - wine_type_accuracy: 0.9867 - val_loss: 1.3893 - val_wine_quality_loss: 1.2713 - val_wine_type_loss: 0.1227 - val_wine_quality_root_mean_squared_error: 1.1254 - val_wine_type_accuracy: 0.9873\n",
      "Epoch 9/40\n",
      "3155/3155 [==============================] - 0s 99us/sample - loss: 1.3551 - wine_quality_loss: 1.2460 - wine_type_loss: 0.1075 - wine_quality_root_mean_squared_error: 1.1169 - wine_type_accuracy: 0.9899 - val_loss: 1.2820 - val_wine_quality_loss: 1.1843 - val_wine_type_loss: 0.0995 - val_wine_quality_root_mean_squared_error: 1.0874 - val_wine_type_accuracy: 0.9899\n",
      "Epoch 10/40\n",
      "3155/3155 [==============================] - 0s 98us/sample - loss: 1.2452 - wine_quality_loss: 1.1547 - wine_type_loss: 0.0891 - wine_quality_root_mean_squared_error: 1.0752 - wine_type_accuracy: 0.9911 - val_loss: 1.1883 - val_wine_quality_loss: 1.1060 - val_wine_type_loss: 0.0831 - val_wine_quality_root_mean_squared_error: 1.0512 - val_wine_type_accuracy: 0.9873\n",
      "Epoch 11/40\n",
      "3155/3155 [==============================] - 0s 97us/sample - loss: 1.1582 - wine_quality_loss: 1.0819 - wine_type_loss: 0.0759 - wine_quality_root_mean_squared_error: 1.0403 - wine_type_accuracy: 0.9918 - val_loss: 1.0911 - val_wine_quality_loss: 1.0196 - val_wine_type_loss: 0.0720 - val_wine_quality_root_mean_squared_error: 1.0094 - val_wine_type_accuracy: 0.9886\n",
      "Epoch 12/40\n",
      "3155/3155 [==============================] - 0s 97us/sample - loss: 1.0776 - wine_quality_loss: 1.0116 - wine_type_loss: 0.0669 - wine_quality_root_mean_squared_error: 1.0053 - wine_type_accuracy: 0.9921 - val_loss: 1.0245 - val_wine_quality_loss: 0.9606 - val_wine_type_loss: 0.0635 - val_wine_quality_root_mean_squared_error: 0.9801 - val_wine_type_accuracy: 0.9899\n",
      "Epoch 13/40\n",
      "3155/3155 [==============================] - 0s 97us/sample - loss: 1.0071 - wine_quality_loss: 0.9458 - wine_type_loss: 0.0599 - wine_quality_root_mean_squared_error: 0.9732 - wine_type_accuracy: 0.9927 - val_loss: 0.9532 - val_wine_quality_loss: 0.8949 - val_wine_type_loss: 0.0574 - val_wine_quality_root_mean_squared_error: 0.9464 - val_wine_type_accuracy: 0.9911\n",
      "Epoch 14/40\n",
      "3155/3155 [==============================] - 0s 112us/sample - loss: 0.9432 - wine_quality_loss: 0.8868 - wine_type_loss: 0.0548 - wine_quality_root_mean_squared_error: 0.9425 - wine_type_accuracy: 0.9927 - val_loss: 0.8919 - val_wine_quality_loss: 0.8379 - val_wine_type_loss: 0.0529 - val_wine_quality_root_mean_squared_error: 0.9158 - val_wine_type_accuracy: 0.9911\n",
      "Epoch 15/40\n",
      "3155/3155 [==============================] - 0s 96us/sample - loss: 0.8851 - wine_quality_loss: 0.8343 - wine_type_loss: 0.0509 - wine_quality_root_mean_squared_error: 0.9133 - wine_type_accuracy: 0.9924 - val_loss: 0.8377 - val_wine_quality_loss: 0.7868 - val_wine_type_loss: 0.0492 - val_wine_quality_root_mean_squared_error: 0.8878 - val_wine_type_accuracy: 0.9911\n",
      "Epoch 16/40\n",
      "3155/3155 [==============================] - 0s 97us/sample - loss: 0.8324 - wine_quality_loss: 0.7826 - wine_type_loss: 0.0476 - wine_quality_root_mean_squared_error: 0.8858 - wine_type_accuracy: 0.9924 - val_loss: 0.8000 - val_wine_quality_loss: 0.7518 - val_wine_type_loss: 0.0463 - val_wine_quality_root_mean_squared_error: 0.8680 - val_wine_type_accuracy: 0.9911\n",
      "Epoch 17/40\n",
      "3155/3155 [==============================] - 0s 96us/sample - loss: 0.7834 - wine_quality_loss: 0.7398 - wine_type_loss: 0.0449 - wine_quality_root_mean_squared_error: 0.8593 - wine_type_accuracy: 0.9927 - val_loss: 0.7491 - val_wine_quality_loss: 0.7033 - val_wine_type_loss: 0.0440 - val_wine_quality_root_mean_squared_error: 0.8395 - val_wine_type_accuracy: 0.9911\n",
      "Epoch 18/40\n",
      "3155/3155 [==============================] - 0s 98us/sample - loss: 0.7368 - wine_quality_loss: 0.6930 - wine_type_loss: 0.0428 - wine_quality_root_mean_squared_error: 0.8330 - wine_type_accuracy: 0.9930 - val_loss: 0.6966 - val_wine_quality_loss: 0.6529 - val_wine_type_loss: 0.0420 - val_wine_quality_root_mean_squared_error: 0.8089 - val_wine_type_accuracy: 0.9937\n",
      "Epoch 19/40\n",
      "3155/3155 [==============================] - 0s 97us/sample - loss: 0.6999 - wine_quality_loss: 0.6589 - wine_type_loss: 0.0410 - wine_quality_root_mean_squared_error: 0.8116 - wine_type_accuracy: 0.9930 - val_loss: 0.6601 - val_wine_quality_loss: 0.6177 - val_wine_type_loss: 0.0403 - val_wine_quality_root_mean_squared_error: 0.7871 - val_wine_type_accuracy: 0.9937\n",
      "Epoch 20/40\n",
      "3155/3155 [==============================] - 0s 96us/sample - loss: 0.6605 - wine_quality_loss: 0.6205 - wine_type_loss: 0.0395 - wine_quality_root_mean_squared_error: 0.7880 - wine_type_accuracy: 0.9933 - val_loss: 0.6314 - val_wine_quality_loss: 0.5904 - val_wine_type_loss: 0.0390 - val_wine_quality_root_mean_squared_error: 0.7695 - val_wine_type_accuracy: 0.9937\n",
      "Epoch 21/40\n",
      "3155/3155 [==============================] - 0s 97us/sample - loss: 0.6282 - wine_quality_loss: 0.5899 - wine_type_loss: 0.0381 - wine_quality_root_mean_squared_error: 0.7681 - wine_type_accuracy: 0.9933 - val_loss: 0.5965 - val_wine_quality_loss: 0.5568 - val_wine_type_loss: 0.0379 - val_wine_quality_root_mean_squared_error: 0.7472 - val_wine_type_accuracy: 0.9937\n",
      "Epoch 22/40\n",
      "3155/3155 [==============================] - 0s 97us/sample - loss: 0.5980 - wine_quality_loss: 0.5620 - wine_type_loss: 0.0371 - wine_quality_root_mean_squared_error: 0.7489 - wine_type_accuracy: 0.9940 - val_loss: 0.5677 - val_wine_quality_loss: 0.5289 - val_wine_type_loss: 0.0370 - val_wine_quality_root_mean_squared_error: 0.7283 - val_wine_type_accuracy: 0.9937\n",
      "Epoch 23/40\n",
      "3155/3155 [==============================] - 0s 113us/sample - loss: 0.5700 - wine_quality_loss: 0.5335 - wine_type_loss: 0.0361 - wine_quality_root_mean_squared_error: 0.7306 - wine_type_accuracy: 0.9940 - val_loss: 0.5446 - val_wine_quality_loss: 0.5066 - val_wine_type_loss: 0.0361 - val_wine_quality_root_mean_squared_error: 0.7128 - val_wine_type_accuracy: 0.9937\n",
      "Epoch 24/40\n",
      "3155/3155 [==============================] - 0s 96us/sample - loss: 0.5456 - wine_quality_loss: 0.5101 - wine_type_loss: 0.0352 - wine_quality_root_mean_squared_error: 0.7143 - wine_type_accuracy: 0.9937 - val_loss: 0.5277 - val_wine_quality_loss: 0.4905 - val_wine_type_loss: 0.0354 - val_wine_quality_root_mean_squared_error: 0.7014 - val_wine_type_accuracy: 0.9937\n",
      "Epoch 25/40\n",
      "3155/3155 [==============================] - 0s 97us/sample - loss: 0.5233 - wine_quality_loss: 0.4898 - wine_type_loss: 0.0345 - wine_quality_root_mean_squared_error: 0.6990 - wine_type_accuracy: 0.9940 - val_loss: 0.5004 - val_wine_quality_loss: 0.4641 - val_wine_type_loss: 0.0348 - val_wine_quality_root_mean_squared_error: 0.6821 - val_wine_type_accuracy: 0.9937\n",
      "Epoch 26/40\n",
      "3155/3155 [==============================] - 0s 95us/sample - loss: 0.5035 - wine_quality_loss: 0.4697 - wine_type_loss: 0.0338 - wine_quality_root_mean_squared_error: 0.6853 - wine_type_accuracy: 0.9940 - val_loss: 0.4834 - val_wine_quality_loss: 0.4476 - val_wine_type_loss: 0.0342 - val_wine_quality_root_mean_squared_error: 0.6700 - val_wine_type_accuracy: 0.9937\n",
      "Epoch 27/40\n",
      "3155/3155 [==============================] - 0s 95us/sample - loss: 0.4845 - wine_quality_loss: 0.4514 - wine_type_loss: 0.0331 - wine_quality_root_mean_squared_error: 0.6718 - wine_type_accuracy: 0.9940 - val_loss: 0.4677 - val_wine_quality_loss: 0.4321 - val_wine_type_loss: 0.0335 - val_wine_quality_root_mean_squared_error: 0.6586 - val_wine_type_accuracy: 0.9937\n",
      "Epoch 28/40\n",
      "3155/3155 [==============================] - 0s 96us/sample - loss: 0.4663 - wine_quality_loss: 0.4335 - wine_type_loss: 0.0326 - wine_quality_root_mean_squared_error: 0.6585 - wine_type_accuracy: 0.9937 - val_loss: 0.4710 - val_wine_quality_loss: 0.4370 - val_wine_type_loss: 0.0332 - val_wine_quality_root_mean_squared_error: 0.6614 - val_wine_type_accuracy: 0.9937\n",
      "Epoch 29/40\n",
      "3155/3155 [==============================] - 0s 96us/sample - loss: 0.4527 - wine_quality_loss: 0.4211 - wine_type_loss: 0.0321 - wine_quality_root_mean_squared_error: 0.6485 - wine_type_accuracy: 0.9940 - val_loss: 0.4499 - val_wine_quality_loss: 0.4158 - val_wine_type_loss: 0.0329 - val_wine_quality_root_mean_squared_error: 0.6455 - val_wine_type_accuracy: 0.9949\n",
      "Epoch 30/40\n",
      "3155/3155 [==============================] - 0s 97us/sample - loss: 0.4398 - wine_quality_loss: 0.4082 - wine_type_loss: 0.0315 - wine_quality_root_mean_squared_error: 0.6389 - wine_type_accuracy: 0.9940 - val_loss: 0.4320 - val_wine_quality_loss: 0.3977 - val_wine_type_loss: 0.0327 - val_wine_quality_root_mean_squared_error: 0.6316 - val_wine_type_accuracy: 0.9949\n",
      "Epoch 31/40\n",
      "3155/3155 [==============================] - 0s 97us/sample - loss: 0.4292 - wine_quality_loss: 0.3978 - wine_type_loss: 0.0312 - wine_quality_root_mean_squared_error: 0.6308 - wine_type_accuracy: 0.9940 - val_loss: 0.4165 - val_wine_quality_loss: 0.3828 - val_wine_type_loss: 0.0324 - val_wine_quality_root_mean_squared_error: 0.6195 - val_wine_type_accuracy: 0.9949\n",
      "Epoch 32/40\n",
      "3155/3155 [==============================] - 0s 100us/sample - loss: 0.4184 - wine_quality_loss: 0.3878 - wine_type_loss: 0.0308 - wine_quality_root_mean_squared_error: 0.6225 - wine_type_accuracy: 0.9940 - val_loss: 0.4096 - val_wine_quality_loss: 0.3760 - val_wine_type_loss: 0.0319 - val_wine_quality_root_mean_squared_error: 0.6142 - val_wine_type_accuracy: 0.9949\n",
      "Epoch 33/40\n",
      "3155/3155 [==============================] - 0s 110us/sample - loss: 0.4078 - wine_quality_loss: 0.3770 - wine_type_loss: 0.0304 - wine_quality_root_mean_squared_error: 0.6142 - wine_type_accuracy: 0.9940 - val_loss: 0.4040 - val_wine_quality_loss: 0.3710 - val_wine_type_loss: 0.0318 - val_wine_quality_root_mean_squared_error: 0.6098 - val_wine_type_accuracy: 0.9949\n",
      "Epoch 34/40\n",
      "3155/3155 [==============================] - 0s 104us/sample - loss: 0.4018 - wine_quality_loss: 0.3713 - wine_type_loss: 0.0300 - wine_quality_root_mean_squared_error: 0.6097 - wine_type_accuracy: 0.9946 - val_loss: 0.3929 - val_wine_quality_loss: 0.3602 - val_wine_type_loss: 0.0315 - val_wine_quality_root_mean_squared_error: 0.6009 - val_wine_type_accuracy: 0.9949\n",
      "Epoch 35/40\n",
      "3155/3155 [==============================] - 0s 95us/sample - loss: 0.3947 - wine_quality_loss: 0.3648 - wine_type_loss: 0.0296 - wine_quality_root_mean_squared_error: 0.6041 - wine_type_accuracy: 0.9946 - val_loss: 0.3918 - val_wine_quality_loss: 0.3593 - val_wine_type_loss: 0.0314 - val_wine_quality_root_mean_squared_error: 0.6001 - val_wine_type_accuracy: 0.9949\n",
      "Epoch 36/40\n",
      "3155/3155 [==============================] - 0s 99us/sample - loss: 0.3879 - wine_quality_loss: 0.3581 - wine_type_loss: 0.0293 - wine_quality_root_mean_squared_error: 0.5988 - wine_type_accuracy: 0.9949 - val_loss: 0.3824 - val_wine_quality_loss: 0.3501 - val_wine_type_loss: 0.0313 - val_wine_quality_root_mean_squared_error: 0.5923 - val_wine_type_accuracy: 0.9949\n",
      "Epoch 37/40\n",
      "3155/3155 [==============================] - 0s 112us/sample - loss: 0.3826 - wine_quality_loss: 0.3536 - wine_type_loss: 0.0290 - wine_quality_root_mean_squared_error: 0.5946 - wine_type_accuracy: 0.9949 - val_loss: 0.3814 - val_wine_quality_loss: 0.3496 - val_wine_type_loss: 0.0311 - val_wine_quality_root_mean_squared_error: 0.5916 - val_wine_type_accuracy: 0.9949\n",
      "Epoch 38/40\n",
      "3155/3155 [==============================] - 0s 97us/sample - loss: 0.3758 - wine_quality_loss: 0.3466 - wine_type_loss: 0.0303 - wine_quality_root_mean_squared_error: 0.5890 - wine_type_accuracy: 0.9949 - val_loss: 0.3768 - val_wine_quality_loss: 0.3449 - val_wine_type_loss: 0.0308 - val_wine_quality_root_mean_squared_error: 0.5879 - val_wine_type_accuracy: 0.9949\n",
      "Epoch 39/40\n",
      "3155/3155 [==============================] - 0s 97us/sample - loss: 0.3726 - wine_quality_loss: 0.3436 - wine_type_loss: 0.0286 - wine_quality_root_mean_squared_error: 0.5865 - wine_type_accuracy: 0.9949 - val_loss: 0.3727 - val_wine_quality_loss: 0.3409 - val_wine_type_loss: 0.0308 - val_wine_quality_root_mean_squared_error: 0.5845 - val_wine_type_accuracy: 0.9949\n",
      "Epoch 40/40\n",
      "3155/3155 [==============================] - 0s 96us/sample - loss: 0.3687 - wine_quality_loss: 0.3404 - wine_type_loss: 0.0283 - wine_quality_root_mean_squared_error: 0.5834 - wine_type_accuracy: 0.9949 - val_loss: 0.3699 - val_wine_quality_loss: 0.3384 - val_wine_type_loss: 0.0305 - val_wine_quality_root_mean_squared_error: 0.5823 - val_wine_type_accuracy: 0.9949\n"
     ]
    }
   ],
   "source": [
    "# Please uncomment all lines in this cell and replace those marked with `# YOUR CODE HERE`.\n",
    "# You can select all lines in this code cell with Ctrl+A (Windows/Linux) or Cmd+A (Mac), then press Ctrl+/ (Windows/Linux) or Cmd+/ (Mac) to uncomment.\n",
    "\n",
    "\n",
    "history = model.fit(\n",
    "    x=norm_train_X, y=train_Y, epochs=40, validation_data=(norm_val_X, val_Y)\n",
    ")"
   ]
  },
  {
   "cell_type": "code",
   "execution_count": 83,
   "metadata": {
    "deletable": false,
    "editable": false,
    "nbgrader": {
     "cell_type": "code",
     "checksum": "fadad8896eda9c8c2115970724b15508",
     "grade": true,
     "grade_id": "cell-eb4d5b41bef8f0ab",
     "locked": true,
     "points": 1,
     "schema_version": 3,
     "solution": false,
     "task": false
    }
   },
   "outputs": [
    {
     "name": "stdout",
     "output_type": "stream",
     "text": [
      "\u001b[92m All public tests passed\n"
     ]
    }
   ],
   "source": [
    "utils.test_history(history)"
   ]
  },
  {
   "cell_type": "code",
   "execution_count": 84,
   "metadata": {
    "colab": {},
    "colab_type": "code",
    "id": "CubF2J2gSf6q"
   },
   "outputs": [
    {
     "name": "stdout",
     "output_type": "stream",
     "text": [
      "789/789 [==============================] - 0s 23us/sample - loss: 0.3699 - wine_quality_loss: 0.3384 - wine_type_loss: 0.0305 - wine_quality_root_mean_squared_error: 0.5823 - wine_type_accuracy: 0.9949\n",
      "\n",
      "loss: 0.3699116890043662\n",
      "wine_quality_loss: 0.33836641907691956\n",
      "wine_type_loss: 0.030455024912953377\n",
      "wine_quality_rmse: 0.5823287963867188\n",
      "wine_type_accuracy: 0.9949302673339844\n"
     ]
    }
   ],
   "source": [
    "# Gather the training metrics\n",
    "loss: float\n",
    "wine_quality_loss: float\n",
    "wine_type_loss: float\n",
    "wine_quality_rmse: float\n",
    "wine_type_accuracy: float\n",
    "(\n",
    "    loss,\n",
    "    wine_quality_loss,\n",
    "    wine_type_loss,\n",
    "    wine_quality_rmse,\n",
    "    wine_type_accuracy,\n",
    ") = model.evaluate(x=norm_val_X, y=val_Y)\n",
    "\n",
    "print()\n",
    "print(f\"loss: {loss}\")\n",
    "print(f\"wine_quality_loss: {wine_quality_loss}\")\n",
    "print(f\"wine_type_loss: {wine_type_loss}\")\n",
    "print(f\"wine_quality_rmse: {wine_quality_rmse}\")\n",
    "print(f\"wine_type_accuracy: {wine_type_accuracy}\");\n",
    "\n",
    "# EXPECTED VALUES\n",
    "# ~ 0.30 - 0.38\n",
    "# ~ 0.30 - 0.38\n",
    "# ~ 0.018 - 0.036\n",
    "# ~ 0.50 - 0.62\n",
    "# ~ 0.97 - 1.0\n",
    "\n",
    "# Example:\n",
    "# 0.3657050132751465\n",
    "# 0.3463745415210724\n",
    "# 0.019330406561493874\n",
    "# 0.5885359048843384\n",
    "# 0.9974651336669922"
   ]
  },
  {
   "cell_type": "markdown",
   "metadata": {
    "colab_type": "text",
    "id": "gPtTGAP4usnm"
   },
   "source": [
    "## Analyze the Model Performance\n",
    "\n",
    "Note that the model has two outputs. The output at index 0 is quality and index 1 is wine type\n",
    "\n",
    "So, round the quality predictions to the nearest integer."
   ]
  },
  {
   "cell_type": "code",
   "execution_count": 85,
   "metadata": {
    "colab": {},
    "colab_type": "code",
    "id": "tBq9PEeAaW-Y"
   },
   "outputs": [],
   "source": [
    "predictions: np.ndarray = model.predict(norm_test_X)\n",
    "quality_pred: np.ndarray = predictions[0]\n",
    "type_pred: np.ndarray = predictions[1];"
   ]
  },
  {
   "cell_type": "code",
   "execution_count": 86,
   "metadata": {
    "colab": {},
    "colab_type": "code",
    "id": "YLhgTR4xTIxj"
   },
   "outputs": [
    {
     "name": "stdout",
     "output_type": "stream",
     "text": [
      "[5.515697]\n"
     ]
    }
   ],
   "source": [
    "print(quality_pred[0]);\n",
    "\n",
    "# EXPECTED OUTPUT\n",
    "# 5.4 - 6.0"
   ]
  },
  {
   "cell_type": "code",
   "execution_count": 87,
   "metadata": {
    "colab": {},
    "colab_type": "code",
    "id": "MPi-eYfGTUXi"
   },
   "outputs": [
    {
     "name": "stdout",
     "output_type": "stream",
     "text": [
      "[0.00298352]\n",
      "[0.9998274]\n"
     ]
    }
   ],
   "source": [
    "print(type_pred[0])\n",
    "print(type_pred[944]);\n",
    "\n",
    "# EXPECTED OUTPUT\n",
    "# A number close to zero\n",
    "# A number close to or equal to 1"
   ]
  },
  {
   "cell_type": "markdown",
   "metadata": {
    "colab_type": "text",
    "id": "Kohk-9C6vt_s"
   },
   "source": [
    "### Plot Utilities\n",
    "\n",
    "We define a few utilities to visualize the model performance."
   ]
  },
  {
   "cell_type": "code",
   "execution_count": 88,
   "metadata": {
    "colab": {},
    "colab_type": "code",
    "id": "62gEOFUhn6aQ"
   },
   "outputs": [],
   "source": [
    "def plot_metrics(metric_name: str, title: str, ylim: float = 5) -> None:\n",
    "    plt.title(title)\n",
    "    plt.ylim(0, ylim)\n",
    "    plt.plot(history.history[metric_name], color=\"blue\", label=metric_name)\n",
    "    plt.plot(\n",
    "        history.history[\"val_\" + metric_name],\n",
    "        color=\"green\",\n",
    "        label=f\"val_{metric_name}\",\n",
    "    );"
   ]
  },
  {
   "cell_type": "code",
   "execution_count": 89,
   "metadata": {
    "colab": {},
    "colab_type": "code",
    "id": "6rfgSx7uz5dj"
   },
   "outputs": [],
   "source": [
    "def plot_confusion_matrix(\n",
    "    y_true: np.ndarray,\n",
    "    y_pred: np.ndarray,\n",
    "    title: str = \"\",\n",
    "    labels: list = [0, 1],\n",
    ") -> None:\n",
    "    cm: np.ndarray = confusion_matrix(\n",
    "        test_Y[1], np.round(type_pred), labels=[0, 1]\n",
    "    )\n",
    "    disp: ConfusionMatrixDisplay = ConfusionMatrixDisplay(\n",
    "        confusion_matrix=cm, display_labels=[0, 1]\n",
    "    )\n",
    "    disp.plot(values_format=\"d\");"
   ]
  },
  {
   "cell_type": "code",
   "execution_count": 95,
   "metadata": {
    "colab": {},
    "colab_type": "code",
    "id": "dfVLIqi017Vf"
   },
   "outputs": [],
   "source": [
    "def plot_diff(\n",
    "    y_true: np.ndarray, y_pred: np.ndarray, title: str = \"\"\n",
    ") -> object:\n",
    "    plt.scatter(y_true, y_pred)\n",
    "    plt.title(title)\n",
    "    plt.xlabel(\"True Values\")\n",
    "    plt.ylabel(\"Predictions\")\n",
    "    plt.axis(\"equal\")\n",
    "    plt.axis(\"square\")\n",
    "    plt.plot([-100, 100], [-100, 100])\n",
    "    return plt;"
   ]
  },
  {
   "cell_type": "markdown",
   "metadata": {
    "colab_type": "text",
    "id": "8sd1jdFbwE0I"
   },
   "source": [
    "### Plots for Metrics"
   ]
  },
  {
   "cell_type": "code",
   "execution_count": 91,
   "metadata": {
    "colab": {},
    "colab_type": "code",
    "id": "f3MwZ5J1pOfj"
   },
   "outputs": [
    {
     "data": {
      "image/png": "[encoded data removed]",
      "text/plain": [
       "<Figure size 432x288 with 1 Axes>"
      ]
     },
     "metadata": {
      "needs_background": "light"
     },
     "output_type": "display_data"
    }
   ],
   "source": [
    "plot_metrics(\"wine_quality_root_mean_squared_error\", \"RMSE\", ylim=2);"
   ]
  },
  {
   "cell_type": "code",
   "execution_count": 92,
   "metadata": {
    "colab": {},
    "colab_type": "code",
    "id": "QIAxEezCppnd"
   },
   "outputs": [
    {
     "data": {
      "image/png": "[encoded data removed]",
      "text/plain": [
       "<Figure size 432x288 with 1 Axes>"
      ]
     },
     "metadata": {
      "needs_background": "light"
     },
     "output_type": "display_data"
    }
   ],
   "source": [
    "plot_metrics(\"wine_type_loss\", \"Wine Type Loss\", ylim=0.2);"
   ]
  },
  {
   "cell_type": "markdown",
   "metadata": {
    "colab_type": "text",
    "id": "uYV9AOAMwI9p"
   },
   "source": [
    "### Plots for Confusion Matrix\n",
    "\n",
    "Plot the confusion matrices for wine type. You can see that the model performs well for prediction of wine type from the confusion matrix and the loss metrics."
   ]
  },
  {
   "cell_type": "code",
   "execution_count": 93,
   "metadata": {
    "colab": {},
    "colab_type": "code",
    "id": "C3hvTYxIaf3n"
   },
   "outputs": [
    {
     "data": {
      "image/png": "[encoded data removed]",
      "text/plain": [
       "<Figure size 432x288 with 2 Axes>"
      ]
     },
     "metadata": {
      "needs_background": "light"
     },
     "output_type": "display_data"
    }
   ],
   "source": [
    "plot_confusion_matrix(\n",
    "    test_Y[1], np.round(type_pred), title=\"Wine Type\", labels=[0, 1]\n",
    ");"
   ]
  },
  {
   "cell_type": "code",
   "execution_count": 96,
   "metadata": {
    "colab": {},
    "colab_type": "code",
    "id": "GW91ym8P2I5y"
   },
   "outputs": [
    {
     "data": {
      "image/png": "[encoded data removed]",
      "text/plain": [
       "<Figure size 432x288 with 1 Axes>"
      ]
     },
     "metadata": {
      "needs_background": "light"
     },
     "output_type": "display_data"
    }
   ],
   "source": [
    "scatter_plot: object = plot_diff(test_Y[0], quality_pred, title=\"Type\");"
   ]
  }
 ],
 "metadata": {
  "colab": {
   "include_colab_link": true,
   "name": "exercise-answer.ipynb",
   "provenance": []
  },
  "kernelspec": {
   "display_name": "Python 3",
   "language": "python",
   "name": "python3"
  },
  "language_info": {
   "codemirror_mode": {
    "name": "ipython",
    "version": 3
   },
   "file_extension": ".py",
   "mimetype": "text/x-python",
   "name": "python",
   "nbconvert_exporter": "python",
   "pygments_lexer": "ipython3",
   "version": "3.7.6"
  }
 },
 "nbformat": 4,
 "nbformat_minor": 4
}
