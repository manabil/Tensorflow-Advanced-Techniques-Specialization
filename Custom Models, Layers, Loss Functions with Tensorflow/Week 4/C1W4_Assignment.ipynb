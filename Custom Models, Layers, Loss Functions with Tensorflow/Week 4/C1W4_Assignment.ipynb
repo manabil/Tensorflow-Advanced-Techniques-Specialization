{
  "cells": [
    {
      "cell_type": "markdown",
      "metadata": {
        "id": "view-in-github",
        "colab_type": "text"
      },
      "source": [
        "<a href=\"https://colab.research.google.com/github/manabil/Tensorflow-Advanced-Techniques-Specialization/blob/main/Custom%20Models%2C%20Layers%2C%20Loss%20Functions%20with%20Tensorflow/Week%204/C1W4_Assignment.ipynb\" target=\"_parent\"><img src=\"https://colab.research.google.com/assets/colab-badge.svg\" alt=\"Open In Colab\"/></a>"
      ]
    },
    {
      "cell_type": "markdown",
      "metadata": {
        "id": "GC7zSrbOWiz0"
      },
      "source": [
        "# Week 4 Assignment: Create a VGG network"
      ]
    },
    {
      "cell_type": "markdown",
      "metadata": {
        "id": "iJmx0Z03bypm"
      },
      "source": [
        "In this exercise, you will build a class that implements a [VGG network](https://towardsdatascience.com/vgg-neural-networks-the-next-step-after-alexnet-3f91fa9ffe2c) that can be trained to classify images. The model will look something like this:\n",
        "\n",
        "<img src='VGG.png'>\n",
        "\n",
        "It is primarily made up of a series of Conv2D layers followed by a softmax activated layers to classify the image. As you can see, this will be a handful and the code will look huge if you specify each layer individually. As shown in the lectures, you can instead use model subclassing to build complex architectures. You can encapsulate repeating parts of a network then reuse that code when building the final model. You will get to practice that in this exercise. Let's get started!"
      ]
    },
    {
      "cell_type": "code",
      "execution_count": 1,
      "metadata": {
        "id": "Z01I5nj0NAOu"
      },
      "outputs": [],
      "source": [
        "import tensorflow as tf\n",
        "import tensorflow_datasets as tfds\n",
        "import utils"
      ]
    },
    {
      "cell_type": "markdown",
      "metadata": {
        "id": "vGpe4AEBbypw"
      },
      "source": [
        "## Create named-variables dynamically\n",
        "\n",
        "In this assignment, you will see the use of the Python function `vars()`.  This will allow you to use a for loop to define and set multiple variables with a similar name, such as var1, var2, var3.  \n",
        "\n",
        "Please go through the following examples to get familiar with `vars()`, as you will use it when building the VGG model.\n",
        "- You'll start by defining a class `MyClass`\n",
        "- It contains one variable `var1`.  \n",
        "- Create an object of type `MyClass`."
      ]
    },
    {
      "cell_type": "code",
      "execution_count": 2,
      "metadata": {
        "id": "0cqYDTYCbyp1"
      },
      "outputs": [],
      "source": [
        "# Define a small class MyClass\n",
        "class MyClass:\n",
        "    def __init__(self) -> None:\n",
        "        # One class variable 'a' is set to 1\n",
        "        self.var1: int = 1\n",
        "\n",
        "# Create an object of type MyClass()\n",
        "my_obj: MyClass = MyClass()"
      ]
    },
    {
      "cell_type": "markdown",
      "metadata": {
        "id": "aJzMb-ojbyp3"
      },
      "source": [
        "Python classes have an attribute called `__dict__`.\n",
        "- `__dict__` is a Python dictionary that contains the object's instance variables and values as key value pairs."
      ]
    },
    {
      "cell_type": "code",
      "execution_count": 3,
      "metadata": {
        "id": "cjCFw0h9byp8",
        "colab": {
          "base_uri": "https://localhost:8080/"
        },
        "outputId": "9329299c-83fb-41c8-b39a-ad89ba9188e9"
      },
      "outputs": [
        {
          "output_type": "execute_result",
          "data": {
            "text/plain": [
              "{'var1': 1}"
            ]
          },
          "metadata": {},
          "execution_count": 3
        }
      ],
      "source": [
        "my_obj.__dict__"
      ]
    },
    {
      "cell_type": "markdown",
      "metadata": {
        "id": "6p7mREwObyp_"
      },
      "source": [
        "If you call `vars()` and pass in an object, it will call the object's `__dict__` attribute, which is a Python dictionary containing the object's instance variables and their values as ke"
      ]
    },
    {
      "cell_type": "code",
      "execution_count": 4,
      "metadata": {
        "id": "RmqHA0JTbyqC",
        "colab": {
          "base_uri": "https://localhost:8080/"
        },
        "outputId": "f6ea7af9-8cd1-420e-8810-7956efa9eea5"
      },
      "outputs": [
        {
          "output_type": "execute_result",
          "data": {
            "text/plain": [
              "{'var1': 1}"
            ]
          },
          "metadata": {},
          "execution_count": 4
        }
      ],
      "source": [
        "vars(my_obj)"
      ]
    },
    {
      "cell_type": "markdown",
      "metadata": {
        "id": "PfQbMVpwbyqH"
      },
      "source": [
        "You may be familiar with adding new variable like this:"
      ]
    },
    {
      "cell_type": "code",
      "execution_count": 5,
      "metadata": {
        "id": "Javtd1tEbyqL",
        "colab": {
          "base_uri": "https://localhost:8080/"
        },
        "outputId": "178991b0-a95c-441e-e269-b29e66a96caf"
      },
      "outputs": [
        {
          "output_type": "execute_result",
          "data": {
            "text/plain": [
              "{'var1': 1, 'var2': 2}"
            ]
          },
          "metadata": {},
          "execution_count": 5
        }
      ],
      "source": [
        "# Add a new instance variable and give it a value\n",
        "my_obj.var2 = 2\n",
        "\n",
        "# Calls vars() again to see the object's instance variables\n",
        "vars(my_obj)"
      ]
    },
    {
      "cell_type": "markdown",
      "metadata": {
        "id": "SGjQRf2GbyqP"
      },
      "source": [
        "Here is another way that you can add an instance variable to an object, using `vars()`.\n",
        "- Retrieve the Python dictionary `__dict__` of the object using vars(my_obj).\n",
        "- Modify this `__dict__` dictionary using square bracket notation and passing in the variable's name as a string: `['var3'] = 3`"
      ]
    },
    {
      "cell_type": "code",
      "execution_count": 6,
      "metadata": {
        "id": "6xZdJlFwbyqR",
        "colab": {
          "base_uri": "https://localhost:8080/"
        },
        "outputId": "6dabb3bc-722c-4052-dd27-a19c418e7306"
      },
      "outputs": [
        {
          "output_type": "execute_result",
          "data": {
            "text/plain": [
              "{'var1': 1, 'var2': 2, 'var3': 3}"
            ]
          },
          "metadata": {},
          "execution_count": 6
        }
      ],
      "source": [
        "# Call vars, passing in the object.  Then access the __dict__ dictionary using\n",
        "# square brackets\n",
        "vars(my_obj)['var3'] = 3\n",
        "\n",
        "# Call vars() to see the object's instance variables\n",
        "vars(my_obj)"
      ]
    },
    {
      "cell_type": "markdown",
      "metadata": {
        "id": "p24roP9AbyqT"
      },
      "source": [
        "#### Why this is helpful!\n",
        "You may be wondering why you would need another way to access an object's instance variables.  \n",
        "- Notice that when using `vars()`, you can now pass in the name of the variable `var3` as a string.\n",
        "- What if you plan to use several variables that are similarly named (`var4`, `var5` ... `var9`) and wanted a convenient way to access them by incrementing a number?\n",
        "\n",
        "Try this!"
      ]
    },
    {
      "cell_type": "code",
      "execution_count": 7,
      "metadata": {
        "id": "AeSMxOpxbyqV",
        "colab": {
          "base_uri": "https://localhost:8080/"
        },
        "outputId": "6564d8e7-2af9-4e77-b35b-9b3d2efd457e"
      },
      "outputs": [
        {
          "output_type": "execute_result",
          "data": {
            "text/plain": [
              "{'var1': 1,\n",
              " 'var2': 2,\n",
              " 'var3': 3,\n",
              " 'var4': 0,\n",
              " 'var5': 0,\n",
              " 'var6': 0,\n",
              " 'var7': 0,\n",
              " 'var8': 0,\n",
              " 'var9': 0}"
            ]
          },
          "metadata": {},
          "execution_count": 7
        }
      ],
      "source": [
        "# Use a for loop to increment the index 'i'\n",
        "for i in range(4,10):\n",
        "    # Format a string that is var\n",
        "    vars(my_obj)[f'var{i}'] = 0\n",
        "\n",
        "# View the object's instance variables!\n",
        "vars(my_obj)"
      ]
    },
    {
      "cell_type": "markdown",
      "metadata": {
        "id": "CNIhoABkbyqX"
      },
      "source": [
        "There are couple equivalent ways in Python to format a string.  Here are two of those ways:\n",
        "- f-string: f\"var{i}\"\n",
        "- .format: \"var{}\".format(i)"
      ]
    },
    {
      "cell_type": "code",
      "execution_count": 8,
      "metadata": {
        "id": "ujk1POKtbyqY",
        "colab": {
          "base_uri": "https://localhost:8080/"
        },
        "outputId": "1fd94995-c4ec-406a-e274-5608af49b69b"
      },
      "outputs": [
        {
          "output_type": "stream",
          "name": "stdout",
          "text": [
            "var1\n",
            "var2\n"
          ]
        }
      ],
      "source": [
        "# Format a string using f-string notation\n",
        "i: int = 1\n",
        "print(f\"var{i}\")\n",
        "\n",
        "# Format a string using .format notation\n",
        "i: int = 2\n",
        "print(\"var{}\".format(i))"
      ]
    },
    {
      "cell_type": "markdown",
      "metadata": {
        "id": "tPPgU1Oabyqa"
      },
      "source": [
        "You can access the variables of a class inside the class definition using `vars(self)`"
      ]
    },
    {
      "cell_type": "code",
      "execution_count": 9,
      "metadata": {
        "id": "ZWQ-gv8Qbyqc",
        "colab": {
          "base_uri": "https://localhost:8080/"
        },
        "outputId": "fedbf533-e0c3-48f1-c17f-dc1e01afe2cd"
      },
      "outputs": [
        {
          "output_type": "execute_result",
          "data": {
            "text/plain": [
              "{'var1': 1}"
            ]
          },
          "metadata": {},
          "execution_count": 9
        }
      ],
      "source": [
        "# Define a small class MyClass\n",
        "class MyClass:\n",
        "    def __init__(self) -> None:\n",
        "        # Use vars(self) to access the class's dictionary of variables\n",
        "        vars(self)['var1'] = 1\n",
        "\n",
        "# Create an object of type MyClass()\n",
        "my_obj: MyClass = MyClass()\n",
        "vars(my_obj)"
      ]
    },
    {
      "cell_type": "markdown",
      "metadata": {
        "id": "rfxPPEa7byqf"
      },
      "source": [
        "You'll see this in the upcoming code.  Now you'll start building the VGG network!"
      ]
    },
    {
      "cell_type": "markdown",
      "metadata": {
        "id": "k1T1UMw5YAkp"
      },
      "source": [
        "## Create a generic VGG block (TODO)\n",
        "\n",
        "The VGG Network has blocks of layers, where each block has a varied number of layers.\n",
        "- In order to create blocks of layers that have a customizable number of conv2D layers, you'll define a class `Block`, which can generate a customizable block of layers\n",
        "\n",
        "\n",
        "### `__init__`\n",
        "In the constructor `__init__`, store the conv2D parameters and also define the number of conv2D layers using the parameters passed into `__init__`.\n",
        "- Store the filters, kernel_size, and repetitions as class variables so that they can be used later in the `call` function.\n",
        "- Using a for loop, define a number of Conv2D [Conv2D](https://keras.io/api/layers/convolution_layers/convolution2d/) layers, based on the number of `repetitions` desired for this block.\n",
        "    - You can define each conv2D layer using `vars` and string formatting to create conv2D_0, conv2D_1, conv2D_3 etc.\n",
        "    - Set these four parameters of Conv2D:\n",
        "        - filters\n",
        "        - kernel_size\n",
        "        - activation: set this to 'relu'\n",
        "        - padding: set this to 'same' (default pading is 'valid').\n",
        "        \n",
        "- Define the [MaxPool2D](https://keras.io/api/layers/pooling_layers/max_pooling2d/) layer that follows these Conv2D layers.\n",
        "    - Set the following parameters for MaxPool2D:\n",
        "        - pool_size: this will be a tuple with two values.\n",
        "        - strides: this will also be a tuple with two values.\n",
        "\n",
        "### `call`\n",
        "In `call`, you will connect the layers together.\n",
        "- The 0-th conv2D layer, `conv2D_0`, immediately follows the `inputs`.\n",
        "- For conv2D layers 1,2 and onward, you can use a for loop to connect conv2D_1 to conv2D_0, and connect conv2D_2 to conv2D_1, and so on.\n",
        "- After connecting all of the conv2D_i layers, add connect the max_pool layer and return the max_pool layer."
      ]
    },
    {
      "cell_type": "code",
      "execution_count": 10,
      "metadata": {
        "deletable": false,
        "id": "WGJGaxVjM00W",
        "nbgrader": {
          "cell_type": "code",
          "checksum": "7f19295d8925e1d2e60eefd42a6b4dd8",
          "grade": false,
          "grade_id": "cell-1449db9892707876",
          "locked": false,
          "schema_version": 3,
          "solution": true,
          "task": false
        }
      },
      "outputs": [],
      "source": [
        "# Please uncomment all lines in this cell and replace those marked with\n",
        "# `# YOUR CODE HERE`.\n",
        "# You can select all lines in this code cell with Ctrl+A (Windows/Linux) or\n",
        "# Cmd+A (Mac), then press Ctrl+/ (Windows/Linux) or Cmd+/ (Mac) to uncomment.\n",
        "\n",
        "\n",
        "\n",
        "class Block(tf.keras.Model):\n",
        "    def __init__(\n",
        "        self,\n",
        "        filters: int,\n",
        "        kernel_size: int,\n",
        "        repetitions: int,\n",
        "        pool_size: int = 2,\n",
        "        strides: int = 2\n",
        "    ) -> None:\n",
        "        super(Block, self).__init__()\n",
        "        self.filters: int = filters\n",
        "        self.kernel_size: int = kernel_size\n",
        "        self.repetitions: int = repetitions\n",
        "\n",
        "        # Define a conv2D_0, conv2D_1, etc based on the number of repetitions\n",
        "        for i in range(self.repetitions):\n",
        "\n",
        "            # Define a Conv2D layer, specifying filters, kernel_size,\n",
        "            # activation and padding.\n",
        "            vars(self)[f'conv2D_{i}'] = tf.keras.layers.Conv2D(\n",
        "                filters=self.filters,\n",
        "                kernel_size=self.kernel_size,\n",
        "                padding=\"same\",\n",
        "                activation=\"relu\",\n",
        "            )\n",
        "\n",
        "        # Define the max pool layer that will be added after the Conv2D blocks\n",
        "        self.max_pool: tf.keras.layers.Layer = tf.keras.layers.MaxPool2D(\n",
        "            pool_size=(pool_size, pool_size),\n",
        "            strides=(strides, strides)\n",
        "        )\n",
        "\n",
        "    def call(self, inputs: tf.Tensor) -> tf.Tensor:\n",
        "        # access the class's conv2D_0 layer\n",
        "        conv2D_0: tf.keras.layers.Layer = vars(self)[\"conv2D_0\"]\n",
        "\n",
        "        # Connect the conv2D_0 layer to inputs\n",
        "        x = conv2D_0(inputs)\n",
        "\n",
        "        # for the remaining conv2D_i layers from 1 to `repetitions` they will\n",
        "        # be connected to the previous layer\n",
        "        for i in range(1, self.repetitions):\n",
        "            # access conv2D_i by formatting the integer `i`. (hint: check how\n",
        "            # these were saved using `vars()` earlier)\n",
        "            conv2D_i: tf.keras.layers.Layer = vars(self)[f\"conv2D_{i}\"]\n",
        "\n",
        "            # Use the conv2D_i and connect it to the previous layer\n",
        "            x: tf.keras.layers.Layer = conv2D_i(x)\n",
        "\n",
        "        # Finally, add the max_pool layer\n",
        "        max_pool: tf.keras.layers.Layer = self.max_pool(x)\n",
        "\n",
        "        return max_pool"
      ]
    },
    {
      "cell_type": "code",
      "execution_count": 11,
      "metadata": {
        "deletable": false,
        "editable": false,
        "nbgrader": {
          "cell_type": "code",
          "checksum": "4027611c9615b1f518a95d76a81bc8d1",
          "grade": true,
          "grade_id": "cell-2911e521bce8793b",
          "locked": true,
          "points": 1,
          "schema_version": 3,
          "solution": false,
          "task": false
        },
        "id": "MS2b6Dvybyqk",
        "colab": {
          "base_uri": "https://localhost:8080/"
        },
        "outputId": "35e6459e-1192-424a-d016-2a993f5770c4"
      },
      "outputs": [
        {
          "output_type": "stream",
          "name": "stdout",
          "text": [
            "\u001b[92m All public tests passed\n"
          ]
        }
      ],
      "source": [
        "utils.test_block_class(Block)\n"
      ]
    },
    {
      "cell_type": "markdown",
      "metadata": {
        "id": "peM2GP6uYT0U"
      },
      "source": [
        "## Create the Custom VGG network (TODO)\n",
        "This model stack has a series of VGG blocks, which can be created using the `Block` class that you defined earlier.\n",
        "\n",
        "### `__init__`\n",
        "- Recall that the `__init__` constructor of `Block` takes several function parameters,\n",
        "    - filters, kernel_size, repetitions: you'll set these.\n",
        "    - kernel_size and strides: you can use the default values.\n",
        "- For blocks a through e, build the blocks according to the following specifications:\n",
        "- block_a: 64  filters, kernel_size 3, repetitions 2\n",
        "- block_b: 128 filters, kernel_size 3, repetitions 2\n",
        "- block_c: 256 filters, kernel_size 3, repetitions 3\n",
        "- block_d: 512 filters, kernel_size 3, repetitions 3\n",
        "- block_e: 512 filters, kernel_size 3, repetitions 3\n",
        "\n",
        "After block 'e', add the following layers:\n",
        "- flatten: use [Flatten](https://keras.io/api/layers/reshaping_layers/flatten/).\n",
        "- fc: create a fully connected layer using [Dense](https://keras.io/api/layers/core_layers/dense/).  Give this 256 units, and a `'relu'` activation.\n",
        "- classifier: create the classifier using a Dense layer.  The number of units equals the number of classes.  For multi-class classification, use a `'softmax'` activation.\n",
        "\n",
        "### `call`\n",
        "Connect these layers together using the functional API syntax:\n",
        "- inputs\n",
        "- block_a\n",
        "- block_b\n",
        "- block_c\n",
        "- block_d\n",
        "- block_e\n",
        "- flatten\n",
        "- fc\n",
        "- classifier\n",
        "\n",
        "Return the classifier layer."
      ]
    },
    {
      "cell_type": "code",
      "execution_count": 12,
      "metadata": {
        "deletable": false,
        "id": "yD-paeGiNGvz",
        "nbgrader": {
          "cell_type": "code",
          "checksum": "523346a38f53bc31e080114e98e8eca6",
          "grade": false,
          "grade_id": "cell-d9e90af0898eb47f",
          "locked": false,
          "schema_version": 3,
          "solution": true,
          "task": false
        }
      },
      "outputs": [],
      "source": [
        "# Please uncomment all lines in this cell and replace those marked with\n",
        "# `# YOUR CODE HERE`.\n",
        "# You can select all lines in this code cell with Ctrl+A (Windows/Linux) or\n",
        "# Cmd+A (Mac), then press Ctrl+/ (Windows/Linux) or Cmd+/ (Mac) to uncomment.\n",
        "\n",
        "\n",
        "\n",
        "class MyVGG(tf.keras.Model):\n",
        "\n",
        "    def __init__(self, num_classes: int) -> None:\n",
        "        super(MyVGG, self).__init__()\n",
        "\n",
        "        # Creating blocks of VGG with the following\n",
        "        # (filters, kernel_size, repetitions) configurations\n",
        "        self.block_a: tf.keras.layers.Layer = Block(64, 3, 2)\n",
        "        self.block_b: tf.keras.layers.Layer = Block(128, 3, 2)\n",
        "        self.block_c: tf.keras.layers.Layer = Block(256, 3, 3)\n",
        "        self.block_d: tf.keras.layers.Layer = Block(512, 3, 3)\n",
        "        self.block_e: tf.keras.layers.Layer = Block(512, 3, 3)\n",
        "\n",
        "        # Classification head\n",
        "        # Define a Flatten layer\n",
        "        self.flatten: tf.keras.layers.Layer = tf.keras.layers.Flatten()\n",
        "        # Create a Dense layer with 256 units and ReLU as the activation\n",
        "        # function\n",
        "        self.fc: tf.keras.layers.Layer = tf.keras.layers.Dense(256, \"relu\")\n",
        "        # Finally add the softmax classifier using a Dense layer\n",
        "        self.classifier: tf.keras.layers.Layer = tf.keras.layers.Dense(\n",
        "            num_classes, \"softmax\"\n",
        "        )\n",
        "\n",
        "    def call(self, inputs: tf.Tensor) -> tf.Tensor:\n",
        "        # Chain all the layers one after the other\n",
        "        x: tf.keras.layers.Layer = self.block_a(inputs)\n",
        "        x: tf.keras.layers.Layer = self.block_b(x)\n",
        "        x: tf.keras.layers.Layer = self.block_c(x)\n",
        "        x: tf.keras.layers.Layer = self.block_d(x)\n",
        "        x: tf.keras.layers.Layer = self.block_e(x)\n",
        "        x: tf.keras.layers.Layer = self.flatten(x)\n",
        "        x: tf.keras.layers.Layer = self.fc(x)\n",
        "        x: tf.keras.layers.Layer = self.classifier(x)\n",
        "        return x"
      ]
    },
    {
      "cell_type": "code",
      "execution_count": 13,
      "metadata": {
        "deletable": false,
        "editable": false,
        "nbgrader": {
          "cell_type": "code",
          "checksum": "c72733dcd5baccf2728b5b2460caf515",
          "grade": true,
          "grade_id": "cell-559ac19437f4f2b2",
          "locked": true,
          "points": 1,
          "schema_version": 3,
          "solution": false,
          "task": false
        },
        "id": "N--ZTafFbyqs",
        "colab": {
          "base_uri": "https://localhost:8080/"
        },
        "outputId": "23f59c39-8514-4c22-fea3-f8409c3b32bc"
      },
      "outputs": [
        {
          "output_type": "stream",
          "name": "stdout",
          "text": [
            "\u001b[92m All public tests passed\n"
          ]
        }
      ],
      "source": [
        "utils.test_myvgg_class(MyVGG, Block)\n",
        "\n"
      ]
    },
    {
      "cell_type": "markdown",
      "metadata": {
        "id": "3eYvvv1_byqt"
      },
      "source": [
        "### Load data and train the VGG network (Optional)\n",
        "\n",
        "If you passed all tests above, then you've successfully built the model for your image classifier. Congratulations! You can submit your work now before proceeding.\n",
        "\n",
        "The next steps in the pipeline will be loading the dataset and training your VGG network. The code is shown below but it is only for reference and is **not required to complete the assignment**. Please do not uncomment it because it will cause a grader timeout because of the slow training time. The grader environment does not have an accelerator enabled.\n",
        "\n",
        "If you want to train with your VGG network, one way is to download your notebook (`File -> Download As -> Notebook`), then upload to [Colab](https://colab.research.google.com). From there, you can use a GPU runtime (`Runtime -> Change Runtime type`) prior to running the cells. Just make sure **to comment out the imports and calls to `utils.py`** so you don't get `File Not Found` errors. Again, this part is only for reference and is not required for grading. For this lab, we will only grade how you built your model using subclassing. You will get to training and evaluating your models in the next courses of this Specialization."
      ]
    },
    {
      "cell_type": "code",
      "execution_count": 14,
      "metadata": {
        "id": "MaF763OKNJxU",
        "colab": {
          "base_uri": "https://localhost:8080/",
          "height": 637,
          "referenced_widgets": [
            "6140109ccbeb4e90b6a2550942ab1232",
            "16e88d9d4cf24a92b24b58ef15566da3",
            "d4c2b36acf1741de949e9e8c0b662f5a",
            "876cf9649af94e9e9493cbd95719adf1",
            "615ae73059204126a659de1b56d81ec0",
            "1426ef538f9a445191e0284c5074aab6",
            "27126acdb6a1474ca8ca2df016dc48a9",
            "9f9bc0d44020469fabc74e87570330f5",
            "fc03fdab237b448b9f327d61155f596a",
            "e22772249fbb4c4ba4015ccfac86d4ae",
            "7cecb1c2990c49bfbd540270171c05e2",
            "d27d8e42881d43b9801ed54fbaac7ca8",
            "bfa14e59a25f4817aee264184933af4f",
            "e198ce8ae40f43ad9ae6b7426a4442e7",
            "1755ac262bb34203b2248eceaea9a631",
            "0798108a426242dc8a76b556bbc6edd1",
            "7288156d0201436493573b4531cda0dc",
            "2035700fb3544489b96f9702f2776ca7",
            "490f9f573373412cb3ddf6ad19c2fe10",
            "2dcdad39b8324e57b963473030e53a7d",
            "f5f0f01a47b64b9a9c7ad3be3c6af297",
            "963ebab9aac34c0eb35b7d1c97d86f01",
            "02ecae5732e9488e84c7f5719e25abd7",
            "ad232cbfdbba4939a87c7bbd4febd438",
            "3551a3ed7fc34573a12ca258cd8c1f93",
            "8c7d6deb4ece4172b201f546e290d4f7",
            "222b1771a56e4425916b95b1655278d6",
            "fea0a5bb13e74fe99a422f7b23ebdf2d",
            "1eb72d6d362449c89014726bc1a81f47",
            "8383e2609a8e4752a115be6c7fbc53a7",
            "554348c0ff3e432f93e94215c6d57627",
            "a709d6c1402541a987158caeb385098f",
            "e679d22180b241748d5bfc8a217f7d70",
            "db9fcf51b8514dcb87785c0a3c898fcc",
            "167e6c9d374544db877582c675983e9c",
            "3adbba2c64d742cd82b70bae9e21971f",
            "1b915500a13f4854bc7f354f8d594a02",
            "fe0a17d0fc7844258f8b17a22a201ed3",
            "6917ff163b4e4feda8a66b302056b72c",
            "88a88a60fe1344c29a62ed74adcaffee",
            "3b1cc4f065db43c5996857afa8f23322",
            "1d10604f398e445484d9d5caaac67ae5",
            "7d3c10c9065448389054c1892e76b098",
            "26c07ffc40414780b0d454038a8dfffb",
            "d4900543f28e4315b0bdbf00b573b553",
            "dde011dc669746de9d4e3ae43c5ce054",
            "94f3a89d39dd4c99b30bdbe406098d80",
            "87bff9ae4c404ad9853d9833e26f141d",
            "d4cac841d8134136bb1cfa2c4ab1a1bc",
            "08f57a81feb84701bc4639dc8aeb48e6",
            "33b72a71f3cf4b5eabe6fd1d736d613d",
            "b77dfd4eb3474ecdbe638fd7058f4049",
            "419baf1a416b4681b942675406def00a",
            "8452f590e55f4a7290731f180ce06834",
            "4afb3919921a4b8591982bdced67e3a2"
          ]
        },
        "outputId": "e6511fbe-d673-40da-cd15-7cc77ee0c671"
      },
      "outputs": [
        {
          "output_type": "stream",
          "name": "stdout",
          "text": [
            "Downloading and preparing dataset 786.68 MiB (download: 786.68 MiB, generated: Unknown size, total: 786.68 MiB) to data/cats_vs_dogs/4.0.0...\n"
          ]
        },
        {
          "output_type": "display_data",
          "data": {
            "text/plain": [
              "Dl Completed...: 0 url [00:00, ? url/s]"
            ],
            "application/vnd.jupyter.widget-view+json": {
              "version_major": 2,
              "version_minor": 0,
              "model_id": "6140109ccbeb4e90b6a2550942ab1232"
            }
          },
          "metadata": {}
        },
        {
          "output_type": "display_data",
          "data": {
            "text/plain": [
              "Dl Size...: 0 MiB [00:00, ? MiB/s]"
            ],
            "application/vnd.jupyter.widget-view+json": {
              "version_major": 2,
              "version_minor": 0,
              "model_id": "d27d8e42881d43b9801ed54fbaac7ca8"
            }
          },
          "metadata": {}
        },
        {
          "output_type": "display_data",
          "data": {
            "text/plain": [
              "Generating splits...:   0%|          | 0/1 [00:00<?, ? splits/s]"
            ],
            "application/vnd.jupyter.widget-view+json": {
              "version_major": 2,
              "version_minor": 0,
              "model_id": "02ecae5732e9488e84c7f5719e25abd7"
            }
          },
          "metadata": {}
        },
        {
          "output_type": "display_data",
          "data": {
            "text/plain": [
              "Generating train examples...:   0%|          | 0/23262 [00:00<?, ? examples/s]"
            ],
            "application/vnd.jupyter.widget-view+json": {
              "version_major": 2,
              "version_minor": 0,
              "model_id": "db9fcf51b8514dcb87785c0a3c898fcc"
            }
          },
          "metadata": {}
        },
        {
          "output_type": "stream",
          "name": "stderr",
          "text": [
            "WARNING:absl:1738 images were corrupted and were skipped\n"
          ]
        },
        {
          "output_type": "display_data",
          "data": {
            "text/plain": [
              "Shuffling data/cats_vs_dogs/4.0.0.incompleteZBPZ39/cats_vs_dogs-train.tfrecord*...:   0%|          | 0/23262 […"
            ],
            "application/vnd.jupyter.widget-view+json": {
              "version_major": 2,
              "version_minor": 0,
              "model_id": "d4900543f28e4315b0bdbf00b573b553"
            }
          },
          "metadata": {}
        },
        {
          "output_type": "stream",
          "name": "stdout",
          "text": [
            "Dataset cats_vs_dogs downloaded and prepared to data/cats_vs_dogs/4.0.0. Subsequent calls will reuse this data.\n",
            "Epoch 1/10\n"
          ]
        },
        {
          "output_type": "stream",
          "name": "stderr",
          "text": [
            "WARNING:tensorflow:AutoGraph could not transform <bound method Block.call of <__main__.Block object at 0x79b41c208ac0>> and will run it as-is.\n",
            "Please report this to the TensorFlow team. When filing the bug, set the verbosity to 10 (on Linux, `export AUTOGRAPH_VERBOSITY=10`) and attach the full output.\n",
            "Cause: annotated name 'x' can't be nonlocal (__autograph_generated_filedkzal20n.py, line 24)\n",
            "To silence this warning, decorate the function with @tf.autograph.experimental.do_not_convert\n"
          ]
        },
        {
          "output_type": "stream",
          "name": "stdout",
          "text": [
            "WARNING: AutoGraph could not transform <bound method Block.call of <__main__.Block object at 0x79b41c208ac0>> and will run it as-is.\n",
            "Please report this to the TensorFlow team. When filing the bug, set the verbosity to 10 (on Linux, `export AUTOGRAPH_VERBOSITY=10`) and attach the full output.\n",
            "Cause: annotated name 'x' can't be nonlocal (__autograph_generated_filedkzal20n.py, line 24)\n",
            "To silence this warning, decorate the function with @tf.autograph.experimental.do_not_convert\n",
            "727/727 [==============================] - 98s 125ms/step - loss: 0.6863 - accuracy: 0.5514\n",
            "Epoch 2/10\n",
            "727/727 [==============================] - 93s 128ms/step - loss: 0.6512 - accuracy: 0.6313\n",
            "Epoch 3/10\n",
            "727/727 [==============================] - 93s 128ms/step - loss: 0.6148 - accuracy: 0.6683\n",
            "Epoch 4/10\n",
            "727/727 [==============================] - 93s 128ms/step - loss: 0.5946 - accuracy: 0.6829\n",
            "Epoch 5/10\n",
            "727/727 [==============================] - 93s 128ms/step - loss: 0.5825 - accuracy: 0.6923\n",
            "Epoch 6/10\n",
            "727/727 [==============================] - 94s 128ms/step - loss: 0.5735 - accuracy: 0.6999\n",
            "Epoch 7/10\n",
            "727/727 [==============================] - 93s 128ms/step - loss: 0.5660 - accuracy: 0.7056\n",
            "Epoch 8/10\n",
            "727/727 [==============================] - 93s 128ms/step - loss: 0.5592 - accuracy: 0.7123\n",
            "Epoch 9/10\n",
            "727/727 [==============================] - 93s 128ms/step - loss: 0.5528 - accuracy: 0.7169\n",
            "Epoch 10/10\n",
            "727/727 [==============================] - 93s 128ms/step - loss: 0.5468 - accuracy: 0.7216\n"
          ]
        },
        {
          "output_type": "execute_result",
          "data": {
            "text/plain": [
              "<keras.callbacks.History at 0x79b41c28e500>"
            ]
          },
          "metadata": {},
          "execution_count": 14
        }
      ],
      "source": [
        "# For reference only. Please do not uncomment in Coursera Labs because it might\n",
        "# cause the grader to time out.\n",
        "# You can upload your notebook to Colab instead if you want to try the code\n",
        "# below.\n",
        "\n",
        "# Download the dataset\n",
        "dataset: tf.data.Dataset = tfds.load(\n",
        "    'cats_vs_dogs', split=tfds.Split.TRAIN, data_dir='data/'\n",
        ")\n",
        "\n",
        "# Initialize VGG with the number of classes\n",
        "vgg: tf.keras.Model = MyVGG(num_classes=2)\n",
        "\n",
        "# Compile with losses and metrics\n",
        "vgg.compile(\n",
        "    optimizer='adam',\n",
        "    loss='sparse_categorical_crossentropy',\n",
        "    metrics=['accuracy']\n",
        ")\n",
        "\n",
        "# Define preprocessing function\n",
        "def preprocess(features) -> tuple:\n",
        "    # Resize and normalize\n",
        "    image: tf.Tensor = tf.image.resize(features['image'], (224, 224))\n",
        "    return tf.cast(image, tf.float32) / 255., features['label']\n",
        "\n",
        "# Apply transformations to dataset\n",
        "dataset = dataset.map(preprocess).batch(32)\n",
        "\n",
        "# Train the custom VGG model\n",
        "vgg.fit(dataset, epochs=10)"
      ]
    }
  ],
  "metadata": {
    "colab": {
      "provenance": [],
      "gpuType": "T4",
      "include_colab_link": true
    },
    "kernelspec": {
      "display_name": "Python 3",
      "name": "python3"
    },
    "language_info": {
      "codemirror_mode": {
        "name": "ipython",
        "version": 3
      },
      "file_extension": ".py",
      "mimetype": "text/x-python",
      "name": "python",
      "nbconvert_exporter": "python",
      "pygments_lexer": "ipython3",
      "version": "3.7.6"
    },
    "accelerator": "GPU",
    "widgets": {
      "application/vnd.jupyter.widget-state+json": {
        "6140109ccbeb4e90b6a2550942ab1232": {
          "model_module": "@jupyter-widgets/controls",
          "model_name": "HBoxModel",
          "model_module_version": "1.5.0",
          "state": {
            "_dom_classes": [],
            "_model_module": "@jupyter-widgets/controls",
            "_model_module_version": "1.5.0",
            "_model_name": "HBoxModel",
            "_view_count": null,
            "_view_module": "@jupyter-widgets/controls",
            "_view_module_version": "1.5.0",
            "_view_name": "HBoxView",
            "box_style": "",
            "children": [
              "IPY_MODEL_16e88d9d4cf24a92b24b58ef15566da3",
              "IPY_MODEL_d4c2b36acf1741de949e9e8c0b662f5a",
              "IPY_MODEL_876cf9649af94e9e9493cbd95719adf1"
            ],
            "layout": "IPY_MODEL_615ae73059204126a659de1b56d81ec0"
          }
        },
        "16e88d9d4cf24a92b24b58ef15566da3": {
          "model_module": "@jupyter-widgets/controls",
          "model_name": "HTMLModel",
          "model_module_version": "1.5.0",
          "state": {
            "_dom_classes": [],
            "_model_module": "@jupyter-widgets/controls",
            "_model_module_version": "1.5.0",
            "_model_name": "HTMLModel",
            "_view_count": null,
            "_view_module": "@jupyter-widgets/controls",
            "_view_module_version": "1.5.0",
            "_view_name": "HTMLView",
            "description": "",
            "description_tooltip": null,
            "layout": "IPY_MODEL_1426ef538f9a445191e0284c5074aab6",
            "placeholder": "​",
            "style": "IPY_MODEL_27126acdb6a1474ca8ca2df016dc48a9",
            "value": "Dl Completed...: 100%"
          }
        },
        "d4c2b36acf1741de949e9e8c0b662f5a": {
          "model_module": "@jupyter-widgets/controls",
          "model_name": "FloatProgressModel",
          "model_module_version": "1.5.0",
          "state": {
            "_dom_classes": [],
            "_model_module": "@jupyter-widgets/controls",
            "_model_module_version": "1.5.0",
            "_model_name": "FloatProgressModel",
            "_view_count": null,
            "_view_module": "@jupyter-widgets/controls",
            "_view_module_version": "1.5.0",
            "_view_name": "ProgressView",
            "bar_style": "success",
            "description": "",
            "description_tooltip": null,
            "layout": "IPY_MODEL_9f9bc0d44020469fabc74e87570330f5",
            "max": 1,
            "min": 0,
            "orientation": "horizontal",
            "style": "IPY_MODEL_fc03fdab237b448b9f327d61155f596a",
            "value": 1
          }
        },
        "876cf9649af94e9e9493cbd95719adf1": {
          "model_module": "@jupyter-widgets/controls",
          "model_name": "HTMLModel",
          "model_module_version": "1.5.0",
          "state": {
            "_dom_classes": [],
            "_model_module": "@jupyter-widgets/controls",
            "_model_module_version": "1.5.0",
            "_model_name": "HTMLModel",
            "_view_count": null,
            "_view_module": "@jupyter-widgets/controls",
            "_view_module_version": "1.5.0",
            "_view_name": "HTMLView",
            "description": "",
            "description_tooltip": null,
            "layout": "IPY_MODEL_e22772249fbb4c4ba4015ccfac86d4ae",
            "placeholder": "​",
            "style": "IPY_MODEL_7cecb1c2990c49bfbd540270171c05e2",
            "value": " 1/1 [00:12&lt;00:00, 12.48s/ url]"
          }
        },
        "615ae73059204126a659de1b56d81ec0": {
          "model_module": "@jupyter-widgets/base",
          "model_name": "LayoutModel",
          "model_module_version": "1.2.0",
          "state": {
            "_model_module": "@jupyter-widgets/base",
            "_model_module_version": "1.2.0",
            "_model_name": "LayoutModel",
            "_view_count": null,
            "_view_module": "@jupyter-widgets/base",
            "_view_module_version": "1.2.0",
            "_view_name": "LayoutView",
            "align_content": null,
            "align_items": null,
            "align_self": null,
            "border": null,
            "bottom": null,
            "display": null,
            "flex": null,
            "flex_flow": null,
            "grid_area": null,
            "grid_auto_columns": null,
            "grid_auto_flow": null,
            "grid_auto_rows": null,
            "grid_column": null,
            "grid_gap": null,
            "grid_row": null,
            "grid_template_areas": null,
            "grid_template_columns": null,
            "grid_template_rows": null,
            "height": null,
            "justify_content": null,
            "justify_items": null,
            "left": null,
            "margin": null,
            "max_height": null,
            "max_width": null,
            "min_height": null,
            "min_width": null,
            "object_fit": null,
            "object_position": null,
            "order": null,
            "overflow": null,
            "overflow_x": null,
            "overflow_y": null,
            "padding": null,
            "right": null,
            "top": null,
            "visibility": null,
            "width": null
          }
        },
        "1426ef538f9a445191e0284c5074aab6": {
          "model_module": "@jupyter-widgets/base",
          "model_name": "LayoutModel",
          "model_module_version": "1.2.0",
          "state": {
            "_model_module": "@jupyter-widgets/base",
            "_model_module_version": "1.2.0",
            "_model_name": "LayoutModel",
            "_view_count": null,
            "_view_module": "@jupyter-widgets/base",
            "_view_module_version": "1.2.0",
            "_view_name": "LayoutView",
            "align_content": null,
            "align_items": null,
            "align_self": null,
            "border": null,
            "bottom": null,
            "display": null,
            "flex": null,
            "flex_flow": null,
            "grid_area": null,
            "grid_auto_columns": null,
            "grid_auto_flow": null,
            "grid_auto_rows": null,
            "grid_column": null,
            "grid_gap": null,
            "grid_row": null,
            "grid_template_areas": null,
            "grid_template_columns": null,
            "grid_template_rows": null,
            "height": null,
            "justify_content": null,
            "justify_items": null,
            "left": null,
            "margin": null,
            "max_height": null,
            "max_width": null,
            "min_height": null,
            "min_width": null,
            "object_fit": null,
            "object_position": null,
            "order": null,
            "overflow": null,
            "overflow_x": null,
            "overflow_y": null,
            "padding": null,
            "right": null,
            "top": null,
            "visibility": null,
            "width": null
          }
        },
        "27126acdb6a1474ca8ca2df016dc48a9": {
          "model_module": "@jupyter-widgets/controls",
          "model_name": "DescriptionStyleModel",
          "model_module_version": "1.5.0",
          "state": {
            "_model_module": "@jupyter-widgets/controls",
            "_model_module_version": "1.5.0",
            "_model_name": "DescriptionStyleModel",
            "_view_count": null,
            "_view_module": "@jupyter-widgets/base",
            "_view_module_version": "1.2.0",
            "_view_name": "StyleView",
            "description_width": ""
          }
        },
        "9f9bc0d44020469fabc74e87570330f5": {
          "model_module": "@jupyter-widgets/base",
          "model_name": "LayoutModel",
          "model_module_version": "1.2.0",
          "state": {
            "_model_module": "@jupyter-widgets/base",
            "_model_module_version": "1.2.0",
            "_model_name": "LayoutModel",
            "_view_count": null,
            "_view_module": "@jupyter-widgets/base",
            "_view_module_version": "1.2.0",
            "_view_name": "LayoutView",
            "align_content": null,
            "align_items": null,
            "align_self": null,
            "border": null,
            "bottom": null,
            "display": null,
            "flex": null,
            "flex_flow": null,
            "grid_area": null,
            "grid_auto_columns": null,
            "grid_auto_flow": null,
            "grid_auto_rows": null,
            "grid_column": null,
            "grid_gap": null,
            "grid_row": null,
            "grid_template_areas": null,
            "grid_template_columns": null,
            "grid_template_rows": null,
            "height": null,
            "justify_content": null,
            "justify_items": null,
            "left": null,
            "margin": null,
            "max_height": null,
            "max_width": null,
            "min_height": null,
            "min_width": null,
            "object_fit": null,
            "object_position": null,
            "order": null,
            "overflow": null,
            "overflow_x": null,
            "overflow_y": null,
            "padding": null,
            "right": null,
            "top": null,
            "visibility": null,
            "width": "20px"
          }
        },
        "fc03fdab237b448b9f327d61155f596a": {
          "model_module": "@jupyter-widgets/controls",
          "model_name": "ProgressStyleModel",
          "model_module_version": "1.5.0",
          "state": {
            "_model_module": "@jupyter-widgets/controls",
            "_model_module_version": "1.5.0",
            "_model_name": "ProgressStyleModel",
            "_view_count": null,
            "_view_module": "@jupyter-widgets/base",
            "_view_module_version": "1.2.0",
            "_view_name": "StyleView",
            "bar_color": null,
            "description_width": ""
          }
        },
        "e22772249fbb4c4ba4015ccfac86d4ae": {
          "model_module": "@jupyter-widgets/base",
          "model_name": "LayoutModel",
          "model_module_version": "1.2.0",
          "state": {
            "_model_module": "@jupyter-widgets/base",
            "_model_module_version": "1.2.0",
            "_model_name": "LayoutModel",
            "_view_count": null,
            "_view_module": "@jupyter-widgets/base",
            "_view_module_version": "1.2.0",
            "_view_name": "LayoutView",
            "align_content": null,
            "align_items": null,
            "align_self": null,
            "border": null,
            "bottom": null,
            "display": null,
            "flex": null,
            "flex_flow": null,
            "grid_area": null,
            "grid_auto_columns": null,
            "grid_auto_flow": null,
            "grid_auto_rows": null,
            "grid_column": null,
            "grid_gap": null,
            "grid_row": null,
            "grid_template_areas": null,
            "grid_template_columns": null,
            "grid_template_rows": null,
            "height": null,
            "justify_content": null,
            "justify_items": null,
            "left": null,
            "margin": null,
            "max_height": null,
            "max_width": null,
            "min_height": null,
            "min_width": null,
            "object_fit": null,
            "object_position": null,
            "order": null,
            "overflow": null,
            "overflow_x": null,
            "overflow_y": null,
            "padding": null,
            "right": null,
            "top": null,
            "visibility": null,
            "width": null
          }
        },
        "7cecb1c2990c49bfbd540270171c05e2": {
          "model_module": "@jupyter-widgets/controls",
          "model_name": "DescriptionStyleModel",
          "model_module_version": "1.5.0",
          "state": {
            "_model_module": "@jupyter-widgets/controls",
            "_model_module_version": "1.5.0",
            "_model_name": "DescriptionStyleModel",
            "_view_count": null,
            "_view_module": "@jupyter-widgets/base",
            "_view_module_version": "1.2.0",
            "_view_name": "StyleView",
            "description_width": ""
          }
        },
        "d27d8e42881d43b9801ed54fbaac7ca8": {
          "model_module": "@jupyter-widgets/controls",
          "model_name": "HBoxModel",
          "model_module_version": "1.5.0",
          "state": {
            "_dom_classes": [],
            "_model_module": "@jupyter-widgets/controls",
            "_model_module_version": "1.5.0",
            "_model_name": "HBoxModel",
            "_view_count": null,
            "_view_module": "@jupyter-widgets/controls",
            "_view_module_version": "1.5.0",
            "_view_name": "HBoxView",
            "box_style": "",
            "children": [
              "IPY_MODEL_bfa14e59a25f4817aee264184933af4f",
              "IPY_MODEL_e198ce8ae40f43ad9ae6b7426a4442e7",
              "IPY_MODEL_1755ac262bb34203b2248eceaea9a631"
            ],
            "layout": "IPY_MODEL_0798108a426242dc8a76b556bbc6edd1"
          }
        },
        "bfa14e59a25f4817aee264184933af4f": {
          "model_module": "@jupyter-widgets/controls",
          "model_name": "HTMLModel",
          "model_module_version": "1.5.0",
          "state": {
            "_dom_classes": [],
            "_model_module": "@jupyter-widgets/controls",
            "_model_module_version": "1.5.0",
            "_model_name": "HTMLModel",
            "_view_count": null,
            "_view_module": "@jupyter-widgets/controls",
            "_view_module_version": "1.5.0",
            "_view_name": "HTMLView",
            "description": "",
            "description_tooltip": null,
            "layout": "IPY_MODEL_7288156d0201436493573b4531cda0dc",
            "placeholder": "​",
            "style": "IPY_MODEL_2035700fb3544489b96f9702f2776ca7",
            "value": "Dl Size...: 100%"
          }
        },
        "e198ce8ae40f43ad9ae6b7426a4442e7": {
          "model_module": "@jupyter-widgets/controls",
          "model_name": "FloatProgressModel",
          "model_module_version": "1.5.0",
          "state": {
            "_dom_classes": [],
            "_model_module": "@jupyter-widgets/controls",
            "_model_module_version": "1.5.0",
            "_model_name": "FloatProgressModel",
            "_view_count": null,
            "_view_module": "@jupyter-widgets/controls",
            "_view_module_version": "1.5.0",
            "_view_name": "ProgressView",
            "bar_style": "success",
            "description": "",
            "description_tooltip": null,
            "layout": "IPY_MODEL_490f9f573373412cb3ddf6ad19c2fe10",
            "max": 1,
            "min": 0,
            "orientation": "horizontal",
            "style": "IPY_MODEL_2dcdad39b8324e57b963473030e53a7d",
            "value": 1
          }
        },
        "1755ac262bb34203b2248eceaea9a631": {
          "model_module": "@jupyter-widgets/controls",
          "model_name": "HTMLModel",
          "model_module_version": "1.5.0",
          "state": {
            "_dom_classes": [],
            "_model_module": "@jupyter-widgets/controls",
            "_model_module_version": "1.5.0",
            "_model_name": "HTMLModel",
            "_view_count": null,
            "_view_module": "@jupyter-widgets/controls",
            "_view_module_version": "1.5.0",
            "_view_name": "HTMLView",
            "description": "",
            "description_tooltip": null,
            "layout": "IPY_MODEL_f5f0f01a47b64b9a9c7ad3be3c6af297",
            "placeholder": "​",
            "style": "IPY_MODEL_963ebab9aac34c0eb35b7d1c97d86f01",
            "value": " 786/786 [00:12&lt;00:00, 50.99 MiB/s]"
          }
        },
        "0798108a426242dc8a76b556bbc6edd1": {
          "model_module": "@jupyter-widgets/base",
          "model_name": "LayoutModel",
          "model_module_version": "1.2.0",
          "state": {
            "_model_module": "@jupyter-widgets/base",
            "_model_module_version": "1.2.0",
            "_model_name": "LayoutModel",
            "_view_count": null,
            "_view_module": "@jupyter-widgets/base",
            "_view_module_version": "1.2.0",
            "_view_name": "LayoutView",
            "align_content": null,
            "align_items": null,
            "align_self": null,
            "border": null,
            "bottom": null,
            "display": null,
            "flex": null,
            "flex_flow": null,
            "grid_area": null,
            "grid_auto_columns": null,
            "grid_auto_flow": null,
            "grid_auto_rows": null,
            "grid_column": null,
            "grid_gap": null,
            "grid_row": null,
            "grid_template_areas": null,
            "grid_template_columns": null,
            "grid_template_rows": null,
            "height": null,
            "justify_content": null,
            "justify_items": null,
            "left": null,
            "margin": null,
            "max_height": null,
            "max_width": null,
            "min_height": null,
            "min_width": null,
            "object_fit": null,
            "object_position": null,
            "order": null,
            "overflow": null,
            "overflow_x": null,
            "overflow_y": null,
            "padding": null,
            "right": null,
            "top": null,
            "visibility": null,
            "width": null
          }
        },
        "7288156d0201436493573b4531cda0dc": {
          "model_module": "@jupyter-widgets/base",
          "model_name": "LayoutModel",
          "model_module_version": "1.2.0",
          "state": {
            "_model_module": "@jupyter-widgets/base",
            "_model_module_version": "1.2.0",
            "_model_name": "LayoutModel",
            "_view_count": null,
            "_view_module": "@jupyter-widgets/base",
            "_view_module_version": "1.2.0",
            "_view_name": "LayoutView",
            "align_content": null,
            "align_items": null,
            "align_self": null,
            "border": null,
            "bottom": null,
            "display": null,
            "flex": null,
            "flex_flow": null,
            "grid_area": null,
            "grid_auto_columns": null,
            "grid_auto_flow": null,
            "grid_auto_rows": null,
            "grid_column": null,
            "grid_gap": null,
            "grid_row": null,
            "grid_template_areas": null,
            "grid_template_columns": null,
            "grid_template_rows": null,
            "height": null,
            "justify_content": null,
            "justify_items": null,
            "left": null,
            "margin": null,
            "max_height": null,
            "max_width": null,
            "min_height": null,
            "min_width": null,
            "object_fit": null,
            "object_position": null,
            "order": null,
            "overflow": null,
            "overflow_x": null,
            "overflow_y": null,
            "padding": null,
            "right": null,
            "top": null,
            "visibility": null,
            "width": null
          }
        },
        "2035700fb3544489b96f9702f2776ca7": {
          "model_module": "@jupyter-widgets/controls",
          "model_name": "DescriptionStyleModel",
          "model_module_version": "1.5.0",
          "state": {
            "_model_module": "@jupyter-widgets/controls",
            "_model_module_version": "1.5.0",
            "_model_name": "DescriptionStyleModel",
            "_view_count": null,
            "_view_module": "@jupyter-widgets/base",
            "_view_module_version": "1.2.0",
            "_view_name": "StyleView",
            "description_width": ""
          }
        },
        "490f9f573373412cb3ddf6ad19c2fe10": {
          "model_module": "@jupyter-widgets/base",
          "model_name": "LayoutModel",
          "model_module_version": "1.2.0",
          "state": {
            "_model_module": "@jupyter-widgets/base",
            "_model_module_version": "1.2.0",
            "_model_name": "LayoutModel",
            "_view_count": null,
            "_view_module": "@jupyter-widgets/base",
            "_view_module_version": "1.2.0",
            "_view_name": "LayoutView",
            "align_content": null,
            "align_items": null,
            "align_self": null,
            "border": null,
            "bottom": null,
            "display": null,
            "flex": null,
            "flex_flow": null,
            "grid_area": null,
            "grid_auto_columns": null,
            "grid_auto_flow": null,
            "grid_auto_rows": null,
            "grid_column": null,
            "grid_gap": null,
            "grid_row": null,
            "grid_template_areas": null,
            "grid_template_columns": null,
            "grid_template_rows": null,
            "height": null,
            "justify_content": null,
            "justify_items": null,
            "left": null,
            "margin": null,
            "max_height": null,
            "max_width": null,
            "min_height": null,
            "min_width": null,
            "object_fit": null,
            "object_position": null,
            "order": null,
            "overflow": null,
            "overflow_x": null,
            "overflow_y": null,
            "padding": null,
            "right": null,
            "top": null,
            "visibility": null,
            "width": "20px"
          }
        },
        "2dcdad39b8324e57b963473030e53a7d": {
          "model_module": "@jupyter-widgets/controls",
          "model_name": "ProgressStyleModel",
          "model_module_version": "1.5.0",
          "state": {
            "_model_module": "@jupyter-widgets/controls",
            "_model_module_version": "1.5.0",
            "_model_name": "ProgressStyleModel",
            "_view_count": null,
            "_view_module": "@jupyter-widgets/base",
            "_view_module_version": "1.2.0",
            "_view_name": "StyleView",
            "bar_color": null,
            "description_width": ""
          }
        },
        "f5f0f01a47b64b9a9c7ad3be3c6af297": {
          "model_module": "@jupyter-widgets/base",
          "model_name": "LayoutModel",
          "model_module_version": "1.2.0",
          "state": {
            "_model_module": "@jupyter-widgets/base",
            "_model_module_version": "1.2.0",
            "_model_name": "LayoutModel",
            "_view_count": null,
            "_view_module": "@jupyter-widgets/base",
            "_view_module_version": "1.2.0",
            "_view_name": "LayoutView",
            "align_content": null,
            "align_items": null,
            "align_self": null,
            "border": null,
            "bottom": null,
            "display": null,
            "flex": null,
            "flex_flow": null,
            "grid_area": null,
            "grid_auto_columns": null,
            "grid_auto_flow": null,
            "grid_auto_rows": null,
            "grid_column": null,
            "grid_gap": null,
            "grid_row": null,
            "grid_template_areas": null,
            "grid_template_columns": null,
            "grid_template_rows": null,
            "height": null,
            "justify_content": null,
            "justify_items": null,
            "left": null,
            "margin": null,
            "max_height": null,
            "max_width": null,
            "min_height": null,
            "min_width": null,
            "object_fit": null,
            "object_position": null,
            "order": null,
            "overflow": null,
            "overflow_x": null,
            "overflow_y": null,
            "padding": null,
            "right": null,
            "top": null,
            "visibility": null,
            "width": null
          }
        },
        "963ebab9aac34c0eb35b7d1c97d86f01": {
          "model_module": "@jupyter-widgets/controls",
          "model_name": "DescriptionStyleModel",
          "model_module_version": "1.5.0",
          "state": {
            "_model_module": "@jupyter-widgets/controls",
            "_model_module_version": "1.5.0",
            "_model_name": "DescriptionStyleModel",
            "_view_count": null,
            "_view_module": "@jupyter-widgets/base",
            "_view_module_version": "1.2.0",
            "_view_name": "StyleView",
            "description_width": ""
          }
        },
        "02ecae5732e9488e84c7f5719e25abd7": {
          "model_module": "@jupyter-widgets/controls",
          "model_name": "HBoxModel",
          "model_module_version": "1.5.0",
          "state": {
            "_dom_classes": [],
            "_model_module": "@jupyter-widgets/controls",
            "_model_module_version": "1.5.0",
            "_model_name": "HBoxModel",
            "_view_count": null,
            "_view_module": "@jupyter-widgets/controls",
            "_view_module_version": "1.5.0",
            "_view_name": "HBoxView",
            "box_style": "",
            "children": [
              "IPY_MODEL_ad232cbfdbba4939a87c7bbd4febd438",
              "IPY_MODEL_3551a3ed7fc34573a12ca258cd8c1f93",
              "IPY_MODEL_8c7d6deb4ece4172b201f546e290d4f7"
            ],
            "layout": "IPY_MODEL_222b1771a56e4425916b95b1655278d6"
          }
        },
        "ad232cbfdbba4939a87c7bbd4febd438": {
          "model_module": "@jupyter-widgets/controls",
          "model_name": "HTMLModel",
          "model_module_version": "1.5.0",
          "state": {
            "_dom_classes": [],
            "_model_module": "@jupyter-widgets/controls",
            "_model_module_version": "1.5.0",
            "_model_name": "HTMLModel",
            "_view_count": null,
            "_view_module": "@jupyter-widgets/controls",
            "_view_module_version": "1.5.0",
            "_view_name": "HTMLView",
            "description": "",
            "description_tooltip": null,
            "layout": "IPY_MODEL_fea0a5bb13e74fe99a422f7b23ebdf2d",
            "placeholder": "​",
            "style": "IPY_MODEL_1eb72d6d362449c89014726bc1a81f47",
            "value": "Generating splits...: 100%"
          }
        },
        "3551a3ed7fc34573a12ca258cd8c1f93": {
          "model_module": "@jupyter-widgets/controls",
          "model_name": "FloatProgressModel",
          "model_module_version": "1.5.0",
          "state": {
            "_dom_classes": [],
            "_model_module": "@jupyter-widgets/controls",
            "_model_module_version": "1.5.0",
            "_model_name": "FloatProgressModel",
            "_view_count": null,
            "_view_module": "@jupyter-widgets/controls",
            "_view_module_version": "1.5.0",
            "_view_name": "ProgressView",
            "bar_style": "",
            "description": "",
            "description_tooltip": null,
            "layout": "IPY_MODEL_8383e2609a8e4752a115be6c7fbc53a7",
            "max": 1,
            "min": 0,
            "orientation": "horizontal",
            "style": "IPY_MODEL_554348c0ff3e432f93e94215c6d57627",
            "value": 1
          }
        },
        "8c7d6deb4ece4172b201f546e290d4f7": {
          "model_module": "@jupyter-widgets/controls",
          "model_name": "HTMLModel",
          "model_module_version": "1.5.0",
          "state": {
            "_dom_classes": [],
            "_model_module": "@jupyter-widgets/controls",
            "_model_module_version": "1.5.0",
            "_model_name": "HTMLModel",
            "_view_count": null,
            "_view_module": "@jupyter-widgets/controls",
            "_view_module_version": "1.5.0",
            "_view_name": "HTMLView",
            "description": "",
            "description_tooltip": null,
            "layout": "IPY_MODEL_a709d6c1402541a987158caeb385098f",
            "placeholder": "​",
            "style": "IPY_MODEL_e679d22180b241748d5bfc8a217f7d70",
            "value": " 1/1 [00:14&lt;00:00, 14.72s/ splits]"
          }
        },
        "222b1771a56e4425916b95b1655278d6": {
          "model_module": "@jupyter-widgets/base",
          "model_name": "LayoutModel",
          "model_module_version": "1.2.0",
          "state": {
            "_model_module": "@jupyter-widgets/base",
            "_model_module_version": "1.2.0",
            "_model_name": "LayoutModel",
            "_view_count": null,
            "_view_module": "@jupyter-widgets/base",
            "_view_module_version": "1.2.0",
            "_view_name": "LayoutView",
            "align_content": null,
            "align_items": null,
            "align_self": null,
            "border": null,
            "bottom": null,
            "display": null,
            "flex": null,
            "flex_flow": null,
            "grid_area": null,
            "grid_auto_columns": null,
            "grid_auto_flow": null,
            "grid_auto_rows": null,
            "grid_column": null,
            "grid_gap": null,
            "grid_row": null,
            "grid_template_areas": null,
            "grid_template_columns": null,
            "grid_template_rows": null,
            "height": null,
            "justify_content": null,
            "justify_items": null,
            "left": null,
            "margin": null,
            "max_height": null,
            "max_width": null,
            "min_height": null,
            "min_width": null,
            "object_fit": null,
            "object_position": null,
            "order": null,
            "overflow": null,
            "overflow_x": null,
            "overflow_y": null,
            "padding": null,
            "right": null,
            "top": null,
            "visibility": "hidden",
            "width": null
          }
        },
        "fea0a5bb13e74fe99a422f7b23ebdf2d": {
          "model_module": "@jupyter-widgets/base",
          "model_name": "LayoutModel",
          "model_module_version": "1.2.0",
          "state": {
            "_model_module": "@jupyter-widgets/base",
            "_model_module_version": "1.2.0",
            "_model_name": "LayoutModel",
            "_view_count": null,
            "_view_module": "@jupyter-widgets/base",
            "_view_module_version": "1.2.0",
            "_view_name": "LayoutView",
            "align_content": null,
            "align_items": null,
            "align_self": null,
            "border": null,
            "bottom": null,
            "display": null,
            "flex": null,
            "flex_flow": null,
            "grid_area": null,
            "grid_auto_columns": null,
            "grid_auto_flow": null,
            "grid_auto_rows": null,
            "grid_column": null,
            "grid_gap": null,
            "grid_row": null,
            "grid_template_areas": null,
            "grid_template_columns": null,
            "grid_template_rows": null,
            "height": null,
            "justify_content": null,
            "justify_items": null,
            "left": null,
            "margin": null,
            "max_height": null,
            "max_width": null,
            "min_height": null,
            "min_width": null,
            "object_fit": null,
            "object_position": null,
            "order": null,
            "overflow": null,
            "overflow_x": null,
            "overflow_y": null,
            "padding": null,
            "right": null,
            "top": null,
            "visibility": null,
            "width": null
          }
        },
        "1eb72d6d362449c89014726bc1a81f47": {
          "model_module": "@jupyter-widgets/controls",
          "model_name": "DescriptionStyleModel",
          "model_module_version": "1.5.0",
          "state": {
            "_model_module": "@jupyter-widgets/controls",
            "_model_module_version": "1.5.0",
            "_model_name": "DescriptionStyleModel",
            "_view_count": null,
            "_view_module": "@jupyter-widgets/base",
            "_view_module_version": "1.2.0",
            "_view_name": "StyleView",
            "description_width": ""
          }
        },
        "8383e2609a8e4752a115be6c7fbc53a7": {
          "model_module": "@jupyter-widgets/base",
          "model_name": "LayoutModel",
          "model_module_version": "1.2.0",
          "state": {
            "_model_module": "@jupyter-widgets/base",
            "_model_module_version": "1.2.0",
            "_model_name": "LayoutModel",
            "_view_count": null,
            "_view_module": "@jupyter-widgets/base",
            "_view_module_version": "1.2.0",
            "_view_name": "LayoutView",
            "align_content": null,
            "align_items": null,
            "align_self": null,
            "border": null,
            "bottom": null,
            "display": null,
            "flex": null,
            "flex_flow": null,
            "grid_area": null,
            "grid_auto_columns": null,
            "grid_auto_flow": null,
            "grid_auto_rows": null,
            "grid_column": null,
            "grid_gap": null,
            "grid_row": null,
            "grid_template_areas": null,
            "grid_template_columns": null,
            "grid_template_rows": null,
            "height": null,
            "justify_content": null,
            "justify_items": null,
            "left": null,
            "margin": null,
            "max_height": null,
            "max_width": null,
            "min_height": null,
            "min_width": null,
            "object_fit": null,
            "object_position": null,
            "order": null,
            "overflow": null,
            "overflow_x": null,
            "overflow_y": null,
            "padding": null,
            "right": null,
            "top": null,
            "visibility": null,
            "width": null
          }
        },
        "554348c0ff3e432f93e94215c6d57627": {
          "model_module": "@jupyter-widgets/controls",
          "model_name": "ProgressStyleModel",
          "model_module_version": "1.5.0",
          "state": {
            "_model_module": "@jupyter-widgets/controls",
            "_model_module_version": "1.5.0",
            "_model_name": "ProgressStyleModel",
            "_view_count": null,
            "_view_module": "@jupyter-widgets/base",
            "_view_module_version": "1.2.0",
            "_view_name": "StyleView",
            "bar_color": null,
            "description_width": ""
          }
        },
        "a709d6c1402541a987158caeb385098f": {
          "model_module": "@jupyter-widgets/base",
          "model_name": "LayoutModel",
          "model_module_version": "1.2.0",
          "state": {
            "_model_module": "@jupyter-widgets/base",
            "_model_module_version": "1.2.0",
            "_model_name": "LayoutModel",
            "_view_count": null,
            "_view_module": "@jupyter-widgets/base",
            "_view_module_version": "1.2.0",
            "_view_name": "LayoutView",
            "align_content": null,
            "align_items": null,
            "align_self": null,
            "border": null,
            "bottom": null,
            "display": null,
            "flex": null,
            "flex_flow": null,
            "grid_area": null,
            "grid_auto_columns": null,
            "grid_auto_flow": null,
            "grid_auto_rows": null,
            "grid_column": null,
            "grid_gap": null,
            "grid_row": null,
            "grid_template_areas": null,
            "grid_template_columns": null,
            "grid_template_rows": null,
            "height": null,
            "justify_content": null,
            "justify_items": null,
            "left": null,
            "margin": null,
            "max_height": null,
            "max_width": null,
            "min_height": null,
            "min_width": null,
            "object_fit": null,
            "object_position": null,
            "order": null,
            "overflow": null,
            "overflow_x": null,
            "overflow_y": null,
            "padding": null,
            "right": null,
            "top": null,
            "visibility": null,
            "width": null
          }
        },
        "e679d22180b241748d5bfc8a217f7d70": {
          "model_module": "@jupyter-widgets/controls",
          "model_name": "DescriptionStyleModel",
          "model_module_version": "1.5.0",
          "state": {
            "_model_module": "@jupyter-widgets/controls",
            "_model_module_version": "1.5.0",
            "_model_name": "DescriptionStyleModel",
            "_view_count": null,
            "_view_module": "@jupyter-widgets/base",
            "_view_module_version": "1.2.0",
            "_view_name": "StyleView",
            "description_width": ""
          }
        },
        "db9fcf51b8514dcb87785c0a3c898fcc": {
          "model_module": "@jupyter-widgets/controls",
          "model_name": "HBoxModel",
          "model_module_version": "1.5.0",
          "state": {
            "_dom_classes": [],
            "_model_module": "@jupyter-widgets/controls",
            "_model_module_version": "1.5.0",
            "_model_name": "HBoxModel",
            "_view_count": null,
            "_view_module": "@jupyter-widgets/controls",
            "_view_module_version": "1.5.0",
            "_view_name": "HBoxView",
            "box_style": "",
            "children": [
              "IPY_MODEL_167e6c9d374544db877582c675983e9c",
              "IPY_MODEL_3adbba2c64d742cd82b70bae9e21971f",
              "IPY_MODEL_1b915500a13f4854bc7f354f8d594a02"
            ],
            "layout": "IPY_MODEL_fe0a17d0fc7844258f8b17a22a201ed3"
          }
        },
        "167e6c9d374544db877582c675983e9c": {
          "model_module": "@jupyter-widgets/controls",
          "model_name": "HTMLModel",
          "model_module_version": "1.5.0",
          "state": {
            "_dom_classes": [],
            "_model_module": "@jupyter-widgets/controls",
            "_model_module_version": "1.5.0",
            "_model_name": "HTMLModel",
            "_view_count": null,
            "_view_module": "@jupyter-widgets/controls",
            "_view_module_version": "1.5.0",
            "_view_name": "HTMLView",
            "description": "",
            "description_tooltip": null,
            "layout": "IPY_MODEL_6917ff163b4e4feda8a66b302056b72c",
            "placeholder": "​",
            "style": "IPY_MODEL_88a88a60fe1344c29a62ed74adcaffee",
            "value": "Generating train examples...: 100%"
          }
        },
        "3adbba2c64d742cd82b70bae9e21971f": {
          "model_module": "@jupyter-widgets/controls",
          "model_name": "FloatProgressModel",
          "model_module_version": "1.5.0",
          "state": {
            "_dom_classes": [],
            "_model_module": "@jupyter-widgets/controls",
            "_model_module_version": "1.5.0",
            "_model_name": "FloatProgressModel",
            "_view_count": null,
            "_view_module": "@jupyter-widgets/controls",
            "_view_module_version": "1.5.0",
            "_view_name": "ProgressView",
            "bar_style": "",
            "description": "",
            "description_tooltip": null,
            "layout": "IPY_MODEL_3b1cc4f065db43c5996857afa8f23322",
            "max": 23262,
            "min": 0,
            "orientation": "horizontal",
            "style": "IPY_MODEL_1d10604f398e445484d9d5caaac67ae5",
            "value": 23262
          }
        },
        "1b915500a13f4854bc7f354f8d594a02": {
          "model_module": "@jupyter-widgets/controls",
          "model_name": "HTMLModel",
          "model_module_version": "1.5.0",
          "state": {
            "_dom_classes": [],
            "_model_module": "@jupyter-widgets/controls",
            "_model_module_version": "1.5.0",
            "_model_name": "HTMLModel",
            "_view_count": null,
            "_view_module": "@jupyter-widgets/controls",
            "_view_module_version": "1.5.0",
            "_view_name": "HTMLView",
            "description": "",
            "description_tooltip": null,
            "layout": "IPY_MODEL_7d3c10c9065448389054c1892e76b098",
            "placeholder": "​",
            "style": "IPY_MODEL_26c07ffc40414780b0d454038a8dfffb",
            "value": " 23215/23262 [00:12&lt;00:00, 1579.78 examples/s]"
          }
        },
        "fe0a17d0fc7844258f8b17a22a201ed3": {
          "model_module": "@jupyter-widgets/base",
          "model_name": "LayoutModel",
          "model_module_version": "1.2.0",
          "state": {
            "_model_module": "@jupyter-widgets/base",
            "_model_module_version": "1.2.0",
            "_model_name": "LayoutModel",
            "_view_count": null,
            "_view_module": "@jupyter-widgets/base",
            "_view_module_version": "1.2.0",
            "_view_name": "LayoutView",
            "align_content": null,
            "align_items": null,
            "align_self": null,
            "border": null,
            "bottom": null,
            "display": null,
            "flex": null,
            "flex_flow": null,
            "grid_area": null,
            "grid_auto_columns": null,
            "grid_auto_flow": null,
            "grid_auto_rows": null,
            "grid_column": null,
            "grid_gap": null,
            "grid_row": null,
            "grid_template_areas": null,
            "grid_template_columns": null,
            "grid_template_rows": null,
            "height": null,
            "justify_content": null,
            "justify_items": null,
            "left": null,
            "margin": null,
            "max_height": null,
            "max_width": null,
            "min_height": null,
            "min_width": null,
            "object_fit": null,
            "object_position": null,
            "order": null,
            "overflow": null,
            "overflow_x": null,
            "overflow_y": null,
            "padding": null,
            "right": null,
            "top": null,
            "visibility": "hidden",
            "width": null
          }
        },
        "6917ff163b4e4feda8a66b302056b72c": {
          "model_module": "@jupyter-widgets/base",
          "model_name": "LayoutModel",
          "model_module_version": "1.2.0",
          "state": {
            "_model_module": "@jupyter-widgets/base",
            "_model_module_version": "1.2.0",
            "_model_name": "LayoutModel",
            "_view_count": null,
            "_view_module": "@jupyter-widgets/base",
            "_view_module_version": "1.2.0",
            "_view_name": "LayoutView",
            "align_content": null,
            "align_items": null,
            "align_self": null,
            "border": null,
            "bottom": null,
            "display": null,
            "flex": null,
            "flex_flow": null,
            "grid_area": null,
            "grid_auto_columns": null,
            "grid_auto_flow": null,
            "grid_auto_rows": null,
            "grid_column": null,
            "grid_gap": null,
            "grid_row": null,
            "grid_template_areas": null,
            "grid_template_columns": null,
            "grid_template_rows": null,
            "height": null,
            "justify_content": null,
            "justify_items": null,
            "left": null,
            "margin": null,
            "max_height": null,
            "max_width": null,
            "min_height": null,
            "min_width": null,
            "object_fit": null,
            "object_position": null,
            "order": null,
            "overflow": null,
            "overflow_x": null,
            "overflow_y": null,
            "padding": null,
            "right": null,
            "top": null,
            "visibility": null,
            "width": null
          }
        },
        "88a88a60fe1344c29a62ed74adcaffee": {
          "model_module": "@jupyter-widgets/controls",
          "model_name": "DescriptionStyleModel",
          "model_module_version": "1.5.0",
          "state": {
            "_model_module": "@jupyter-widgets/controls",
            "_model_module_version": "1.5.0",
            "_model_name": "DescriptionStyleModel",
            "_view_count": null,
            "_view_module": "@jupyter-widgets/base",
            "_view_module_version": "1.2.0",
            "_view_name": "StyleView",
            "description_width": ""
          }
        },
        "3b1cc4f065db43c5996857afa8f23322": {
          "model_module": "@jupyter-widgets/base",
          "model_name": "LayoutModel",
          "model_module_version": "1.2.0",
          "state": {
            "_model_module": "@jupyter-widgets/base",
            "_model_module_version": "1.2.0",
            "_model_name": "LayoutModel",
            "_view_count": null,
            "_view_module": "@jupyter-widgets/base",
            "_view_module_version": "1.2.0",
            "_view_name": "LayoutView",
            "align_content": null,
            "align_items": null,
            "align_self": null,
            "border": null,
            "bottom": null,
            "display": null,
            "flex": null,
            "flex_flow": null,
            "grid_area": null,
            "grid_auto_columns": null,
            "grid_auto_flow": null,
            "grid_auto_rows": null,
            "grid_column": null,
            "grid_gap": null,
            "grid_row": null,
            "grid_template_areas": null,
            "grid_template_columns": null,
            "grid_template_rows": null,
            "height": null,
            "justify_content": null,
            "justify_items": null,
            "left": null,
            "margin": null,
            "max_height": null,
            "max_width": null,
            "min_height": null,
            "min_width": null,
            "object_fit": null,
            "object_position": null,
            "order": null,
            "overflow": null,
            "overflow_x": null,
            "overflow_y": null,
            "padding": null,
            "right": null,
            "top": null,
            "visibility": null,
            "width": null
          }
        },
        "1d10604f398e445484d9d5caaac67ae5": {
          "model_module": "@jupyter-widgets/controls",
          "model_name": "ProgressStyleModel",
          "model_module_version": "1.5.0",
          "state": {
            "_model_module": "@jupyter-widgets/controls",
            "_model_module_version": "1.5.0",
            "_model_name": "ProgressStyleModel",
            "_view_count": null,
            "_view_module": "@jupyter-widgets/base",
            "_view_module_version": "1.2.0",
            "_view_name": "StyleView",
            "bar_color": null,
            "description_width": ""
          }
        },
        "7d3c10c9065448389054c1892e76b098": {
          "model_module": "@jupyter-widgets/base",
          "model_name": "LayoutModel",
          "model_module_version": "1.2.0",
          "state": {
            "_model_module": "@jupyter-widgets/base",
            "_model_module_version": "1.2.0",
            "_model_name": "LayoutModel",
            "_view_count": null,
            "_view_module": "@jupyter-widgets/base",
            "_view_module_version": "1.2.0",
            "_view_name": "LayoutView",
            "align_content": null,
            "align_items": null,
            "align_self": null,
            "border": null,
            "bottom": null,
            "display": null,
            "flex": null,
            "flex_flow": null,
            "grid_area": null,
            "grid_auto_columns": null,
            "grid_auto_flow": null,
            "grid_auto_rows": null,
            "grid_column": null,
            "grid_gap": null,
            "grid_row": null,
            "grid_template_areas": null,
            "grid_template_columns": null,
            "grid_template_rows": null,
            "height": null,
            "justify_content": null,
            "justify_items": null,
            "left": null,
            "margin": null,
            "max_height": null,
            "max_width": null,
            "min_height": null,
            "min_width": null,
            "object_fit": null,
            "object_position": null,
            "order": null,
            "overflow": null,
            "overflow_x": null,
            "overflow_y": null,
            "padding": null,
            "right": null,
            "top": null,
            "visibility": null,
            "width": null
          }
        },
        "26c07ffc40414780b0d454038a8dfffb": {
          "model_module": "@jupyter-widgets/controls",
          "model_name": "DescriptionStyleModel",
          "model_module_version": "1.5.0",
          "state": {
            "_model_module": "@jupyter-widgets/controls",
            "_model_module_version": "1.5.0",
            "_model_name": "DescriptionStyleModel",
            "_view_count": null,
            "_view_module": "@jupyter-widgets/base",
            "_view_module_version": "1.2.0",
            "_view_name": "StyleView",
            "description_width": ""
          }
        },
        "d4900543f28e4315b0bdbf00b573b553": {
          "model_module": "@jupyter-widgets/controls",
          "model_name": "HBoxModel",
          "model_module_version": "1.5.0",
          "state": {
            "_dom_classes": [],
            "_model_module": "@jupyter-widgets/controls",
            "_model_module_version": "1.5.0",
            "_model_name": "HBoxModel",
            "_view_count": null,
            "_view_module": "@jupyter-widgets/controls",
            "_view_module_version": "1.5.0",
            "_view_name": "HBoxView",
            "box_style": "",
            "children": [
              "IPY_MODEL_dde011dc669746de9d4e3ae43c5ce054",
              "IPY_MODEL_94f3a89d39dd4c99b30bdbe406098d80",
              "IPY_MODEL_87bff9ae4c404ad9853d9833e26f141d"
            ],
            "layout": "IPY_MODEL_d4cac841d8134136bb1cfa2c4ab1a1bc"
          }
        },
        "dde011dc669746de9d4e3ae43c5ce054": {
          "model_module": "@jupyter-widgets/controls",
          "model_name": "HTMLModel",
          "model_module_version": "1.5.0",
          "state": {
            "_dom_classes": [],
            "_model_module": "@jupyter-widgets/controls",
            "_model_module_version": "1.5.0",
            "_model_name": "HTMLModel",
            "_view_count": null,
            "_view_module": "@jupyter-widgets/controls",
            "_view_module_version": "1.5.0",
            "_view_name": "HTMLView",
            "description": "",
            "description_tooltip": null,
            "layout": "IPY_MODEL_08f57a81feb84701bc4639dc8aeb48e6",
            "placeholder": "​",
            "style": "IPY_MODEL_33b72a71f3cf4b5eabe6fd1d736d613d",
            "value": "Shuffling data/cats_vs_dogs/4.0.0.incompleteZBPZ39/cats_vs_dogs-train.tfrecord*...:  98%"
          }
        },
        "94f3a89d39dd4c99b30bdbe406098d80": {
          "model_module": "@jupyter-widgets/controls",
          "model_name": "FloatProgressModel",
          "model_module_version": "1.5.0",
          "state": {
            "_dom_classes": [],
            "_model_module": "@jupyter-widgets/controls",
            "_model_module_version": "1.5.0",
            "_model_name": "FloatProgressModel",
            "_view_count": null,
            "_view_module": "@jupyter-widgets/controls",
            "_view_module_version": "1.5.0",
            "_view_name": "ProgressView",
            "bar_style": "",
            "description": "",
            "description_tooltip": null,
            "layout": "IPY_MODEL_b77dfd4eb3474ecdbe638fd7058f4049",
            "max": 23262,
            "min": 0,
            "orientation": "horizontal",
            "style": "IPY_MODEL_419baf1a416b4681b942675406def00a",
            "value": 23262
          }
        },
        "87bff9ae4c404ad9853d9833e26f141d": {
          "model_module": "@jupyter-widgets/controls",
          "model_name": "HTMLModel",
          "model_module_version": "1.5.0",
          "state": {
            "_dom_classes": [],
            "_model_module": "@jupyter-widgets/controls",
            "_model_module_version": "1.5.0",
            "_model_name": "HTMLModel",
            "_view_count": null,
            "_view_module": "@jupyter-widgets/controls",
            "_view_module_version": "1.5.0",
            "_view_name": "HTMLView",
            "description": "",
            "description_tooltip": null,
            "layout": "IPY_MODEL_8452f590e55f4a7290731f180ce06834",
            "placeholder": "​",
            "style": "IPY_MODEL_4afb3919921a4b8591982bdced67e3a2",
            "value": " 22756/23262 [00:02&lt;00:00, 8182.89 examples/s]"
          }
        },
        "d4cac841d8134136bb1cfa2c4ab1a1bc": {
          "model_module": "@jupyter-widgets/base",
          "model_name": "LayoutModel",
          "model_module_version": "1.2.0",
          "state": {
            "_model_module": "@jupyter-widgets/base",
            "_model_module_version": "1.2.0",
            "_model_name": "LayoutModel",
            "_view_count": null,
            "_view_module": "@jupyter-widgets/base",
            "_view_module_version": "1.2.0",
            "_view_name": "LayoutView",
            "align_content": null,
            "align_items": null,
            "align_self": null,
            "border": null,
            "bottom": null,
            "display": null,
            "flex": null,
            "flex_flow": null,
            "grid_area": null,
            "grid_auto_columns": null,
            "grid_auto_flow": null,
            "grid_auto_rows": null,
            "grid_column": null,
            "grid_gap": null,
            "grid_row": null,
            "grid_template_areas": null,
            "grid_template_columns": null,
            "grid_template_rows": null,
            "height": null,
            "justify_content": null,
            "justify_items": null,
            "left": null,
            "margin": null,
            "max_height": null,
            "max_width": null,
            "min_height": null,
            "min_width": null,
            "object_fit": null,
            "object_position": null,
            "order": null,
            "overflow": null,
            "overflow_x": null,
            "overflow_y": null,
            "padding": null,
            "right": null,
            "top": null,
            "visibility": "hidden",
            "width": null
          }
        },
        "08f57a81feb84701bc4639dc8aeb48e6": {
          "model_module": "@jupyter-widgets/base",
          "model_name": "LayoutModel",
          "model_module_version": "1.2.0",
          "state": {
            "_model_module": "@jupyter-widgets/base",
            "_model_module_version": "1.2.0",
            "_model_name": "LayoutModel",
            "_view_count": null,
            "_view_module": "@jupyter-widgets/base",
            "_view_module_version": "1.2.0",
            "_view_name": "LayoutView",
            "align_content": null,
            "align_items": null,
            "align_self": null,
            "border": null,
            "bottom": null,
            "display": null,
            "flex": null,
            "flex_flow": null,
            "grid_area": null,
            "grid_auto_columns": null,
            "grid_auto_flow": null,
            "grid_auto_rows": null,
            "grid_column": null,
            "grid_gap": null,
            "grid_row": null,
            "grid_template_areas": null,
            "grid_template_columns": null,
            "grid_template_rows": null,
            "height": null,
            "justify_content": null,
            "justify_items": null,
            "left": null,
            "margin": null,
            "max_height": null,
            "max_width": null,
            "min_height": null,
            "min_width": null,
            "object_fit": null,
            "object_position": null,
            "order": null,
            "overflow": null,
            "overflow_x": null,
            "overflow_y": null,
            "padding": null,
            "right": null,
            "top": null,
            "visibility": null,
            "width": null
          }
        },
        "33b72a71f3cf4b5eabe6fd1d736d613d": {
          "model_module": "@jupyter-widgets/controls",
          "model_name": "DescriptionStyleModel",
          "model_module_version": "1.5.0",
          "state": {
            "_model_module": "@jupyter-widgets/controls",
            "_model_module_version": "1.5.0",
            "_model_name": "DescriptionStyleModel",
            "_view_count": null,
            "_view_module": "@jupyter-widgets/base",
            "_view_module_version": "1.2.0",
            "_view_name": "StyleView",
            "description_width": ""
          }
        },
        "b77dfd4eb3474ecdbe638fd7058f4049": {
          "model_module": "@jupyter-widgets/base",
          "model_name": "LayoutModel",
          "model_module_version": "1.2.0",
          "state": {
            "_model_module": "@jupyter-widgets/base",
            "_model_module_version": "1.2.0",
            "_model_name": "LayoutModel",
            "_view_count": null,
            "_view_module": "@jupyter-widgets/base",
            "_view_module_version": "1.2.0",
            "_view_name": "LayoutView",
            "align_content": null,
            "align_items": null,
            "align_self": null,
            "border": null,
            "bottom": null,
            "display": null,
            "flex": null,
            "flex_flow": null,
            "grid_area": null,
            "grid_auto_columns": null,
            "grid_auto_flow": null,
            "grid_auto_rows": null,
            "grid_column": null,
            "grid_gap": null,
            "grid_row": null,
            "grid_template_areas": null,
            "grid_template_columns": null,
            "grid_template_rows": null,
            "height": null,
            "justify_content": null,
            "justify_items": null,
            "left": null,
            "margin": null,
            "max_height": null,
            "max_width": null,
            "min_height": null,
            "min_width": null,
            "object_fit": null,
            "object_position": null,
            "order": null,
            "overflow": null,
            "overflow_x": null,
            "overflow_y": null,
            "padding": null,
            "right": null,
            "top": null,
            "visibility": null,
            "width": null
          }
        },
        "419baf1a416b4681b942675406def00a": {
          "model_module": "@jupyter-widgets/controls",
          "model_name": "ProgressStyleModel",
          "model_module_version": "1.5.0",
          "state": {
            "_model_module": "@jupyter-widgets/controls",
            "_model_module_version": "1.5.0",
            "_model_name": "ProgressStyleModel",
            "_view_count": null,
            "_view_module": "@jupyter-widgets/base",
            "_view_module_version": "1.2.0",
            "_view_name": "StyleView",
            "bar_color": null,
            "description_width": ""
          }
        },
        "8452f590e55f4a7290731f180ce06834": {
          "model_module": "@jupyter-widgets/base",
          "model_name": "LayoutModel",
          "model_module_version": "1.2.0",
          "state": {
            "_model_module": "@jupyter-widgets/base",
            "_model_module_version": "1.2.0",
            "_model_name": "LayoutModel",
            "_view_count": null,
            "_view_module": "@jupyter-widgets/base",
            "_view_module_version": "1.2.0",
            "_view_name": "LayoutView",
            "align_content": null,
            "align_items": null,
            "align_self": null,
            "border": null,
            "bottom": null,
            "display": null,
            "flex": null,
            "flex_flow": null,
            "grid_area": null,
            "grid_auto_columns": null,
            "grid_auto_flow": null,
            "grid_auto_rows": null,
            "grid_column": null,
            "grid_gap": null,
            "grid_row": null,
            "grid_template_areas": null,
            "grid_template_columns": null,
            "grid_template_rows": null,
            "height": null,
            "justify_content": null,
            "justify_items": null,
            "left": null,
            "margin": null,
            "max_height": null,
            "max_width": null,
            "min_height": null,
            "min_width": null,
            "object_fit": null,
            "object_position": null,
            "order": null,
            "overflow": null,
            "overflow_x": null,
            "overflow_y": null,
            "padding": null,
            "right": null,
            "top": null,
            "visibility": null,
            "width": null
          }
        },
        "4afb3919921a4b8591982bdced67e3a2": {
          "model_module": "@jupyter-widgets/controls",
          "model_name": "DescriptionStyleModel",
          "model_module_version": "1.5.0",
          "state": {
            "_model_module": "@jupyter-widgets/controls",
            "_model_module_version": "1.5.0",
            "_model_name": "DescriptionStyleModel",
            "_view_count": null,
            "_view_module": "@jupyter-widgets/base",
            "_view_module_version": "1.2.0",
            "_view_name": "StyleView",
            "description_width": ""
          }
        }
      }
    }
  },
  "nbformat": 4,
  "nbformat_minor": 0
}