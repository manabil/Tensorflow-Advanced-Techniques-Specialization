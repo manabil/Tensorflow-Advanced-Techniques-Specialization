{
  "cells": [
    {
      "cell_type": "markdown",
      "metadata": {
        "id": "view-in-github",
        "colab_type": "text"
      },
      "source": [
        "<a href=\"https://colab.research.google.com/github/manabil/Tensorflow-Advanced-Techniques-Specialization/blob/main/Custom%20Models%2C%20Layers%2C%20Loss%20Functions%20with%20Tensorflow/Week%204/C1_W4_Lab_1_basic_model.ipynb\" target=\"_parent\"><img src=\"https://colab.research.google.com/assets/colab-badge.svg\" alt=\"Open In Colab\"/></a>"
      ]
    },
    {
      "cell_type": "markdown",
      "metadata": {
        "id": "eNHEP6_bdTUY"
      },
      "source": [
        "# Ungraded Lab: Coding a Wide and Deep Model\n",
        "\n",
        "In this lab, we'll show how you can implement a wide and deep model. We'll first look at how to build it with the Functional API then show how to encapsulate this into a class. Let's get started!"
      ]
    },
    {
      "cell_type": "markdown",
      "metadata": {
        "id": "YWaYS_6UdTUg"
      },
      "source": [
        "## Imports"
      ]
    },
    {
      "cell_type": "code",
      "execution_count": 1,
      "metadata": {
        "colab": {
          "base_uri": "https://localhost:8080/"
        },
        "id": "CmI9MQA6Z72_",
        "outputId": "572b34b6-0012-4a9f-fd37-6bbffbc54c86"
      },
      "outputs": [
        {
          "output_type": "stream",
          "name": "stdout",
          "text": [
            "Colab only includes TensorFlow 2.x; %tensorflow_version has no effect.\n"
          ]
        }
      ],
      "source": [
        "try:\n",
        "    # %tensorflow_version only exists in Colab.\n",
        "    %tensorflow_version 2.x\n",
        "except Exception:\n",
        "    pass;\n",
        "\n",
        "import tensorflow as tf;\n",
        "from tensorflow.keras.layers import Dense;\n",
        "from tensorflow.keras import Model;\n",
        "from tensorflow.keras.layers import concatenate;\n",
        "from tensorflow.keras.layers import Input;\n",
        "from tensorflow.keras.utils import plot_model;"
      ]
    },
    {
      "cell_type": "markdown",
      "source": [
        "## Build the Model\n",
        "\n",
        "Let's implement the wide and deep model as shown in class. As shown below, the Functional API is very flexible in implementing complex models.\n",
        "- You will specify the previous layer when you define a new layer.\n",
        "- When you define the `Model`, you will specify the inputs and output."
      ],
      "metadata": {
        "id": "8RKbMogoaHvc"
      }
    },
    {
      "cell_type": "code",
      "execution_count": 6,
      "metadata": {
        "id": "Uz4pA6uEucZ8",
        "colab": {
          "base_uri": "https://localhost:8080/",
          "height": 466
        },
        "outputId": "f723b225-3ce7-442e-d9ee-12627ea3b4ab"
      },
      "outputs": [
        {
          "output_type": "execute_result",
          "data": {
            "image/png": "[encoded data removed]",
            "text/plain": [
              "<IPython.core.display.Image object>"
            ]
          },
          "metadata": {},
          "execution_count": 6
        }
      ],
      "source": [
        "# define inputs\n",
        "input_a: tf.keras.layers.Layer = Input(shape=[1], name=\"Wide_Input\");\n",
        "input_b: tf.keras.layers.Layer = Input(shape=[1], name=\"Deep_Input\");\n",
        "\n",
        "# define deep path\n",
        "hidden_1: tf.keras.layers.Layer = Dense(30, activation=\"relu\")(input_b);\n",
        "hidden_2: tf.keras.layers.Layer = Dense(30, activation=\"relu\")(hidden_1);\n",
        "\n",
        "# define merged path\n",
        "concat: tf.keras.layers.Layer = concatenate([input_a, hidden_2]);\n",
        "output: tf.keras.layers.Layer = Dense(1, name=\"Output\")(concat);\n",
        "\n",
        "# define another output for the deep path\n",
        "aux_output: tf.keras.layers.Layer = Dense(1,name=\"aux_Output\")(hidden_2);\n",
        "\n",
        "# build the model\n",
        "model: tf.keras.Model = Model(\n",
        "    inputs=[input_a, input_b], outputs=[output, aux_output]\n",
        ");\n",
        "\n",
        "# visualize the architecture\n",
        "plot_model(model);"
      ]
    },
    {
      "cell_type": "markdown",
      "metadata": {
        "id": "Bf3P95Z5dTUy"
      },
      "source": [
        "## Implement as a Class\n",
        "\n",
        "Alternatively, you can also implement this same model as a class.\n",
        "- For that, you define a class that inherits from the [Model](https://keras.io/api/models/model/) class.\n",
        "- Inheriting from the existing `Model` class lets you use the Model methods such as `compile()`, `fit()`, `evaluate()`.\n",
        "\n",
        "When inheriting from `Model`, you will want to define at least two functions:\n",
        "- `__init__()`: you will initialize the instance attributes.\n",
        "- `call()`: you will build the network and return the output layers.\n",
        "\n",
        "If you compare the two methods, the structure is very similar, except when using the class, you'll define all the layers in one function, `init`, and connect the layers together in another function, `call`."
      ]
    },
    {
      "cell_type": "code",
      "execution_count": 7,
      "metadata": {
        "id": "NwyCp57qqdXS"
      },
      "outputs": [],
      "source": [
        "# inherit from the Model base class\n",
        "class WideAndDeepModel(Model):\n",
        "    def __init__(self,\n",
        "                 units: int=30,\n",
        "                 activation: str='relu',\n",
        "                 **kwargs) -> None:\n",
        "        '''initializes the instance attributes'''\n",
        "        super().__init__(**kwargs);\n",
        "        self.hidden1: tf.keras.layers.Layer = Dense(\n",
        "            units, activation=activation\n",
        "        );\n",
        "        self.hidden2: tf.keras.layers.Layer = Dense(\n",
        "            units, activation=activation\n",
        "        );\n",
        "        self.main_output: tf.keras.layers.Layer = Dense(1);\n",
        "        self.aux_output: tf.keras.layers.Layer = Dense(1);\n",
        "\n",
        "    def call(self, inputs: tf.Tensor) -> tuple[tf.Tensor, ...]:\n",
        "        '''defines the network architecture'''\n",
        "        input_A: tf.Tensor;\n",
        "        input_B: tf.Tensor;\n",
        "        input_A, input_B = inputs;\n",
        "        hidden1: tf.keras.layers.Layer = self.hidden1(input_B);\n",
        "        hidden2: tf.keras.layers.Layer = self.hidden2(hidden1);\n",
        "        concat: tf.keras.layers.Layer = concatenate([input_A, hidden2]);\n",
        "        main_output: tf.keras.layers.Layer = self.main_output(concat);\n",
        "        aux_output: tf.keras.layers.Layer = self.aux_output(hidden2);\n",
        "\n",
        "        return main_output, aux_output;\n"
      ]
    },
    {
      "cell_type": "code",
      "execution_count": 8,
      "metadata": {
        "id": "KVOkjlgwuD_9"
      },
      "outputs": [],
      "source": [
        "# create an instance of the model\n",
        "model = WideAndDeepModel()"
      ]
    }
  ],
  "metadata": {
    "colab": {
      "provenance": [],
      "include_colab_link": true
    },
    "kernelspec": {
      "display_name": "Python 3",
      "language": "python",
      "name": "python3"
    },
    "language_info": {
      "codemirror_mode": {
        "name": "ipython",
        "version": 3
      },
      "file_extension": ".py",
      "mimetype": "text/x-python",
      "name": "python",
      "nbconvert_exporter": "python",
      "pygments_lexer": "ipython3",
      "version": "3.7.6"
    }
  },
  "nbformat": 4,
  "nbformat_minor": 0
}